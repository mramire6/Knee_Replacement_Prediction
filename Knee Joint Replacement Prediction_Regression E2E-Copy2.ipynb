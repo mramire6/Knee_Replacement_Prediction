{
 "cells": [
  {
   "cell_type": "markdown",
   "metadata": {},
   "source": [
    "# Knee Joint Replacement Prediction Regression Model\n",
    "\n",
    "I recently finished an in-depth data exploration on the regional healthcare costs in New York State where I singled out knee joint replacement surgeries as one the most common medical procedures performed, and one of the most expensive (costs can vary by more than 100,000 USD). [Analysis Here](https://towardsdatascience.com/data-analysis-of-new-york-state-regional-healthcare-costs-d72fb579601f?sk=daaf2cd532299476b6e0314ad109fa09)\n",
    "\n",
    "Despite only a moderate increase in [patient volumes](https://medium.com/@mramire6/healthcare-costs-in-new-york-state-b7672ade9492) (11,000 new patients treated in 2016 compared to 2009) their costs have skyrocketed over time. In an effort to help New York State residents financially plan for this medical procedure, I decided to build a machine learning model that could predict the cost of a knee joint replacement surgery. My goal was to have this model complement other healthcare cost estimators available to give patients more financial information. I framed this problem as a supervised regression task using a single batch of data."
   ]
  },
  {
   "cell_type": "markdown",
   "metadata": {},
   "source": [
    "## Workflow:\n",
    "1. Frame the problem and look at the big picture.\n",
    "2. Get the data.\n",
    "3. Explore the data to gain insights.\n",
    "4. Prepare the data to better expose the underlying data patterns to Machine Learning algorithms.\n",
    "5. Explore many different models and short-list the best ones.\n",
    "6. Fine-tune your models and combine them into a great solution. __In Progress__\n",
    "7. Present your solution. __Incomplete__\n",
    "8. Launch, monitor, and maintain your system. __Incomplete__"
   ]
  },
  {
   "cell_type": "markdown",
   "metadata": {},
   "source": [
    "## Frame the Problem and look at the big picture.\n",
    "\n",
    "- Supervised Regression Model. 1 batch of data. Offline.\n",
    "- Who is the model for? Consumers who want to get an additional estimate on their health insurance cost.\n",
    "- Why? The more the better (especially when you only get 1 value from your provider, if you have one). \n",
    "- What will the model output? An estimated cost with an error.\n",
    "- What diseases will it work for? It will initially work only for knee joint replacement surgery.\n",
    "- Why will it only work for this disease? My previous analysis showed it to be one of the more interesting conditions to look at and one with high variability in costs."
   ]
  },
  {
   "cell_type": "markdown",
   "metadata": {},
   "source": [
    "## 2. Get the Data"
   ]
  },
  {
   "cell_type": "code",
   "execution_count": 1,
   "metadata": {},
   "outputs": [],
   "source": [
    "#Import the necessary libraries to perform exploratory data analysis\n",
    "\n",
    "import pandas as pd\n",
    "import numpy as np\n",
    "\n",
    "import matplotlib.pyplot as plt\n",
    "import matplotlib as mpl\n",
    "import seaborn as sns"
   ]
  },
  {
   "cell_type": "markdown",
   "metadata": {},
   "source": [
    "The data was obtained from the NYS Department of Health [website.](https://health.data.ny.gov/Health/Hospital-Inpatient-Discharges-SPARCS-De-Identified/gnzp-ekau) This data is 2016 Hospital Inpatient Discharges (SPARCS de-identified). It contains basic record level detail for individual discharges. "
   ]
  },
  {
   "cell_type": "markdown",
   "metadata": {},
   "source": [
    "From my previous __[analysis](https://towardsdatascience.com/data-analysis-of-new-york-state-regional-healthcare-costs-d72fb579601f)__, knee joint replacement surgery was one of the most interesting medical conditions. Let's build a model to predict its charge. "
   ]
  },
  {
   "cell_type": "code",
   "execution_count": 2,
   "metadata": {},
   "outputs": [
    {
     "name": "stderr",
     "output_type": "stream",
     "text": [
      "/Users/manuelramirez/anaconda3/lib/python3.7/site-packages/IPython/core/interactiveshell.py:3020: DtypeWarning: Columns (11) have mixed types. Specify dtype option on import or set low_memory=False.\n",
      "  interactivity=interactivity, compiler=compiler, result=result)\n"
     ]
    },
    {
     "data": {
      "text/html": [
       "<div>\n",
       "<style scoped>\n",
       "    .dataframe tbody tr th:only-of-type {\n",
       "        vertical-align: middle;\n",
       "    }\n",
       "\n",
       "    .dataframe tbody tr th {\n",
       "        vertical-align: top;\n",
       "    }\n",
       "\n",
       "    .dataframe thead th {\n",
       "        text-align: right;\n",
       "    }\n",
       "</style>\n",
       "<table border=\"1\" class=\"dataframe\">\n",
       "  <thead>\n",
       "    <tr style=\"text-align: right;\">\n",
       "      <th></th>\n",
       "      <th>Unnamed: 0</th>\n",
       "      <th>Health Service Area</th>\n",
       "      <th>Hospital County</th>\n",
       "      <th>Operating Certificate Number</th>\n",
       "      <th>Facility Id</th>\n",
       "      <th>Facility Name</th>\n",
       "      <th>Age Group</th>\n",
       "      <th>Zip Code - 3 digits</th>\n",
       "      <th>Gender</th>\n",
       "      <th>Race</th>\n",
       "      <th>...</th>\n",
       "      <th>Payment Typology 3</th>\n",
       "      <th>Attending Provider License Number</th>\n",
       "      <th>Operating Provider License Number</th>\n",
       "      <th>Other Provider License Number</th>\n",
       "      <th>Birth Weight</th>\n",
       "      <th>Abortion Edit Indicator</th>\n",
       "      <th>Emergency Department Indicator</th>\n",
       "      <th>Total Charges</th>\n",
       "      <th>Total Costs</th>\n",
       "      <th>Ratio of Total Costs to Total Charges</th>\n",
       "    </tr>\n",
       "  </thead>\n",
       "  <tbody>\n",
       "    <tr>\n",
       "      <th>0</th>\n",
       "      <td>35</td>\n",
       "      <td>Western NY</td>\n",
       "      <td>Allegany</td>\n",
       "      <td>228000.0</td>\n",
       "      <td>39.0</td>\n",
       "      <td>Memorial Hosp of Wm F &amp; Gertrude F Jones A/K/A...</td>\n",
       "      <td>50 to 69</td>\n",
       "      <td>148</td>\n",
       "      <td>M</td>\n",
       "      <td>White</td>\n",
       "      <td>...</td>\n",
       "      <td>Self-Pay</td>\n",
       "      <td>213053.0</td>\n",
       "      <td>213053.0</td>\n",
       "      <td>NaN</td>\n",
       "      <td>0</td>\n",
       "      <td>N</td>\n",
       "      <td>N</td>\n",
       "      <td>23344.75</td>\n",
       "      <td>11281.89</td>\n",
       "      <td>0.483273</td>\n",
       "    </tr>\n",
       "    <tr>\n",
       "      <th>1</th>\n",
       "      <td>36</td>\n",
       "      <td>Western NY</td>\n",
       "      <td>Allegany</td>\n",
       "      <td>228000.0</td>\n",
       "      <td>39.0</td>\n",
       "      <td>Memorial Hosp of Wm F &amp; Gertrude F Jones A/K/A...</td>\n",
       "      <td>50 to 69</td>\n",
       "      <td>148</td>\n",
       "      <td>F</td>\n",
       "      <td>White</td>\n",
       "      <td>...</td>\n",
       "      <td>Self-Pay</td>\n",
       "      <td>213053.0</td>\n",
       "      <td>213053.0</td>\n",
       "      <td>NaN</td>\n",
       "      <td>0</td>\n",
       "      <td>N</td>\n",
       "      <td>N</td>\n",
       "      <td>25154.00</td>\n",
       "      <td>12415.67</td>\n",
       "      <td>0.493586</td>\n",
       "    </tr>\n",
       "    <tr>\n",
       "      <th>2</th>\n",
       "      <td>101</td>\n",
       "      <td>Western NY</td>\n",
       "      <td>Allegany</td>\n",
       "      <td>228000.0</td>\n",
       "      <td>39.0</td>\n",
       "      <td>Memorial Hosp of Wm F &amp; Gertrude F Jones A/K/A...</td>\n",
       "      <td>50 to 69</td>\n",
       "      <td>148</td>\n",
       "      <td>F</td>\n",
       "      <td>White</td>\n",
       "      <td>...</td>\n",
       "      <td>Self-Pay</td>\n",
       "      <td>213053.0</td>\n",
       "      <td>213053.0</td>\n",
       "      <td>NaN</td>\n",
       "      <td>0</td>\n",
       "      <td>N</td>\n",
       "      <td>N</td>\n",
       "      <td>29389.50</td>\n",
       "      <td>14873.56</td>\n",
       "      <td>0.506084</td>\n",
       "    </tr>\n",
       "    <tr>\n",
       "      <th>3</th>\n",
       "      <td>103</td>\n",
       "      <td>Western NY</td>\n",
       "      <td>Allegany</td>\n",
       "      <td>228000.0</td>\n",
       "      <td>39.0</td>\n",
       "      <td>Memorial Hosp of Wm F &amp; Gertrude F Jones A/K/A...</td>\n",
       "      <td>50 to 69</td>\n",
       "      <td>148</td>\n",
       "      <td>M</td>\n",
       "      <td>White</td>\n",
       "      <td>...</td>\n",
       "      <td>Private Health Insurance</td>\n",
       "      <td>213053.0</td>\n",
       "      <td>213053.0</td>\n",
       "      <td>NaN</td>\n",
       "      <td>0</td>\n",
       "      <td>N</td>\n",
       "      <td>N</td>\n",
       "      <td>25029.50</td>\n",
       "      <td>12402.49</td>\n",
       "      <td>0.495515</td>\n",
       "    </tr>\n",
       "    <tr>\n",
       "      <th>4</th>\n",
       "      <td>106</td>\n",
       "      <td>Western NY</td>\n",
       "      <td>Allegany</td>\n",
       "      <td>228000.0</td>\n",
       "      <td>39.0</td>\n",
       "      <td>Memorial Hosp of Wm F &amp; Gertrude F Jones A/K/A...</td>\n",
       "      <td>70 or Older</td>\n",
       "      <td>148</td>\n",
       "      <td>F</td>\n",
       "      <td>White</td>\n",
       "      <td>...</td>\n",
       "      <td>Self-Pay</td>\n",
       "      <td>213053.0</td>\n",
       "      <td>213053.0</td>\n",
       "      <td>NaN</td>\n",
       "      <td>0</td>\n",
       "      <td>N</td>\n",
       "      <td>N</td>\n",
       "      <td>28976.00</td>\n",
       "      <td>14547.43</td>\n",
       "      <td>0.502051</td>\n",
       "    </tr>\n",
       "  </tbody>\n",
       "</table>\n",
       "<p>5 rows × 39 columns</p>\n",
       "</div>"
      ],
      "text/plain": [
       "   Unnamed: 0 Health Service Area Hospital County  \\\n",
       "0          35          Western NY        Allegany   \n",
       "1          36          Western NY        Allegany   \n",
       "2         101          Western NY        Allegany   \n",
       "3         103          Western NY        Allegany   \n",
       "4         106          Western NY        Allegany   \n",
       "\n",
       "   Operating Certificate Number  Facility Id  \\\n",
       "0                      228000.0         39.0   \n",
       "1                      228000.0         39.0   \n",
       "2                      228000.0         39.0   \n",
       "3                      228000.0         39.0   \n",
       "4                      228000.0         39.0   \n",
       "\n",
       "                                       Facility Name    Age Group  \\\n",
       "0  Memorial Hosp of Wm F & Gertrude F Jones A/K/A...     50 to 69   \n",
       "1  Memorial Hosp of Wm F & Gertrude F Jones A/K/A...     50 to 69   \n",
       "2  Memorial Hosp of Wm F & Gertrude F Jones A/K/A...     50 to 69   \n",
       "3  Memorial Hosp of Wm F & Gertrude F Jones A/K/A...     50 to 69   \n",
       "4  Memorial Hosp of Wm F & Gertrude F Jones A/K/A...  70 or Older   \n",
       "\n",
       "  Zip Code - 3 digits Gender   Race                  ...                    \\\n",
       "0                 148      M  White                  ...                     \n",
       "1                 148      F  White                  ...                     \n",
       "2                 148      F  White                  ...                     \n",
       "3                 148      M  White                  ...                     \n",
       "4                 148      F  White                  ...                     \n",
       "\n",
       "         Payment Typology 3 Attending Provider License Number  \\\n",
       "0                  Self-Pay                          213053.0   \n",
       "1                  Self-Pay                          213053.0   \n",
       "2                  Self-Pay                          213053.0   \n",
       "3  Private Health Insurance                          213053.0   \n",
       "4                  Self-Pay                          213053.0   \n",
       "\n",
       "  Operating Provider License Number Other Provider License Number  \\\n",
       "0                          213053.0                           NaN   \n",
       "1                          213053.0                           NaN   \n",
       "2                          213053.0                           NaN   \n",
       "3                          213053.0                           NaN   \n",
       "4                          213053.0                           NaN   \n",
       "\n",
       "   Birth Weight  Abortion Edit Indicator Emergency Department Indicator  \\\n",
       "0             0                        N                              N   \n",
       "1             0                        N                              N   \n",
       "2             0                        N                              N   \n",
       "3             0                        N                              N   \n",
       "4             0                        N                              N   \n",
       "\n",
       "   Total Charges Total Costs  Ratio of Total Costs to Total Charges  \n",
       "0       23344.75    11281.89                               0.483273  \n",
       "1       25154.00    12415.67                               0.493586  \n",
       "2       29389.50    14873.56                               0.506084  \n",
       "3       25029.50    12402.49                               0.495515  \n",
       "4       28976.00    14547.43                               0.502051  \n",
       "\n",
       "[5 rows x 39 columns]"
      ]
     },
     "execution_count": 2,
     "metadata": {},
     "output_type": "execute_result"
    }
   ],
   "source": [
    "#Read the .csv file\n",
    "df_original = pd.read_csv('../Blog Post 3/Hospital_Inpatient_Discharges_SPARCS_DeIdentified_2016_KneeReplacement_Only.csv')\n",
    "\n",
    "#Make a copy and work through the copy.\n",
    "df = df_original.copy()\n",
    "\n",
    "#Get an initial impression of the dataframe.\n",
    "df.head()"
   ]
  },
  {
   "cell_type": "code",
   "execution_count": 3,
   "metadata": {},
   "outputs": [
    {
     "name": "stdout",
     "output_type": "stream",
     "text": [
      "<class 'pandas.core.frame.DataFrame'>\n",
      "RangeIndex: 39824 entries, 0 to 39823\n",
      "Data columns (total 39 columns):\n",
      "Unnamed: 0                               39824 non-null int64\n",
      "Health Service Area                      39824 non-null object\n",
      "Hospital County                          39824 non-null object\n",
      "Operating Certificate Number             39824 non-null float64\n",
      "Facility Id                              39824 non-null float64\n",
      "Facility Name                            39824 non-null object\n",
      "Age Group                                39824 non-null object\n",
      "Zip Code - 3 digits                      39806 non-null object\n",
      "Gender                                   39824 non-null object\n",
      "Race                                     39824 non-null object\n",
      "Ethnicity                                39824 non-null object\n",
      "Length of Stay                           39824 non-null object\n",
      "Type of Admission                        39824 non-null object\n",
      "Patient Disposition                      39824 non-null object\n",
      "Discharge Year                           39824 non-null int64\n",
      "CCS Diagnosis Code                       39824 non-null int64\n",
      "CCS Diagnosis Description                39824 non-null object\n",
      "CCS Procedure Code                       39824 non-null int64\n",
      "CCS Procedure Description                39824 non-null object\n",
      "APR DRG Code                             39824 non-null int64\n",
      "APR DRG Description                      39824 non-null object\n",
      "APR MDC Code                             39824 non-null int64\n",
      "APR MDC Description                      39824 non-null object\n",
      "APR Severity of Illness Code             39824 non-null int64\n",
      "APR Severity of Illness Description      39824 non-null object\n",
      "APR Risk of Mortality                    39824 non-null object\n",
      "APR Medical Surgical Description         39824 non-null object\n",
      "Payment Typology 1                       39824 non-null object\n",
      "Payment Typology 2                       22572 non-null object\n",
      "Payment Typology 3                       8059 non-null object\n",
      "Attending Provider License Number        39824 non-null float64\n",
      "Operating Provider License Number        39824 non-null float64\n",
      "Other Provider License Number            1854 non-null float64\n",
      "Birth Weight                             39824 non-null int64\n",
      "Abortion Edit Indicator                  39824 non-null object\n",
      "Emergency Department Indicator           39824 non-null object\n",
      "Total Charges                            39824 non-null float64\n",
      "Total Costs                              39824 non-null float64\n",
      "Ratio of Total Costs to Total Charges    39824 non-null float64\n",
      "dtypes: float64(8), int64(8), object(23)\n",
      "memory usage: 11.8+ MB\n"
     ]
    }
   ],
   "source": [
    "#There are now 39,824 instances and they are now all related to knee joint replacement surgery. \n",
    "df.info()"
   ]
  },
  {
   "cell_type": "markdown",
   "metadata": {},
   "source": [
    "Notice how some of the feature columns do not add up to 39,824. There are some zip codes missing, payment typology 2, payment typology 3, other provider license number that are missing entries."
   ]
  },
  {
   "cell_type": "code",
   "execution_count": 48,
   "metadata": {},
   "outputs": [],
   "source": [
    "#Let's work through the columns, identify those we can eliminate, and drop them. We want to eliminate redundant information or\n",
    "#information a patient may not know on their own.\n",
    "\n",
    "df.columns.tolist() #Output below\n",
    "\n",
    "#Comment those columns we want to keep.\n",
    "col2drop = ['Health Service Area', #This is their designation for hospital region. Drop it since we'll use our own. Drop. \n",
    "            #'Hospital County',                                                              #Data Type: Nominal\n",
    "            'Operating Certificate Number', #We do not need the operating certificate number of the facility. Drop. \n",
    "            #'Facility Id',                                                                  #Data Type: Nominal\n",
    "            #'Facility Name',                                                                #Data Type: Nominal\n",
    "            #'Age Group',                                                                    #Data Type: Ordinal\n",
    "            'Zip Code - 3 digits', #We won't incorporate socioeconomic status of the patient. Drop.\n",
    "            #'Gender',                                                                       #Data Type: Nominal\n",
    "            #'Race',                                                                         #Data Type: Nominal\n",
    "            #'Ethnicity',                                                                    #Data Type: Nominal\n",
    "            #'Length of Stay',                                                               #Data Type: Ordinal\n",
    "            #'Type of Admission',                                                            #Data Type: Nominal\n",
    "            #'Patient Disposition',                                                          #Data Type: Nominal\n",
    "            'Discharge Year', #We know the discharge year is 2016. Drop. \n",
    "            'CCS Diagnosis Code', #Additional information not needed since we are basing codes on APR DRG. Drop. \n",
    "            'CCS Diagnosis Description', #Same as above. Drop. \n",
    "            'CCS Procedure Code', #Additional information not needed since we are basing codes on APR DRG. Drop. \n",
    "            'CCS Procedure Description', #Same as above. Drop. \n",
    "            'APR DRG Code', #We've already filtered out the other conditions so we don't need this anymore. Drop. \n",
    "            'APR DRG Description', #Same as above. Drop. \n",
    "            'APR MDC Code', #Additional information not needed. We know knee joint replacement is related to musculoskeletal. Drop.\n",
    "            'APR MDC Description', #Same as above. Drop. \n",
    "            #'APR Severity of Illness Code',                                                 #Data Type: Ordinal\n",
    "            #'APR Severity of Illness Description',                                          #Data Type: Ordinal\n",
    "            #'APR Risk of Mortality',                                                        #Data Type: Ordinal\n",
    "            'APR Medical Surgical Description', #Joint knee replacement is a surgical procedure. This is already known. Drop.\n",
    "            #'Payment Typology 1',                                                           #Data Type: Nominal\n",
    "            #'Payment Typology 2',                                                           #Data Type: Nominal\n",
    "            #'Payment Typology 3',                                                           #Data Type: Nominal\n",
    "            'Attending Provider License Number', #Patients would not realistically know this level of information. Drop. \n",
    "            'Operating Provider License Number', #Patients would not realistically know this level of information. Drop. \n",
    "            'Other Provider License Number', #Patients would not realistically know this level of information. Drop. \n",
    "            'Birth Weight', #Relevant only to newborns. Drop. \n",
    "            'Abortion Edit Indicator', #Relevant only for abortion medical procedures. Drop. \n",
    "            #'Emergency Department Indicator',                                               #Data Type: Binary\n",
    "            #'Total Charges',                                                                #Data Type: Continuous\n",
    "            #'Total Costs',                                                                  #Data Type: Continuous\n",
    "            #'Ratio of Total Costs to Total Charges'                                         #Data Type: Continuous\n",
    "             ]\n",
    "df = df.drop(labels=col2drop,axis=1).reset_index(drop=True)"
   ]
  },
  {
   "cell_type": "markdown",
   "metadata": {},
   "source": [
    "***"
   ]
  },
  {
   "cell_type": "markdown",
   "metadata": {},
   "source": [
    "## 3. Discover, explore and visualize the data to gain insights"
   ]
  },
  {
   "cell_type": "code",
   "execution_count": 49,
   "metadata": {},
   "outputs": [],
   "source": [
    "def dataexplore_pie(df,column_label):\n",
    "    \n",
    "    random_i = np.random.permutation(len(df.loc[:,column_label].value_counts()))\n",
    "    \n",
    "    category_labels = df.loc[:,column_label].value_counts()[random_i].index\n",
    "    values = df.loc[:,column_label].value_counts()[random_i]\n",
    "    values_perc = values / values.sum() * 100\n",
    "    \n",
    "    wedgeprops = {'linewidth':1.5,'edgecolor':'black'}\n",
    "    textprops = {'fontsize':13,'fontstyle':'italic'}\n",
    "\n",
    "    annotated_labels = [category_labels.tolist()[i] + ', ' + str(values_perc[i].round(2)) + '%' \\\n",
    "                        for i in range(0,len(category_labels))]\n",
    "\n",
    "    fig = plt.figure(figsize=(5,5))\n",
    "    ax = fig.add_subplot(1,1,1)  \n",
    "    ax.pie(values_perc,wedgeprops=wedgeprops,labels=annotated_labels,textprops=textprops)\n",
    "    \n",
    "    plt.show()"
   ]
  },
  {
   "cell_type": "code",
   "execution_count": 50,
   "metadata": {},
   "outputs": [
    {
     "data": {
      "image/png": "[encoded data removed]",
      "text/plain": [
       "<Figure size 360x360 with 1 Axes>"
      ]
     },
     "metadata": {},
     "output_type": "display_data"
    }
   ],
   "source": [
    "dataexplore_pie(df,'Race')"
   ]
  },
  {
   "cell_type": "code",
   "execution_count": 51,
   "metadata": {},
   "outputs": [
    {
     "data": {
      "image/png": "[encoded data removed]",
      "text/plain": [
       "<Figure size 360x360 with 1 Axes>"
      ]
     },
     "metadata": {},
     "output_type": "display_data"
    }
   ],
   "source": [
    "dataexplore_pie(df,'Age Group')"
   ]
  },
  {
   "cell_type": "code",
   "execution_count": 52,
   "metadata": {},
   "outputs": [
    {
     "data": {
      "image/png": "[encoded data removed]",
      "text/plain": [
       "<Figure size 360x360 with 1 Axes>"
      ]
     },
     "metadata": {},
     "output_type": "display_data"
    }
   ],
   "source": [
    "dataexplore_pie(df,'Gender')"
   ]
  },
  {
   "cell_type": "code",
   "execution_count": 53,
   "metadata": {},
   "outputs": [
    {
     "data": {
      "image/png": "[encoded data removed]",
      "text/plain": [
       "<Figure size 360x360 with 1 Axes>"
      ]
     },
     "metadata": {},
     "output_type": "display_data"
    }
   ],
   "source": [
    "dataexplore_pie(df,'Ethnicity')"
   ]
  },
  {
   "cell_type": "markdown",
   "metadata": {},
   "source": [
    "***"
   ]
  },
  {
   "cell_type": "markdown",
   "metadata": {},
   "source": [
    "## 4. Prepare the data to better expose the underlying data patterns to Machine Learning algorithms."
   ]
  },
  {
   "cell_type": "markdown",
   "metadata": {},
   "source": [
    "__Go through column by column modifying it to better fit the underlying data patterns in ML algorithms.__"
   ]
  },
  {
   "cell_type": "code",
   "execution_count": 54,
   "metadata": {},
   "outputs": [
    {
     "data": {
      "text/plain": [
       "['Hospital County',\n",
       " 'Facility Id',\n",
       " 'Facility Name',\n",
       " 'Age Group',\n",
       " 'Gender',\n",
       " 'Race',\n",
       " 'Ethnicity',\n",
       " 'Length of Stay',\n",
       " 'Type of Admission',\n",
       " 'Patient Disposition',\n",
       " 'APR Severity of Illness Code',\n",
       " 'APR Severity of Illness Description',\n",
       " 'APR Risk of Mortality',\n",
       " 'Payment Typology 1',\n",
       " 'Payment Typology 2',\n",
       " 'Payment Typology 3',\n",
       " 'Emergency Department Indicator',\n",
       " 'Total Charges',\n",
       " 'Total Costs',\n",
       " 'Ratio of Total Costs to Total Charges']"
      ]
     },
     "execution_count": 54,
     "metadata": {},
     "output_type": "execute_result"
    }
   ],
   "source": [
    "#Let's go through each column in order. We'll skip Hospital County since it will be used for \n",
    "#feature engineering at the end.\n",
    "df.columns.tolist()"
   ]
  },
  {
   "cell_type": "markdown",
   "metadata": {},
   "source": [
    "__Facility Id and Facility Name__"
   ]
  },
  {
   "cell_type": "markdown",
   "metadata": {},
   "source": [
    "Facility Id and Facility name both refer to the same information. I'll keep Facility Id since it is easier to work with than a string of names. The Id tag to the facility poses an interesting challenge. It would certainly be one of the input features a patient would know. However, because this feature has high cardinality, encoding it is a challenge. OneHotEncoding would generate too many columns and we'd end up with the curse of dimensionality. <br>\n",
    "\n",
    "Instead, I'll incorporate the lattitude/longitude information for each hospital. In my previous __[blog post](https://towardsdatascience.com/data-analysis-of-new-york-state-regional-healthcare-costs-d72fb579601f)__ I used the General Healthcare Facility to obtain this information. I will use it again here."
   ]
  },
  {
   "cell_type": "code",
   "execution_count": 55,
   "metadata": {},
   "outputs": [
    {
     "data": {
      "text/html": [
       "<div>\n",
       "<style scoped>\n",
       "    .dataframe tbody tr th:only-of-type {\n",
       "        vertical-align: middle;\n",
       "    }\n",
       "\n",
       "    .dataframe tbody tr th {\n",
       "        vertical-align: top;\n",
       "    }\n",
       "\n",
       "    .dataframe thead th {\n",
       "        text-align: right;\n",
       "    }\n",
       "</style>\n",
       "<table border=\"1\" class=\"dataframe\">\n",
       "  <thead>\n",
       "    <tr style=\"text-align: right;\">\n",
       "      <th></th>\n",
       "      <th>Facility Id</th>\n",
       "      <th>Facility Name</th>\n",
       "    </tr>\n",
       "  </thead>\n",
       "  <tbody>\n",
       "    <tr>\n",
       "      <th>0</th>\n",
       "      <td>39.0</td>\n",
       "      <td>Memorial Hosp of Wm F &amp; Gertrude F Jones A/K/A...</td>\n",
       "    </tr>\n",
       "    <tr>\n",
       "      <th>24</th>\n",
       "      <td>66.0</td>\n",
       "      <td>Olean General Hospital</td>\n",
       "    </tr>\n",
       "    <tr>\n",
       "      <th>103</th>\n",
       "      <td>98.0</td>\n",
       "      <td>Brooks Memorial Hospital</td>\n",
       "    </tr>\n",
       "    <tr>\n",
       "      <th>277</th>\n",
       "      <td>103.0</td>\n",
       "      <td>Woman's Christian Association</td>\n",
       "    </tr>\n",
       "    <tr>\n",
       "      <th>288</th>\n",
       "      <td>114.0</td>\n",
       "      <td>TLC Health Network Lake Shore Hospital</td>\n",
       "    </tr>\n",
       "  </tbody>\n",
       "</table>\n",
       "</div>"
      ],
      "text/plain": [
       "     Facility Id                                      Facility Name\n",
       "0           39.0  Memorial Hosp of Wm F & Gertrude F Jones A/K/A...\n",
       "24          66.0                             Olean General Hospital\n",
       "103         98.0                           Brooks Memorial Hospital\n",
       "277        103.0                      Woman's Christian Association\n",
       "288        114.0             TLC Health Network Lake Shore Hospital"
      ]
     },
     "execution_count": 55,
     "metadata": {},
     "output_type": "execute_result"
    }
   ],
   "source": [
    "#Facility Id and Facility name both refer to the same information. I'll keep Facility Id since it is easier to work with.\n",
    "#First, I'll create a new dataframe that maps the two together. \n",
    "df_hosp_id = df.loc[:,['Facility Id','Facility Name']].drop_duplicates(keep='first')\n",
    "df_hosp_id.head()"
   ]
  },
  {
   "cell_type": "markdown",
   "metadata": {},
   "source": [
    "__Facility Id.__"
   ]
  },
  {
   "cell_type": "code",
   "execution_count": 56,
   "metadata": {},
   "outputs": [],
   "source": [
    "#Read health facility general information dataset\n",
    "df_healthfacility = pd.read_csv('../Blog Post 2/Health_Facility_General_Information.csv',usecols=['Facility ID','Facility Latitude','Facility Longitude'])"
   ]
  },
  {
   "cell_type": "code",
   "execution_count": 57,
   "metadata": {},
   "outputs": [],
   "source": [
    "#Merge the general health facility dataframe based on facility ids.\n",
    "df = df.merge(df_healthfacility,\n",
    "              how='left',\n",
    "              left_on='Facility Id',\n",
    "              right_on='Facility ID')\n",
    "df = df.drop(columns='Facility ID')"
   ]
  },
  {
   "cell_type": "code",
   "execution_count": 58,
   "metadata": {},
   "outputs": [
    {
     "data": {
      "text/plain": [
       "array([ 776., 3376.])"
      ]
     },
     "execution_count": 58,
     "metadata": {},
     "output_type": "execute_result"
    }
   ],
   "source": [
    "#Double check to see all facilities have their corresponding lattitude and longitude information.\n",
    "df.loc[df.loc[:,'Facility Latitude'].isna(),'Facility Id'].unique() \n",
    "\n",
    "#2 Facilities did not. "
   ]
  },
  {
   "cell_type": "code",
   "execution_count": 59,
   "metadata": {},
   "outputs": [
    {
     "data": {
      "text/plain": [
       "array(['Nyack Hospital',\n",
       "       \"Long Island Jewish Schneiders Children's Hospital Division\"],\n",
       "      dtype=object)"
      ]
     },
     "execution_count": 59,
     "metadata": {},
     "output_type": "execute_result"
    }
   ],
   "source": [
    "#What are their names?\n",
    "df.loc[df.loc[:,'Facility Latitude'].isna(),'Facility Name'].unique()"
   ]
  },
  {
   "cell_type": "code",
   "execution_count": 60,
   "metadata": {},
   "outputs": [],
   "source": [
    "#Add the lattitude/longitude information for each. I used Google Maps to find the facility by its name \n",
    "#and got its geotags.\n",
    "df.loc[df.loc[:,'Facility Name'] == 'Nyack Hospital','Facility Latitude'] = 41.097133\n",
    "df.loc[df.loc[:,'Facility Name'] == 'Nyack Hospital','Facility Longitude'] = -73.926049\n",
    "\n",
    "df.loc[df.loc[:,'Facility Name'] == \"Long Island Jewish Schneiders Children's Hospital Division\",'Facility Latitude'] = 40.753661\n",
    "df.loc[df.loc[:,'Facility Name'] == \"Long Island Jewish Schneiders Children's Hospital Division\",'Facility Longitude'] = -73.707514"
   ]
  },
  {
   "cell_type": "code",
   "execution_count": 61,
   "metadata": {},
   "outputs": [],
   "source": [
    "#I also made sure to add the missing geotags back into the general health facility dataframe for reference.\n",
    "missing_geotags = {'Facility ID':[776,3376],\n",
    "                   'Facility Latitude':[41.097133,-73.926049],\n",
    "                   'Facility Longitude':[40.753661,-73.707514]}\n",
    "df_healthfacility = df_healthfacility.append(pd.DataFrame.from_dict(missing_geotags),sort=False,ignore_index=True)"
   ]
  },
  {
   "cell_type": "code",
   "execution_count": 62,
   "metadata": {},
   "outputs": [
    {
     "data": {
      "text/plain": [
       "array([], dtype=object)"
      ]
     },
     "execution_count": 62,
     "metadata": {},
     "output_type": "execute_result"
    }
   ],
   "source": [
    "#Double check to see all facilities have their corresponding lattitude and longitude information. \n",
    "df.loc[df.loc[:,'Facility Latitude'].isna(),'Facility Name'].unique() \n",
    "\n",
    "#No missing information is present."
   ]
  },
  {
   "cell_type": "markdown",
   "metadata": {},
   "source": [
    "_We'll keep the facility Id and facility name until we are finished encoding/feature engineering. Then we will drop them._"
   ]
  },
  {
   "cell_type": "markdown",
   "metadata": {},
   "source": [
    "__Age Group__"
   ]
  },
  {
   "cell_type": "code",
   "execution_count": 63,
   "metadata": {},
   "outputs": [
    {
     "data": {
      "text/plain": [
       "['0 to 17', '18 to 29', '30 to 49', '50 to 69', '70 or Older']"
      ]
     },
     "execution_count": 63,
     "metadata": {},
     "output_type": "execute_result"
    }
   ],
   "source": [
    "#What are the age group labels?\n",
    "age_group_labels = (df.loc[:,'Age Group']).astype('category').cat.categories.tolist()\n",
    "age_group_labels\n",
    "\n",
    "#This feature can be replaced with a label encoder. It is also ordinal.  "
   ]
  },
  {
   "cell_type": "code",
   "execution_count": 64,
   "metadata": {},
   "outputs": [],
   "source": [
    "#Replace the age groups with a numerical encoding.\n",
    "replace_age_group = {'Age Group': {k: v for k,v in zip(age_group_labels,list(range(1,len(age_group_labels)+1)))}}\n",
    "df = df.replace(replace_age_group)\n",
    "#replace_age_group"
   ]
  },
  {
   "cell_type": "markdown",
   "metadata": {},
   "source": [
    "__Gender__"
   ]
  },
  {
   "cell_type": "code",
   "execution_count": 65,
   "metadata": {},
   "outputs": [
    {
     "data": {
      "text/plain": [
       "['M', 'F']"
      ]
     },
     "execution_count": 65,
     "metadata": {},
     "output_type": "execute_result"
    }
   ],
   "source": [
    "#What are the Gender labels?\n",
    "(df.loc[:,'Gender']).unique().tolist()\n",
    "#This feature can be replaced with a label encoder. It is binary."
   ]
  },
  {
   "cell_type": "code",
   "execution_count": 66,
   "metadata": {},
   "outputs": [],
   "source": [
    "#Replace the gender with a binary numerical encoding.\n",
    "gender_labels = (df.loc[:,'Gender']).unique().tolist()\n",
    "replace_gender = {'Gender':{'M':0,'F':1}}\n",
    "replace_gender\n",
    "df = df.replace(replace_gender)"
   ]
  },
  {
   "cell_type": "markdown",
   "metadata": {},
   "source": [
    "__Length of Stay__"
   ]
  },
  {
   "cell_type": "markdown",
   "metadata": {},
   "source": [
    "_Nobody really knows for sure how long you'll stay in the hospital after a surgery. Hopefully, it's as little time as possible. The data reports the exact number of days, but realistically, you'd only know a range of days depending on how you heal. Therefore binning this category makes the most amount of sense. I decided to make two bins. Above or below 5 days at the hospital._"
   ]
  },
  {
   "cell_type": "code",
   "execution_count": 67,
   "metadata": {},
   "outputs": [
    {
     "data": {
      "text/plain": [
       "array(['3', '4', '6', '13', '5', '11', '8', '2', '1', '15', '7', '20',\n",
       "       '10', '9', '14', '49', '37', '16', '23', '12', '22', '44', '21', 6,\n",
       "       1, 2, 5, 4, 3, 7, 8, 44, 42, 15, 9, '17', '18', 11, 13, '47', '25',\n",
       "       19, '35', '19', '36', 20, 14, 10, '70', '71', '59', '120 +', '31',\n",
       "       '43', '102', '58', '55', '30', '78', '48', '24', '29', '38', '42',\n",
       "       '34', 17, 18, 27, '27'], dtype=object)"
      ]
     },
     "execution_count": 67,
     "metadata": {},
     "output_type": "execute_result"
    }
   ],
   "source": [
    "#What are the values for length of stay?\n",
    "df['Length of Stay'].unique()"
   ]
  },
  {
   "cell_type": "markdown",
   "metadata": {},
   "source": [
    "_First, correct the entry that is non-numerical. There is a label for patients who stay longer than 120 days (labeled as '120 +'). Since we do not know exactly how many days above 120 the patients stayed for, I will simply change this value to 120._ "
   ]
  },
  {
   "cell_type": "code",
   "execution_count": 68,
   "metadata": {},
   "outputs": [],
   "source": [
    "#Change 120+ to 120\n",
    "df.loc[df.loc[:,'Length of Stay'] == '120 +','Length of Stay'] = 120"
   ]
  },
  {
   "cell_type": "code",
   "execution_count": 69,
   "metadata": {},
   "outputs": [
    {
     "data": {
      "text/plain": [
       "3    37.828947\n",
       "2    27.430695\n",
       "4     9.185416\n",
       "1     6.021495\n",
       "5     3.643532\n",
       "Name: Length of Stay, dtype: float64"
      ]
     },
     "execution_count": 69,
     "metadata": {},
     "output_type": "execute_result"
    }
   ],
   "source": [
    "(df.loc[:,'Length of Stay'].value_counts() / df.shape[0] * 100).head()"
   ]
  },
  {
   "cell_type": "code",
   "execution_count": 70,
   "metadata": {},
   "outputs": [],
   "source": [
    "#Bin Cast True/False boolean series to 1/0 values.\n",
    "df['Length of Stay'] = df['Length of Stay'].astype('uint8')\n",
    "df['Length of Stay'] = (df.loc[:,'Length of Stay'] < 5).astype('uint8')\n",
    "\n",
    "#Create a dict for reference in the future if needed.\n",
    "replace_lengthofstay = {'Less than 5 days':1,'More than 5 days':0}"
   ]
  },
  {
   "cell_type": "markdown",
   "metadata": {},
   "source": [
    "__Type of Admission.__"
   ]
  },
  {
   "cell_type": "code",
   "execution_count": 71,
   "metadata": {},
   "outputs": [
    {
     "data": {
      "text/plain": [
       "Elective         96.411712\n",
       "Emergency         1.908397\n",
       "Urgent            1.624648\n",
       "Newborn           0.035155\n",
       "Not Available     0.012555\n",
       "Trauma            0.007533\n",
       "Name: Type of Admission, dtype: float64"
      ]
     },
     "execution_count": 71,
     "metadata": {},
     "output_type": "execute_result"
    }
   ],
   "source": [
    "#What are the values for type of admission?\n",
    "df.loc[:,'Type of Admission'].value_counts() / df.loc[:,'Type of Admission'].value_counts().sum() * 100"
   ]
  },
  {
   "cell_type": "markdown",
   "metadata": {},
   "source": [
    "_As expected, knee joint replacement surgery is an elective surgery. However, between 1% - 2% of patients are labelled as emergency or urgent. The other categories are negligible. Let's combine newborn, not available and trauma as 'Other Admission Type'_"
   ]
  },
  {
   "cell_type": "code",
   "execution_count": 72,
   "metadata": {},
   "outputs": [],
   "source": [
    "top_admission_type = df.loc[:,'Type of Admission'].value_counts().index[0:4].tolist()\n",
    "bool_admission_type = df.loc[:,'Type of Admission'].isin(top_admission_type)\n",
    "df.loc[~bool_admission_type,'Type of Admission'] = 'Other Admission Type'"
   ]
  },
  {
   "cell_type": "markdown",
   "metadata": {},
   "source": [
    "__Patient Disposition.__"
   ]
  },
  {
   "cell_type": "code",
   "execution_count": 73,
   "metadata": {},
   "outputs": [
    {
     "data": {
      "text/plain": [
       "19"
      ]
     },
     "execution_count": 73,
     "metadata": {},
     "output_type": "execute_result"
    }
   ],
   "source": [
    "df.loc[:,'Patient Disposition'].unique().size"
   ]
  },
  {
   "cell_type": "code",
   "execution_count": 74,
   "metadata": {},
   "outputs": [
    {
     "data": {
      "text/plain": [
       "Home w/ Home Health Services             45.025613\n",
       "Skilled Nursing Home                     26.705002\n",
       "Home or Self Care                        20.439936\n",
       "Inpatient Rehabilitation Facility         6.842607\n",
       "Short-term Hospital                       0.399257\n",
       "Hosp Basd Medicare Approved Swing Bed     0.135597\n",
       "Another Type Not Listed                   0.123041\n",
       "Cancer Center or Children's Hospital      0.072820\n",
       "Court/Law Enforcement                     0.050221\n",
       "Hospice - Home                            0.047710\n",
       "Expired                                   0.042688\n",
       "Facility w/ Custodial/Supportive Care     0.030133\n",
       "Left Against Medical Advice               0.027622\n",
       "Medicaid Cert Nursing Facility            0.017577\n",
       "Hospice - Medical Facility                0.017577\n",
       "Psychiatric Hospital or Unit of Hosp      0.007533\n",
       "Medicare Cert Long Term Care Hospital     0.007533\n",
       "Federal Health Care Facility              0.005022\n",
       "Critical Access Hospital                  0.002511\n",
       "Name: Patient Disposition, dtype: float64"
      ]
     },
     "execution_count": 74,
     "metadata": {},
     "output_type": "execute_result"
    }
   ],
   "source": [
    "df.loc[:,'Patient Disposition'].value_counts() / df.loc[:,'Patient Disposition'].value_counts().sum() * 100"
   ]
  },
  {
   "cell_type": "markdown",
   "metadata": {},
   "source": [
    "_Patient dispostion related to what happened to the patient after they left the hospital. 99% of patients fell into 4 categories. They either went home with home health services, went into a skilled nursing home, went home without a home health service (self care) or went into an inpatient rehab facility. Again, let's combine all the other cateogires and label them as 'Other Disposition'._"
   ]
  },
  {
   "cell_type": "code",
   "execution_count": 75,
   "metadata": {},
   "outputs": [],
   "source": [
    "#Replace all 15 categories as 'Other'\n",
    "\n",
    "#Create list of names of the top patient disposition categories\n",
    "top_patient_disp = df.loc[:,'Patient Disposition'].value_counts().index[0:4].tolist() \n",
    "\n",
    "#Create boolean mask for all the entries that have one of the names of the top patient disposition categories\n",
    "bool_patient_disp = df.loc[:,'Patient Disposition'].isin(top_patient_disp)\n",
    "\n",
    "#Replace all the False values to Other Disposition\n",
    "df.loc[~bool_patient_disp,'Patient Disposition'] = 'Other Disposition'"
   ]
  },
  {
   "cell_type": "markdown",
   "metadata": {},
   "source": [
    "__Severity of Illness__"
   ]
  },
  {
   "cell_type": "code",
   "execution_count": 76,
   "metadata": {},
   "outputs": [
    {
     "data": {
      "text/html": [
       "<div>\n",
       "<style scoped>\n",
       "    .dataframe tbody tr th:only-of-type {\n",
       "        vertical-align: middle;\n",
       "    }\n",
       "\n",
       "    .dataframe tbody tr th {\n",
       "        vertical-align: top;\n",
       "    }\n",
       "\n",
       "    .dataframe thead th {\n",
       "        text-align: right;\n",
       "    }\n",
       "</style>\n",
       "<table border=\"1\" class=\"dataframe\">\n",
       "  <thead>\n",
       "    <tr style=\"text-align: right;\">\n",
       "      <th></th>\n",
       "      <th>APR Severity of Illness Code</th>\n",
       "      <th>APR Severity of Illness Description</th>\n",
       "    </tr>\n",
       "  </thead>\n",
       "  <tbody>\n",
       "    <tr>\n",
       "      <th>0</th>\n",
       "      <td>1</td>\n",
       "      <td>Minor</td>\n",
       "    </tr>\n",
       "    <tr>\n",
       "      <th>3</th>\n",
       "      <td>2</td>\n",
       "      <td>Moderate</td>\n",
       "    </tr>\n",
       "    <tr>\n",
       "      <th>5</th>\n",
       "      <td>4</td>\n",
       "      <td>Extreme</td>\n",
       "    </tr>\n",
       "    <tr>\n",
       "      <th>6</th>\n",
       "      <td>3</td>\n",
       "      <td>Major</td>\n",
       "    </tr>\n",
       "  </tbody>\n",
       "</table>\n",
       "</div>"
      ],
      "text/plain": [
       "   APR Severity of Illness Code APR Severity of Illness Description\n",
       "0                             1                               Minor\n",
       "3                             2                            Moderate\n",
       "5                             4                             Extreme\n",
       "6                             3                               Major"
      ]
     },
     "execution_count": 76,
     "metadata": {},
     "output_type": "execute_result"
    }
   ],
   "source": [
    "#Severity of Illness is self explanatory. Let's create a mapping for it and use the code values (since they are inherently\n",
    "#numerical) as a label encoder within our dataframe.\n",
    "df_SOI_id = df.loc[:,['APR Severity of Illness Code','APR Severity of Illness Description']].drop_duplicates(keep='first')\n",
    "df_SOI_id"
   ]
  },
  {
   "cell_type": "code",
   "execution_count": 77,
   "metadata": {},
   "outputs": [],
   "source": [
    "df = df.drop(labels=['APR Severity of Illness Description'],axis=1).reset_index(drop=True)"
   ]
  },
  {
   "cell_type": "markdown",
   "metadata": {},
   "source": [
    "__Risk of Mortality.__"
   ]
  },
  {
   "cell_type": "code",
   "execution_count": 78,
   "metadata": {},
   "outputs": [],
   "source": [
    "#Risk of Mortality is also self explanatory. In this dataframe however it is explained with strings. Let's replace them with\n",
    "#numerical values instead. \n",
    "APR_risk_mort_dict = {'Minor':1,'Moderate':2,'Extreme':3,'Major':4}\n",
    "df.loc[:,'APR Risk of Mortality'] = df.loc[:,'APR Risk of Mortality'].map(APR_risk_mort_dict)"
   ]
  },
  {
   "cell_type": "markdown",
   "metadata": {},
   "source": [
    "__Payment Typology.__"
   ]
  },
  {
   "cell_type": "markdown",
   "metadata": {},
   "source": [
    "There are 3 columns for payment typology. They refer to how the patient paid for the procedure. "
   ]
  },
  {
   "cell_type": "code",
   "execution_count": 79,
   "metadata": {},
   "outputs": [
    {
     "data": {
      "text/html": [
       "<div>\n",
       "<style scoped>\n",
       "    .dataframe tbody tr th:only-of-type {\n",
       "        vertical-align: middle;\n",
       "    }\n",
       "\n",
       "    .dataframe tbody tr th {\n",
       "        vertical-align: top;\n",
       "    }\n",
       "\n",
       "    .dataframe thead th {\n",
       "        text-align: right;\n",
       "    }\n",
       "</style>\n",
       "<table border=\"1\" class=\"dataframe\">\n",
       "  <thead>\n",
       "    <tr style=\"text-align: right;\">\n",
       "      <th></th>\n",
       "      <th>Payment Typology 1</th>\n",
       "      <th>Payment Typology 2</th>\n",
       "      <th>Payment Typology 3</th>\n",
       "    </tr>\n",
       "  </thead>\n",
       "  <tbody>\n",
       "    <tr>\n",
       "      <th>0</th>\n",
       "      <td>Private Health Insurance</td>\n",
       "      <td>Self-Pay</td>\n",
       "      <td>Self-Pay</td>\n",
       "    </tr>\n",
       "    <tr>\n",
       "      <th>1</th>\n",
       "      <td>Blue Cross/Blue Shield</td>\n",
       "      <td>Self-Pay</td>\n",
       "      <td>Self-Pay</td>\n",
       "    </tr>\n",
       "    <tr>\n",
       "      <th>2</th>\n",
       "      <td>Medicare</td>\n",
       "      <td>Medicaid</td>\n",
       "      <td>Self-Pay</td>\n",
       "    </tr>\n",
       "    <tr>\n",
       "      <th>3</th>\n",
       "      <td>Medicare</td>\n",
       "      <td>Blue Cross/Blue Shield</td>\n",
       "      <td>Private Health Insurance</td>\n",
       "    </tr>\n",
       "    <tr>\n",
       "      <th>4</th>\n",
       "      <td>Medicare</td>\n",
       "      <td>Medicare</td>\n",
       "      <td>Self-Pay</td>\n",
       "    </tr>\n",
       "  </tbody>\n",
       "</table>\n",
       "</div>"
      ],
      "text/plain": [
       "         Payment Typology 1      Payment Typology 2        Payment Typology 3\n",
       "0  Private Health Insurance                Self-Pay                  Self-Pay\n",
       "1    Blue Cross/Blue Shield                Self-Pay                  Self-Pay\n",
       "2                  Medicare                Medicaid                  Self-Pay\n",
       "3                  Medicare  Blue Cross/Blue Shield  Private Health Insurance\n",
       "4                  Medicare                Medicare                  Self-Pay"
      ]
     },
     "execution_count": 79,
     "metadata": {},
     "output_type": "execute_result"
    }
   ],
   "source": [
    "df.loc[:,['Payment Typology 1','Payment Typology 2','Payment Typology 3']].head()"
   ]
  },
  {
   "cell_type": "code",
   "execution_count": 80,
   "metadata": {},
   "outputs": [
    {
     "data": {
      "text/plain": [
       "['Private Health Insurance',\n",
       " 'Blue Cross/Blue Shield',\n",
       " 'Medicare',\n",
       " 'Self-Pay',\n",
       " 'Medicaid',\n",
       " 'Miscellaneous/Other',\n",
       " 'Federal/State/Local/VA',\n",
       " 'Department of Corrections',\n",
       " 'Managed Care, Unspecified',\n",
       " 'Unknown']"
      ]
     },
     "execution_count": 80,
     "metadata": {},
     "output_type": "execute_result"
    }
   ],
   "source": [
    "df.loc[:,'Payment Typology 1'].unique().tolist()"
   ]
  },
  {
   "cell_type": "markdown",
   "metadata": {},
   "source": [
    "There are 11 different ways a patient can pay (one category is NaN which is included in Payment Typology 2 and Payment Typology 3, but not Payment Typology 1). What I will do is create 10 different categories and mark 1 or 0 (like OneHotEncoding) if a patient used this type of payment. Repeat payments will not be considered (i.e. if medicaid came in two times it will only be listed once). NaNs will be combined with the 'Unknown' category. "
   ]
  },
  {
   "cell_type": "code",
   "execution_count": 81,
   "metadata": {},
   "outputs": [],
   "source": [
    "df.loc[:,['Payment Typology 1','Payment Typology 2','Payment Typology 3']].fillna(value='Unknown') #Replace NaN's\n",
    "\n",
    "payment_typology = df.loc[:,'Payment Typology 1'].unique().tolist() #Get list of new column names\n",
    "df[payment_typology] = pd.DataFrame(np.zeros((df.shape[0],len(payment_typology))),index=df.index) #Add columns\n",
    "\n",
    "#Label Encoding for Payment Typology\n",
    "for payment in payment_typology:\n",
    "    b_payment = (df.loc[:,['Payment Typology 1','Payment Typology 2','Payment Typology 3']] == payment)\n",
    "    df.loc[np.nonzero(b_payment.sum(axis=1))[0],payment] = 1\n",
    "    df[payment] = df[payment].astype(dtype='uint8')\n",
    "\n",
    "#Drop old column names\n",
    "df = df.drop(labels=['Payment Typology 1','Payment Typology 2','Payment Typology 3'],axis=1).reset_index(drop=True)\n",
    "\n",
    "#New column names\n",
    "payment_typology_mapper = {payment_name:(str('Payment Typology_') + payment_name) for payment_name in payment_typology}\n",
    "df = df.rename(columns=payment_typology_mapper)    "
   ]
  },
  {
   "cell_type": "code",
   "execution_count": 83,
   "metadata": {},
   "outputs": [
    {
     "data": {
      "text/html": [
       "<div>\n",
       "<style scoped>\n",
       "    .dataframe tbody tr th:only-of-type {\n",
       "        vertical-align: middle;\n",
       "    }\n",
       "\n",
       "    .dataframe tbody tr th {\n",
       "        vertical-align: top;\n",
       "    }\n",
       "\n",
       "    .dataframe thead th {\n",
       "        text-align: right;\n",
       "    }\n",
       "</style>\n",
       "<table border=\"1\" class=\"dataframe\">\n",
       "  <thead>\n",
       "    <tr style=\"text-align: right;\">\n",
       "      <th></th>\n",
       "      <th>Payment Typology_Private Health Insurance</th>\n",
       "      <th>Payment Typology_Blue Cross/Blue Shield</th>\n",
       "      <th>Payment Typology_Medicare</th>\n",
       "      <th>Payment Typology_Self-Pay</th>\n",
       "      <th>Payment Typology_Medicaid</th>\n",
       "      <th>Payment Typology_Miscellaneous/Other</th>\n",
       "      <th>Payment Typology_Federal/State/Local/VA</th>\n",
       "      <th>Payment Typology_Department of Corrections</th>\n",
       "      <th>Payment Typology_Managed Care, Unspecified</th>\n",
       "      <th>Payment Typology_Unknown</th>\n",
       "    </tr>\n",
       "  </thead>\n",
       "  <tbody>\n",
       "    <tr>\n",
       "      <th>0</th>\n",
       "      <td>1</td>\n",
       "      <td>0</td>\n",
       "      <td>0</td>\n",
       "      <td>1</td>\n",
       "      <td>0</td>\n",
       "      <td>0</td>\n",
       "      <td>0</td>\n",
       "      <td>0</td>\n",
       "      <td>0</td>\n",
       "      <td>0</td>\n",
       "    </tr>\n",
       "    <tr>\n",
       "      <th>1</th>\n",
       "      <td>0</td>\n",
       "      <td>1</td>\n",
       "      <td>0</td>\n",
       "      <td>1</td>\n",
       "      <td>0</td>\n",
       "      <td>0</td>\n",
       "      <td>0</td>\n",
       "      <td>0</td>\n",
       "      <td>0</td>\n",
       "      <td>0</td>\n",
       "    </tr>\n",
       "    <tr>\n",
       "      <th>2</th>\n",
       "      <td>0</td>\n",
       "      <td>0</td>\n",
       "      <td>1</td>\n",
       "      <td>1</td>\n",
       "      <td>1</td>\n",
       "      <td>0</td>\n",
       "      <td>0</td>\n",
       "      <td>0</td>\n",
       "      <td>0</td>\n",
       "      <td>0</td>\n",
       "    </tr>\n",
       "    <tr>\n",
       "      <th>3</th>\n",
       "      <td>1</td>\n",
       "      <td>1</td>\n",
       "      <td>1</td>\n",
       "      <td>0</td>\n",
       "      <td>0</td>\n",
       "      <td>0</td>\n",
       "      <td>0</td>\n",
       "      <td>0</td>\n",
       "      <td>0</td>\n",
       "      <td>0</td>\n",
       "    </tr>\n",
       "    <tr>\n",
       "      <th>4</th>\n",
       "      <td>0</td>\n",
       "      <td>0</td>\n",
       "      <td>1</td>\n",
       "      <td>1</td>\n",
       "      <td>0</td>\n",
       "      <td>0</td>\n",
       "      <td>0</td>\n",
       "      <td>0</td>\n",
       "      <td>0</td>\n",
       "      <td>0</td>\n",
       "    </tr>\n",
       "  </tbody>\n",
       "</table>\n",
       "</div>"
      ],
      "text/plain": [
       "   Payment Typology_Private Health Insurance  \\\n",
       "0                                          1   \n",
       "1                                          0   \n",
       "2                                          0   \n",
       "3                                          1   \n",
       "4                                          0   \n",
       "\n",
       "   Payment Typology_Blue Cross/Blue Shield  Payment Typology_Medicare  \\\n",
       "0                                        0                          0   \n",
       "1                                        1                          0   \n",
       "2                                        0                          1   \n",
       "3                                        1                          1   \n",
       "4                                        0                          1   \n",
       "\n",
       "   Payment Typology_Self-Pay  Payment Typology_Medicaid  \\\n",
       "0                          1                          0   \n",
       "1                          1                          0   \n",
       "2                          1                          1   \n",
       "3                          0                          0   \n",
       "4                          1                          0   \n",
       "\n",
       "   Payment Typology_Miscellaneous/Other  \\\n",
       "0                                     0   \n",
       "1                                     0   \n",
       "2                                     0   \n",
       "3                                     0   \n",
       "4                                     0   \n",
       "\n",
       "   Payment Typology_Federal/State/Local/VA  \\\n",
       "0                                        0   \n",
       "1                                        0   \n",
       "2                                        0   \n",
       "3                                        0   \n",
       "4                                        0   \n",
       "\n",
       "   Payment Typology_Department of Corrections  \\\n",
       "0                                           0   \n",
       "1                                           0   \n",
       "2                                           0   \n",
       "3                                           0   \n",
       "4                                           0   \n",
       "\n",
       "   Payment Typology_Managed Care, Unspecified  Payment Typology_Unknown  \n",
       "0                                           0                         0  \n",
       "1                                           0                         0  \n",
       "2                                           0                         0  \n",
       "3                                           0                         0  \n",
       "4                                           0                         0  "
      ]
     },
     "execution_count": 83,
     "metadata": {},
     "output_type": "execute_result"
    }
   ],
   "source": [
    "df.iloc[:,18:].head()"
   ]
  },
  {
   "cell_type": "markdown",
   "metadata": {},
   "source": [
    "__Emergency Department Indicator.__"
   ]
  },
  {
   "cell_type": "code",
   "execution_count": 84,
   "metadata": {},
   "outputs": [],
   "source": [
    "#This feature can be replaced with a label encoder. It is binary.\n",
    "ed_indicator_labels = ['N','Y']\n",
    "replace_ed_indicator = {'Emergency Department Indicator':{'Y':0,'N':1}}\n",
    "df = df.replace(replace_ed_indicator)"
   ]
  },
  {
   "cell_type": "markdown",
   "metadata": {},
   "source": [
    "***"
   ]
  },
  {
   "cell_type": "markdown",
   "metadata": {},
   "source": [
    "## Feature Engineering"
   ]
  },
  {
   "cell_type": "markdown",
   "metadata": {},
   "source": [
    "In my previous analysis I had created new terms to analyze hospital costs. I'll incorporate them here as well. \n",
    "- The first will be adding 1 of the 9 geographical regions to the hospital. \n",
    "- The second will denote the relative cost of the hospital in 3 different scales (at the NYS scale, at the regional scale, at the county scale). \n",
    "- The third will denote the market share of the hospital by knee joint replacmeent patient discharge volume in 2016 at different scales (at the NYS scale, at the regional scale, at the county scale). "
   ]
  },
  {
   "cell_type": "markdown",
   "metadata": {},
   "source": [
    "__Feature Engineering: Geographical Region__"
   ]
  },
  {
   "cell_type": "code",
   "execution_count": 85,
   "metadata": {},
   "outputs": [
    {
     "data": {
      "text/html": [
       "<div>\n",
       "<style scoped>\n",
       "    .dataframe tbody tr th:only-of-type {\n",
       "        vertical-align: middle;\n",
       "    }\n",
       "\n",
       "    .dataframe tbody tr th {\n",
       "        vertical-align: top;\n",
       "    }\n",
       "\n",
       "    .dataframe thead th {\n",
       "        text-align: right;\n",
       "    }\n",
       "</style>\n",
       "<table border=\"1\" class=\"dataframe\">\n",
       "  <thead>\n",
       "    <tr style=\"text-align: right;\">\n",
       "      <th></th>\n",
       "      <th>Geographical Region</th>\n",
       "      <th>Geographical County</th>\n",
       "    </tr>\n",
       "  </thead>\n",
       "  <tbody>\n",
       "    <tr>\n",
       "      <th>0</th>\n",
       "      <td>Long Island</td>\n",
       "      <td>Nassau</td>\n",
       "    </tr>\n",
       "    <tr>\n",
       "      <th>1</th>\n",
       "      <td>Long Island</td>\n",
       "      <td>Suffolk</td>\n",
       "    </tr>\n",
       "    <tr>\n",
       "      <th>2</th>\n",
       "      <td>New York City</td>\n",
       "      <td>Kings</td>\n",
       "    </tr>\n",
       "    <tr>\n",
       "      <th>3</th>\n",
       "      <td>New York City</td>\n",
       "      <td>Bronx</td>\n",
       "    </tr>\n",
       "    <tr>\n",
       "      <th>4</th>\n",
       "      <td>New York City</td>\n",
       "      <td>Manhattan</td>\n",
       "    </tr>\n",
       "  </tbody>\n",
       "</table>\n",
       "</div>"
      ],
      "text/plain": [
       "  Geographical Region Geographical County\n",
       "0         Long Island              Nassau\n",
       "1         Long Island             Suffolk\n",
       "2       New York City               Kings\n",
       "3       New York City               Bronx\n",
       "4       New York City           Manhattan"
      ]
     },
     "execution_count": 85,
     "metadata": {},
     "output_type": "execute_result"
    }
   ],
   "source": [
    "regions = pd.Series({'Long Island':['Nassau','Suffolk'],\n",
    "           'New York City':['Kings','Bronx','Manhattan','Queens','Richmond'],\n",
    "           'Lower Hudson Valley':['Dutchess','Orange','Putnam','Rockland','Sullivan','Ulster','Westchester'], \n",
    "           'Capital Region':['Albany','Columbia','Delaware','Greene','Montgomery','Otsego','Rensselaer','Schenectady','Schoharie'], \n",
    "           'Eastern Adirondacks':['Clinton','Essex','Franklin','Fulton','Hamilton','Saratoga','Warren','Washington'],\n",
    "           'Western Adirondacks':['Herkimer','Jefferson','Lewis','Oneida','St Lawrence'],\n",
    "           'Central NY':['Broome','Cayuga','Chenango','Cortland','Madison','Onondaga','Oswego','Tioga','Tompkins'],\n",
    "           'Finger Lakes':['Chemung','Genesee','Livingston','Monroe','Ontario','Orleans','Schuyler','Seneca', 'Steuben','Wayne','Yates'],\n",
    "           'Western New York':['Allegany','Chautauqua','Cattaraugus','Erie','Niagara','Wyoming']})\n",
    "\n",
    "df_region = pd.DataFrame(columns=['Geographical Region','Geographical County'])\n",
    "for i in range(len(regions)):\n",
    "    for counties in regions[i]:\n",
    "        df_region = df_region.append({'Geographical Region':regions.index[i],'Geographical County':counties},ignore_index=True) \n",
    "df_region.head()"
   ]
  },
  {
   "cell_type": "code",
   "execution_count": 86,
   "metadata": {},
   "outputs": [],
   "source": [
    "#Merge Region with dataframe\n",
    "df = df.merge(df_region,how='left',left_on='Hospital County',right_on='Geographical County')\n",
    "df = df.drop(columns='Geographical County')"
   ]
  },
  {
   "cell_type": "code",
   "execution_count": 87,
   "metadata": {},
   "outputs": [
    {
     "data": {
      "text/plain": [
       "array([], dtype=object)"
      ]
     },
     "execution_count": 87,
     "metadata": {},
     "output_type": "execute_result"
    }
   ],
   "source": [
    "df.loc[df.loc[:,'Geographical Region'].isna(),'Geographical Region'].unique() #All entries are accounted for"
   ]
  },
  {
   "cell_type": "code",
   "execution_count": 89,
   "metadata": {},
   "outputs": [
    {
     "data": {
      "text/html": [
       "<div>\n",
       "<style scoped>\n",
       "    .dataframe tbody tr th:only-of-type {\n",
       "        vertical-align: middle;\n",
       "    }\n",
       "\n",
       "    .dataframe tbody tr th {\n",
       "        vertical-align: top;\n",
       "    }\n",
       "\n",
       "    .dataframe thead th {\n",
       "        text-align: right;\n",
       "    }\n",
       "</style>\n",
       "<table border=\"1\" class=\"dataframe\">\n",
       "  <thead>\n",
       "    <tr style=\"text-align: right;\">\n",
       "      <th></th>\n",
       "      <th>Hospital County</th>\n",
       "      <th>Facility Id</th>\n",
       "      <th>Facility Name</th>\n",
       "      <th>Age Group</th>\n",
       "      <th>Gender</th>\n",
       "      <th>Race</th>\n",
       "      <th>Ethnicity</th>\n",
       "      <th>Length of Stay</th>\n",
       "      <th>Type of Admission</th>\n",
       "      <th>Patient Disposition</th>\n",
       "      <th>...</th>\n",
       "      <th>Payment Typology_Blue Cross/Blue Shield</th>\n",
       "      <th>Payment Typology_Medicare</th>\n",
       "      <th>Payment Typology_Self-Pay</th>\n",
       "      <th>Payment Typology_Medicaid</th>\n",
       "      <th>Payment Typology_Miscellaneous/Other</th>\n",
       "      <th>Payment Typology_Federal/State/Local/VA</th>\n",
       "      <th>Payment Typology_Department of Corrections</th>\n",
       "      <th>Payment Typology_Managed Care, Unspecified</th>\n",
       "      <th>Payment Typology_Unknown</th>\n",
       "      <th>Geographical Region</th>\n",
       "    </tr>\n",
       "  </thead>\n",
       "  <tbody>\n",
       "    <tr>\n",
       "      <th>0</th>\n",
       "      <td>Allegany</td>\n",
       "      <td>39.0</td>\n",
       "      <td>Memorial Hosp of Wm F &amp; Gertrude F Jones A/K/A...</td>\n",
       "      <td>4</td>\n",
       "      <td>0</td>\n",
       "      <td>White</td>\n",
       "      <td>Not Span/Hispanic</td>\n",
       "      <td>1</td>\n",
       "      <td>Elective</td>\n",
       "      <td>Home or Self Care</td>\n",
       "      <td>...</td>\n",
       "      <td>0</td>\n",
       "      <td>0</td>\n",
       "      <td>1</td>\n",
       "      <td>0</td>\n",
       "      <td>0</td>\n",
       "      <td>0</td>\n",
       "      <td>0</td>\n",
       "      <td>0</td>\n",
       "      <td>0</td>\n",
       "      <td>Western New York</td>\n",
       "    </tr>\n",
       "    <tr>\n",
       "      <th>1</th>\n",
       "      <td>Allegany</td>\n",
       "      <td>39.0</td>\n",
       "      <td>Memorial Hosp of Wm F &amp; Gertrude F Jones A/K/A...</td>\n",
       "      <td>4</td>\n",
       "      <td>1</td>\n",
       "      <td>White</td>\n",
       "      <td>Not Span/Hispanic</td>\n",
       "      <td>1</td>\n",
       "      <td>Elective</td>\n",
       "      <td>Home w/ Home Health Services</td>\n",
       "      <td>...</td>\n",
       "      <td>1</td>\n",
       "      <td>0</td>\n",
       "      <td>1</td>\n",
       "      <td>0</td>\n",
       "      <td>0</td>\n",
       "      <td>0</td>\n",
       "      <td>0</td>\n",
       "      <td>0</td>\n",
       "      <td>0</td>\n",
       "      <td>Western New York</td>\n",
       "    </tr>\n",
       "    <tr>\n",
       "      <th>2</th>\n",
       "      <td>Allegany</td>\n",
       "      <td>39.0</td>\n",
       "      <td>Memorial Hosp of Wm F &amp; Gertrude F Jones A/K/A...</td>\n",
       "      <td>4</td>\n",
       "      <td>1</td>\n",
       "      <td>White</td>\n",
       "      <td>Not Span/Hispanic</td>\n",
       "      <td>0</td>\n",
       "      <td>Elective</td>\n",
       "      <td>Home w/ Home Health Services</td>\n",
       "      <td>...</td>\n",
       "      <td>0</td>\n",
       "      <td>1</td>\n",
       "      <td>1</td>\n",
       "      <td>1</td>\n",
       "      <td>0</td>\n",
       "      <td>0</td>\n",
       "      <td>0</td>\n",
       "      <td>0</td>\n",
       "      <td>0</td>\n",
       "      <td>Western New York</td>\n",
       "    </tr>\n",
       "    <tr>\n",
       "      <th>3</th>\n",
       "      <td>Allegany</td>\n",
       "      <td>39.0</td>\n",
       "      <td>Memorial Hosp of Wm F &amp; Gertrude F Jones A/K/A...</td>\n",
       "      <td>4</td>\n",
       "      <td>0</td>\n",
       "      <td>White</td>\n",
       "      <td>Not Span/Hispanic</td>\n",
       "      <td>1</td>\n",
       "      <td>Elective</td>\n",
       "      <td>Skilled Nursing Home</td>\n",
       "      <td>...</td>\n",
       "      <td>1</td>\n",
       "      <td>1</td>\n",
       "      <td>0</td>\n",
       "      <td>0</td>\n",
       "      <td>0</td>\n",
       "      <td>0</td>\n",
       "      <td>0</td>\n",
       "      <td>0</td>\n",
       "      <td>0</td>\n",
       "      <td>Western New York</td>\n",
       "    </tr>\n",
       "    <tr>\n",
       "      <th>4</th>\n",
       "      <td>Allegany</td>\n",
       "      <td>39.0</td>\n",
       "      <td>Memorial Hosp of Wm F &amp; Gertrude F Jones A/K/A...</td>\n",
       "      <td>5</td>\n",
       "      <td>1</td>\n",
       "      <td>White</td>\n",
       "      <td>Not Span/Hispanic</td>\n",
       "      <td>0</td>\n",
       "      <td>Elective</td>\n",
       "      <td>Home w/ Home Health Services</td>\n",
       "      <td>...</td>\n",
       "      <td>0</td>\n",
       "      <td>1</td>\n",
       "      <td>1</td>\n",
       "      <td>0</td>\n",
       "      <td>0</td>\n",
       "      <td>0</td>\n",
       "      <td>0</td>\n",
       "      <td>0</td>\n",
       "      <td>0</td>\n",
       "      <td>Western New York</td>\n",
       "    </tr>\n",
       "    <tr>\n",
       "      <th>5</th>\n",
       "      <td>Allegany</td>\n",
       "      <td>39.0</td>\n",
       "      <td>Memorial Hosp of Wm F &amp; Gertrude F Jones A/K/A...</td>\n",
       "      <td>5</td>\n",
       "      <td>0</td>\n",
       "      <td>White</td>\n",
       "      <td>Not Span/Hispanic</td>\n",
       "      <td>0</td>\n",
       "      <td>Elective</td>\n",
       "      <td>Skilled Nursing Home</td>\n",
       "      <td>...</td>\n",
       "      <td>0</td>\n",
       "      <td>1</td>\n",
       "      <td>1</td>\n",
       "      <td>0</td>\n",
       "      <td>0</td>\n",
       "      <td>0</td>\n",
       "      <td>0</td>\n",
       "      <td>0</td>\n",
       "      <td>0</td>\n",
       "      <td>Western New York</td>\n",
       "    </tr>\n",
       "  </tbody>\n",
       "</table>\n",
       "<p>6 rows × 29 columns</p>\n",
       "</div>"
      ],
      "text/plain": [
       "  Hospital County  Facility Id  \\\n",
       "0        Allegany         39.0   \n",
       "1        Allegany         39.0   \n",
       "2        Allegany         39.0   \n",
       "3        Allegany         39.0   \n",
       "4        Allegany         39.0   \n",
       "5        Allegany         39.0   \n",
       "\n",
       "                                       Facility Name  Age Group  Gender  \\\n",
       "0  Memorial Hosp of Wm F & Gertrude F Jones A/K/A...          4       0   \n",
       "1  Memorial Hosp of Wm F & Gertrude F Jones A/K/A...          4       1   \n",
       "2  Memorial Hosp of Wm F & Gertrude F Jones A/K/A...          4       1   \n",
       "3  Memorial Hosp of Wm F & Gertrude F Jones A/K/A...          4       0   \n",
       "4  Memorial Hosp of Wm F & Gertrude F Jones A/K/A...          5       1   \n",
       "5  Memorial Hosp of Wm F & Gertrude F Jones A/K/A...          5       0   \n",
       "\n",
       "    Race          Ethnicity  Length of Stay Type of Admission  \\\n",
       "0  White  Not Span/Hispanic               1          Elective   \n",
       "1  White  Not Span/Hispanic               1          Elective   \n",
       "2  White  Not Span/Hispanic               0          Elective   \n",
       "3  White  Not Span/Hispanic               1          Elective   \n",
       "4  White  Not Span/Hispanic               0          Elective   \n",
       "5  White  Not Span/Hispanic               0          Elective   \n",
       "\n",
       "            Patient Disposition         ...           \\\n",
       "0             Home or Self Care         ...            \n",
       "1  Home w/ Home Health Services         ...            \n",
       "2  Home w/ Home Health Services         ...            \n",
       "3          Skilled Nursing Home         ...            \n",
       "4  Home w/ Home Health Services         ...            \n",
       "5          Skilled Nursing Home         ...            \n",
       "\n",
       "   Payment Typology_Blue Cross/Blue Shield  Payment Typology_Medicare  \\\n",
       "0                                        0                          0   \n",
       "1                                        1                          0   \n",
       "2                                        0                          1   \n",
       "3                                        1                          1   \n",
       "4                                        0                          1   \n",
       "5                                        0                          1   \n",
       "\n",
       "   Payment Typology_Self-Pay  Payment Typology_Medicaid  \\\n",
       "0                          1                          0   \n",
       "1                          1                          0   \n",
       "2                          1                          1   \n",
       "3                          0                          0   \n",
       "4                          1                          0   \n",
       "5                          1                          0   \n",
       "\n",
       "   Payment Typology_Miscellaneous/Other  \\\n",
       "0                                     0   \n",
       "1                                     0   \n",
       "2                                     0   \n",
       "3                                     0   \n",
       "4                                     0   \n",
       "5                                     0   \n",
       "\n",
       "   Payment Typology_Federal/State/Local/VA  \\\n",
       "0                                        0   \n",
       "1                                        0   \n",
       "2                                        0   \n",
       "3                                        0   \n",
       "4                                        0   \n",
       "5                                        0   \n",
       "\n",
       "   Payment Typology_Department of Corrections  \\\n",
       "0                                           0   \n",
       "1                                           0   \n",
       "2                                           0   \n",
       "3                                           0   \n",
       "4                                           0   \n",
       "5                                           0   \n",
       "\n",
       "   Payment Typology_Managed Care, Unspecified  Payment Typology_Unknown  \\\n",
       "0                                           0                         0   \n",
       "1                                           0                         0   \n",
       "2                                           0                         0   \n",
       "3                                           0                         0   \n",
       "4                                           0                         0   \n",
       "5                                           0                         0   \n",
       "\n",
       "   Geographical Region  \n",
       "0     Western New York  \n",
       "1     Western New York  \n",
       "2     Western New York  \n",
       "3     Western New York  \n",
       "4     Western New York  \n",
       "5     Western New York  \n",
       "\n",
       "[6 rows x 29 columns]"
      ]
     },
     "execution_count": 89,
     "metadata": {},
     "output_type": "execute_result"
    }
   ],
   "source": [
    "df.loc[:5,:]"
   ]
  },
  {
   "cell_type": "markdown",
   "metadata": {},
   "source": [
    "__Feature Engineering: Relative Cost of Hospital__\n",
    "<br>\n",
    "This feature is a ratio between the cost of the procedure for patient_i divided by the average cost of all hospitals in (NYS OR Region OR county)"
   ]
  },
  {
   "cell_type": "code",
   "execution_count": 46,
   "metadata": {},
   "outputs": [],
   "source": [
    "#At the state wide scale\n",
    "df['Relative Cost per NYS'] = df.loc[:,'Total Costs'] / df.loc[:,'Total Costs'].mean()\n",
    "\n",
    "#At the regional scale\n",
    "df['Relative Cost per Region'] = df.groupby('Geographical Region')['Total Costs'].apply(lambda x: x/np.mean(x))\n",
    "\n",
    "#At the county-level scale\n",
    "df['Relative Cost per County'] = df.groupby('Hospital County')['Total Costs'].apply(lambda x: x/np.mean(x))"
   ]
  },
  {
   "cell_type": "markdown",
   "metadata": {},
   "source": [
    "__Feature Engineering: Market Share by Patient Discharge Volume__\n",
    "<br>\n",
    "This feature is a ratio between the market share for hospital_i by patient discharge volume by dividing the number of patients of hospital_i by the total number of patients treated in (NYS OR Region OR county)"
   ]
  },
  {
   "cell_type": "code",
   "execution_count": 47,
   "metadata": {},
   "outputs": [],
   "source": [
    "#At the state wide scale\n",
    "df['Market Share by Patient Discharge NYS'] = df.groupby('Facility Id')['Facility Name'].transform(lambda x: x.count() / len(df.index))\n",
    "\n",
    "#At the regional scale\n",
    "df['Market Share by Patient Discharge Region'] = df.groupby('Geographical Region')['Facility Id'].transform(lambda x: x.count() / x.sum())\n",
    "\n",
    "#At the county-level scale\n",
    "df['Market Share by Patient Discharge County'] = df.groupby('Hospital County')['Facility Id'].transform(lambda x: x.count() / x.sum())"
   ]
  },
  {
   "cell_type": "markdown",
   "metadata": {},
   "source": [
    "#### One-hot-encoding for remaining features."
   ]
  },
  {
   "cell_type": "code",
   "execution_count": 48,
   "metadata": {},
   "outputs": [],
   "source": [
    "#So far, we have performed only label encoding. Let's perform OneHot on the remaining feature columns.\n",
    "onehot_cat_columns = ['Hospital County',\n",
    "                      'Race',\n",
    "                      'Ethnicity',\n",
    "                      'Patient Disposition',\n",
    "                      'Type of Admission',\n",
    "                      'Geographical Region']\n",
    "df = pd.get_dummies(df,columns=onehot_cat_columns)"
   ]
  },
  {
   "cell_type": "markdown",
   "metadata": {},
   "source": [
    "__Drop Facility Name and Facility Id__"
   ]
  },
  {
   "cell_type": "code",
   "execution_count": 49,
   "metadata": {},
   "outputs": [],
   "source": [
    "#Now that we are finished encoding, and feature engineering, we can drop the facility name and Id tags.\n",
    "df = df.drop(labels=['Facility Name','Facility Id'],axis=1).reset_index(drop=True)"
   ]
  },
  {
   "cell_type": "markdown",
   "metadata": {},
   "source": [
    "### Check for any souces of data leakage."
   ]
  },
  {
   "cell_type": "markdown",
   "metadata": {},
   "source": [
    "__Drop Ratio of Costs/Charges to prevent data leakage.__"
   ]
  },
  {
   "cell_type": "code",
   "execution_count": 50,
   "metadata": {},
   "outputs": [],
   "source": [
    "#As the name implies the ratio of costs/charges is calculated with our target value. Hence, it contains information that we\n",
    "#don't want our model to have. Eliminate it to prevent data leakage.\n",
    "df = df.drop(columns='Ratio of Total Costs to Total Charges')"
   ]
  },
  {
   "cell_type": "markdown",
   "metadata": {},
   "source": [
    "### Feature Scaling."
   ]
  },
  {
   "cell_type": "markdown",
   "metadata": {},
   "source": [
    "__Feature scaling on Total Costs using the RobustScaler.__"
   ]
  },
  {
   "cell_type": "code",
   "execution_count": 51,
   "metadata": {},
   "outputs": [],
   "source": [
    "#Perform feature scaling on the total costs feature column. We'll use the robust scaler since it works well against outliers. \n",
    "#Before however, we need to apply the scaler only to the training set. Let's create our training-test split now.\n",
    "\n",
    "target_col = 'Total Charges'\n",
    "\n",
    "y = df.loc[:,target_col].values\n",
    "df = df.drop(columns=target_col) \n",
    "X = df.values\n",
    "\n",
    "training_training_cols = df.columns.tolist()"
   ]
  },
  {
   "cell_type": "code",
   "execution_count": 52,
   "metadata": {},
   "outputs": [
    {
     "name": "stdout",
     "output_type": "stream",
     "text": [
      "(29868, 102)\n",
      "(9956, 102)\n"
     ]
    }
   ],
   "source": [
    "from sklearn.model_selection import train_test_split\n",
    "\n",
    "#We will split the dataset 75% training and 25% test. Shuffle is true by default. \n",
    "#Shuffling is important in this data set because the entries are organized by hospital.\n",
    "X_train, X_test, y_train, y_test = train_test_split(X,y,test_size=0.25,random_state=42)\n",
    "\n",
    "print(X_train.shape)\n",
    "print(X_test.shape)"
   ]
  },
  {
   "cell_type": "markdown",
   "metadata": {},
   "source": [
    "__Use Column Transformer to apply Robust Scaler and MinMaxScaler.__"
   ]
  },
  {
   "cell_type": "markdown",
   "metadata": {},
   "source": [
    "_I found that the feature scalers will transform the entire data set (and I only wanted to scale a single column). I learned about the column transfomer to apply two different feature scalers to individual columns._"
   ]
  },
  {
   "cell_type": "code",
   "execution_count": 53,
   "metadata": {},
   "outputs": [],
   "source": [
    "#Isolate the columns that will be scaled. \n",
    "\n",
    "#Column locations 6, 7, 8 represent Total Cost, Lattitude, Longitude\n",
    "X_train_isolated = X_train[:,6:9].copy()\n",
    "X_test_isolated = X_test[:,6:9].copy()"
   ]
  },
  {
   "cell_type": "code",
   "execution_count": 54,
   "metadata": {},
   "outputs": [],
   "source": [
    "from sklearn.preprocessing import MinMaxScaler\n",
    "from sklearn.compose import make_column_transformer\n",
    "from sklearn.preprocessing import RobustScaler\n",
    "\n",
    "robustscaler = RobustScaler()\n",
    "minmaxscaler = MinMaxScaler()\n",
    "\n",
    "#Apply robust scaler to total cost\n",
    "#Apply minmax scaler to lattitude and longitude\n",
    "\n",
    "ct = make_column_transformer((robustscaler,[0]),\n",
    "                            (minmaxscaler,[1,2]))\n",
    "\n",
    "#Do not fit and transform the training and test set separately. \n",
    "ct.fit(X_train_isolated)\n",
    "\n",
    "X_train_iso_scaled = ct.transform(X_train_isolated)\n",
    "X_test_iso_scaled = ct.transform(X_test_isolated)"
   ]
  },
  {
   "cell_type": "code",
   "execution_count": 55,
   "metadata": {},
   "outputs": [],
   "source": [
    "X_train_scaled = X_train.copy()\n",
    "X_test_scaled = X_test.copy()\n",
    "\n",
    "#Replace original values with scaled values.\n",
    "X_train_scaled[:,6:9] = X_train_iso_scaled\n",
    "X_test_scaled[:,6:9] = X_test_iso_scaled\n",
    "\n",
    "#I now have two different versions of the training and test data set. Not all models require feature scaling so I kept both.\n",
    "#X_training_scaled, and X_test_scaled incorporate feature scaling\n",
    "#X_train, X_test do not incorporate feature scaling"
   ]
  },
  {
   "cell_type": "markdown",
   "metadata": {},
   "source": [
    "***"
   ]
  },
  {
   "cell_type": "markdown",
   "metadata": {},
   "source": [
    "## 5. Explore many different models, short-list the best ones, select one and train it."
   ]
  },
  {
   "cell_type": "markdown",
   "metadata": {},
   "source": [
    "I will go back and forth between two performance measures, r^2 and RMSE. r^2 appears to be widely used an easy to understand. RMSE is a useful because it is larger the further away the predicted value is from the actual result. In terms of assessing healthcare costs, telling an individual a predicted value with a large error is useless since financially speaking, there is a big difference to a person whether they will need to pay 5,000 USD vs. 15,000 USD."
   ]
  },
  {
   "cell_type": "code",
   "execution_count": 56,
   "metadata": {},
   "outputs": [],
   "source": [
    "from sklearn.model_selection import KFold\n",
    "\n",
    "#Use 10-fold cross validation when assessing performance metrics of models.\n",
    "kfold = KFold(n_splits=10,shuffle=True,random_state=42)"
   ]
  },
  {
   "cell_type": "code",
   "execution_count": 57,
   "metadata": {},
   "outputs": [],
   "source": [
    "def display_scores(score_metric, scores):\n",
    "    print('Validation Set Train Scores: ',scores['train_score'])\n",
    "    print('Validation Set Train Mean Score: ',scores['train_score'].mean())\n",
    " \n",
    "    \n",
    "    print('\\nValidation Set Test Scores: ',scores['test_score'])\n",
    "    print('Validation Set Test Mean Score: ',scores['test_score'].mean())\n",
    "      \n",
    "    #print('\\nValidation Set RMSE Scores: ',np.sqrt(-scores['test_neg_mean_squared_error']))\n",
    "    #print('Validation Set RMSE Mean Scores: ',np.sqrt(-scores['test_neg_mean_squared_error'].mean()))   "
   ]
  },
  {
   "cell_type": "markdown",
   "metadata": {},
   "source": [
    "__Test a Linear Regression Model.__"
   ]
  },
  {
   "cell_type": "code",
   "execution_count": 58,
   "metadata": {},
   "outputs": [
    {
     "data": {
      "text/plain": [
       "LinearRegression(copy_X=True, fit_intercept=True, n_jobs=None,\n",
       "         normalize=False)"
      ]
     },
     "execution_count": 58,
     "metadata": {},
     "output_type": "execute_result"
    }
   ],
   "source": [
    "from sklearn.linear_model import LinearRegression\n",
    "\n",
    "lr = LinearRegression()\n",
    "lr.fit(X_train_scaled,y_train)"
   ]
  },
  {
   "cell_type": "code",
   "execution_count": 62,
   "metadata": {},
   "outputs": [
    {
     "name": "stdout",
     "output_type": "stream",
     "text": [
      "Validation Set Train Scores:  [0.81690944 0.82619344 0.8181037  0.82003809 0.81772023 0.81523754\n",
      " 0.81534676 0.81787082 0.81482489 0.81874108]\n",
      "Validation Set Train Mean Score:  0.8180985991068118\n",
      "\n",
      "Validation Set Test Scores:  [0.82348288 0.73699295 0.81472141 0.79520496 0.81909641 0.83724307\n",
      " 0.83046744 0.81720036 0.84143067 0.80787609]\n",
      "Validation Set Test Mean Score:  0.812371624922681\n"
     ]
    }
   ],
   "source": [
    "from sklearn.model_selection import cross_validate\n",
    "\n",
    "#Use 10-fold cross validation to measure results. \n",
    "lr_scores = cross_validate(lr,X_train_scaled,y_train,scoring='r2',cv=kfold,return_train_score=True)\n",
    "display_scores(score_metric,lr_scores)"
   ]
  },
  {
   "cell_type": "markdown",
   "metadata": {},
   "source": [
    "__Build a Decision Tree Regressor.__"
   ]
  },
  {
   "cell_type": "code",
   "execution_count": 63,
   "metadata": {},
   "outputs": [
    {
     "data": {
      "text/plain": [
       "DecisionTreeRegressor(criterion='mse', max_depth=None, max_features=None,\n",
       "           max_leaf_nodes=None, min_impurity_decrease=0.0,\n",
       "           min_impurity_split=None, min_samples_leaf=1,\n",
       "           min_samples_split=2, min_weight_fraction_leaf=0.0,\n",
       "           presort=False, random_state=42, splitter='best')"
      ]
     },
     "execution_count": 63,
     "metadata": {},
     "output_type": "execute_result"
    }
   ],
   "source": [
    "from sklearn.tree import DecisionTreeRegressor\n",
    "\n",
    "tree_reg = DecisionTreeRegressor(random_state=42)\n",
    "tree_reg.fit(X_train,y_train) #Unscaled Data"
   ]
  },
  {
   "cell_type": "code",
   "execution_count": 64,
   "metadata": {},
   "outputs": [
    {
     "name": "stdout",
     "output_type": "stream",
     "text": [
      "Validation Set Train Scores:  [1. 1. 1. 1. 1. 1. 1. 1. 1. 1.]\n",
      "Validation Set Train Mean Score:  1.0\n",
      "\n",
      "Validation Set Test Scores:  [0.8831448  0.89802572 0.93305678 0.9584222  0.92688215 0.9140323\n",
      " 0.89632932 0.92694875 0.93742094 0.92905475]\n",
      "Validation Set Test Mean Score:  0.9203317714222068\n"
     ]
    }
   ],
   "source": [
    "scores_tree = cross_validate(tree_reg,X_train,y_train,scoring='r2',cv=kfold,return_train_score=True)\n",
    "display_scores(score_metric,scores_tree)"
   ]
  },
  {
   "cell_type": "markdown",
   "metadata": {},
   "source": [
    "__Build a kNN Regressor.__"
   ]
  },
  {
   "cell_type": "code",
   "execution_count": 65,
   "metadata": {},
   "outputs": [
    {
     "data": {
      "text/plain": [
       "KNeighborsRegressor(algorithm='auto', leaf_size=30, metric='minkowski',\n",
       "          metric_params=None, n_jobs=-1, n_neighbors=5, p=2,\n",
       "          weights='uniform')"
      ]
     },
     "execution_count": 65,
     "metadata": {},
     "output_type": "execute_result"
    }
   ],
   "source": [
    "from sklearn.neighbors import KNeighborsRegressor\n",
    "\n",
    "knn_reg = KNeighborsRegressor(n_jobs=-1)\n",
    "knn_reg.fit(X_train_scaled,y_train)"
   ]
  },
  {
   "cell_type": "code",
   "execution_count": 66,
   "metadata": {},
   "outputs": [
    {
     "name": "stdout",
     "output_type": "stream",
     "text": [
      "Validation Set Train Scores:  [0.88808714 0.89047508 0.89068832 0.88966573 0.88923221 0.88981882\n",
      " 0.89293199 0.89225637 0.89044951 0.88797631]\n",
      "Validation Set Train Mean Score:  0.8901581493004356\n",
      "\n",
      "Validation Set Test Scores:  [0.8421164  0.8211786  0.85829321 0.84506288 0.83543807 0.82722261\n",
      " 0.80434602 0.83146351 0.8268377  0.84799053]\n",
      "Validation Set Test Mean Score:  0.8339949531095063\n"
     ]
    }
   ],
   "source": [
    "scores_knn = cross_validate(knn_reg,X_train_scaled,y_train,scoring='r2',cv=kfold,return_train_score=True)\n",
    "display_scores(score_metric,scores_knn)"
   ]
  },
  {
   "cell_type": "markdown",
   "metadata": {},
   "source": [
    "__Ensemble Methods: Gradient Boosted Regression with Trees.__"
   ]
  },
  {
   "cell_type": "markdown",
   "metadata": {},
   "source": [
    "_Since the Decision Tree worked so well, I've read about utilizing ensemble methods that use multiple decision trees (like random forests and gradient boosted trees) in their regression methods. I decided to try these out as well in my analysis._"
   ]
  },
  {
   "cell_type": "code",
   "execution_count": 67,
   "metadata": {},
   "outputs": [
    {
     "data": {
      "text/plain": [
       "GradientBoostingRegressor(alpha=0.9, criterion='friedman_mse', init=None,\n",
       "             learning_rate=0.1, loss='ls', max_depth=3, max_features=None,\n",
       "             max_leaf_nodes=None, min_impurity_decrease=0.0,\n",
       "             min_impurity_split=None, min_samples_leaf=1,\n",
       "             min_samples_split=2, min_weight_fraction_leaf=0.0,\n",
       "             n_estimators=100, n_iter_no_change=None, presort='auto',\n",
       "             random_state=42, subsample=1.0, tol=0.0001,\n",
       "             validation_fraction=0.1, verbose=0, warm_start=False)"
      ]
     },
     "execution_count": 67,
     "metadata": {},
     "output_type": "execute_result"
    }
   ],
   "source": [
    "from sklearn.ensemble import GradientBoostingRegressor\n",
    "\n",
    "gbrt = GradientBoostingRegressor(random_state=42)\n",
    "\n",
    "gbrt.fit(X_train,y_train)"
   ]
  },
  {
   "cell_type": "code",
   "execution_count": 68,
   "metadata": {},
   "outputs": [
    {
     "name": "stdout",
     "output_type": "stream",
     "text": [
      "Validation Set Train Scores:  [0.94287042 0.93988387 0.93990618 0.93918365 0.94295901 0.94091059\n",
      " 0.94113882 0.94016561 0.93762605 0.94168537]\n",
      "Validation Set Train Mean Score:  0.9406329567176182\n",
      "\n",
      "Validation Set Test Scores:  [0.91139653 0.88984846 0.91833118 0.91825478 0.92646067 0.93635864\n",
      " 0.89263562 0.92773727 0.9283725  0.92984818]\n",
      "Validation Set Test Mean Score:  0.917924384378815\n"
     ]
    }
   ],
   "source": [
    "scores_gbrt = cross_validate(gbrt,X_train,y_train,scoring='r2',cv=kfold,return_train_score=True)\n",
    "display_scores(score_metric,scores_gbrt)"
   ]
  },
  {
   "cell_type": "markdown",
   "metadata": {},
   "source": [
    "__Ensemble Method: Random Forest.__"
   ]
  },
  {
   "cell_type": "code",
   "execution_count": 69,
   "metadata": {},
   "outputs": [
    {
     "data": {
      "text/plain": [
       "RandomForestRegressor(bootstrap=True, criterion='mse', max_depth=None,\n",
       "           max_features='auto', max_leaf_nodes=None,\n",
       "           min_impurity_decrease=0.0, min_impurity_split=None,\n",
       "           min_samples_leaf=1, min_samples_split=2,\n",
       "           min_weight_fraction_leaf=0.0, n_estimators=100, n_jobs=-1,\n",
       "           oob_score=False, random_state=42, verbose=0, warm_start=False)"
      ]
     },
     "execution_count": 69,
     "metadata": {},
     "output_type": "execute_result"
    }
   ],
   "source": [
    "from sklearn.ensemble import RandomForestRegressor\n",
    "\n",
    "rfr = RandomForestRegressor(random_state=42,n_jobs=-1,n_estimators=100)\n",
    "rfr.fit(X_train,y_train)"
   ]
  },
  {
   "cell_type": "code",
   "execution_count": 70,
   "metadata": {},
   "outputs": [
    {
     "name": "stdout",
     "output_type": "stream",
     "text": [
      "Validation Set Train Scores:  [0.99318268 0.99376157 0.99296796 0.99289882 0.99371396 0.9921422\n",
      " 0.99443214 0.99293851 0.99289377 0.99275563]\n",
      "Validation Set Train Mean Score:  0.9931687215201134\n",
      "\n",
      "Validation Set Test Scores:  [0.93225105 0.93444184 0.96501637 0.97125897 0.97448631 0.95568026\n",
      " 0.92706279 0.93791053 0.95626428 0.97751885]\n",
      "Validation Set Test Mean Score:  0.9531891246568536\n"
     ]
    }
   ],
   "source": [
    "scores_rfr = cross_validate(rfr,X_train,y_train,scoring='r2',cv=kfold,return_train_score=True)\n",
    "display_scores(score_metric,scores_rfr)"
   ]
  },
  {
   "cell_type": "markdown",
   "metadata": {},
   "source": [
    "***"
   ]
  },
  {
   "cell_type": "markdown",
   "metadata": {},
   "source": [
    "## 6. Fine-tune your model"
   ]
  },
  {
   "cell_type": "markdown",
   "metadata": {},
   "source": [
    "__Fine-tuning a gradient boosted trees.__"
   ]
  },
  {
   "cell_type": "code",
   "execution_count": 73,
   "metadata": {},
   "outputs": [],
   "source": [
    "score_metric = ['r2','neg_mean_squared_error']"
   ]
  },
  {
   "cell_type": "code",
   "execution_count": 72,
   "metadata": {},
   "outputs": [
    {
     "data": {
      "text/plain": [
       "GridSearchCV(cv=KFold(n_splits=10, random_state=42, shuffle=True),\n",
       "       error_score='raise-deprecating',\n",
       "       estimator=GradientBoostingRegressor(alpha=0.9, criterion='friedman_mse', init=None,\n",
       "             learning_rate=0.1, loss='ls', max_depth=3, max_features=None,\n",
       "             max_leaf_nodes=None, min_impurity_decrease=0.0,\n",
       "             min_impurity_split=None, min_samples_leaf=1,\n",
       "             min_sampl...te=42, subsample=1.0, tol=0.0001,\n",
       "             validation_fraction=0.1, verbose=0, warm_start=False),\n",
       "       fit_params=None, iid='warn', n_jobs=None,\n",
       "       param_grid=[{'max_depth': [1, 2, 3, 4, 5, 6]}, {'n_estimators': [20, 50, 100, 200, 300, 400, 500, 600]}],\n",
       "       pre_dispatch='2*n_jobs', refit='r2', return_train_score=True,\n",
       "       scoring=['r2', 'neg_mean_squared_error'], verbose=0)"
      ]
     },
     "execution_count": 72,
     "metadata": {},
     "output_type": "execute_result"
    }
   ],
   "source": [
    "from sklearn.model_selection import GridSearchCV\n",
    "\n",
    "param_grid_gbtree = [{'max_depth':[1,2,3,4,5,6]},\n",
    "                     {'n_estimators':[20,50,100,200,300,400,500,600]}\n",
    "                    ]\n",
    "\n",
    "grid_search_gbrt = GridSearchCV(gbrt,param_grid_gbtree,cv=kfold,scoring=score_metric,refit='r2',return_train_score=True)\n",
    "grid_search_gbrt.fit(X_train,y_train)"
   ]
  },
  {
   "cell_type": "code",
   "execution_count": 76,
   "metadata": {},
   "outputs": [
    {
     "data": {
      "text/html": [
       "<div>\n",
       "<style scoped>\n",
       "    .dataframe tbody tr th:only-of-type {\n",
       "        vertical-align: middle;\n",
       "    }\n",
       "\n",
       "    .dataframe tbody tr th {\n",
       "        vertical-align: top;\n",
       "    }\n",
       "\n",
       "    .dataframe thead th {\n",
       "        text-align: right;\n",
       "    }\n",
       "</style>\n",
       "<table border=\"1\" class=\"dataframe\">\n",
       "  <thead>\n",
       "    <tr style=\"text-align: right;\">\n",
       "      <th></th>\n",
       "      <th>param_max_depth</th>\n",
       "      <th>param_n_estimators</th>\n",
       "      <th>mean_train_r2</th>\n",
       "      <th>mean_test_r2</th>\n",
       "      <th>mean_train_RMSE</th>\n",
       "      <th>mean_test_RMSE</th>\n",
       "    </tr>\n",
       "  </thead>\n",
       "  <tbody>\n",
       "    <tr>\n",
       "      <th>0</th>\n",
       "      <td>1</td>\n",
       "      <td>NaN</td>\n",
       "      <td>0.769256</td>\n",
       "      <td>0.746321</td>\n",
       "      <td>19061.920628</td>\n",
       "      <td>19977.148215</td>\n",
       "    </tr>\n",
       "    <tr>\n",
       "      <th>1</th>\n",
       "      <td>2</td>\n",
       "      <td>NaN</td>\n",
       "      <td>0.882859</td>\n",
       "      <td>0.858970</td>\n",
       "      <td>13582.157347</td>\n",
       "      <td>14906.205334</td>\n",
       "    </tr>\n",
       "    <tr>\n",
       "      <th>2</th>\n",
       "      <td>3</td>\n",
       "      <td>NaN</td>\n",
       "      <td>0.940633</td>\n",
       "      <td>0.917924</td>\n",
       "      <td>9669.430167</td>\n",
       "      <td>11401.818205</td>\n",
       "    </tr>\n",
       "    <tr>\n",
       "      <th>3</th>\n",
       "      <td>4</td>\n",
       "      <td>NaN</td>\n",
       "      <td>0.966396</td>\n",
       "      <td>0.939318</td>\n",
       "      <td>7274.922221</td>\n",
       "      <td>9852.739567</td>\n",
       "    </tr>\n",
       "    <tr>\n",
       "      <th>4</th>\n",
       "      <td>5</td>\n",
       "      <td>NaN</td>\n",
       "      <td>0.978537</td>\n",
       "      <td>0.949403</td>\n",
       "      <td>5813.659600</td>\n",
       "      <td>9029.741424</td>\n",
       "    </tr>\n",
       "    <tr>\n",
       "      <th>5</th>\n",
       "      <td>6</td>\n",
       "      <td>NaN</td>\n",
       "      <td>0.986148</td>\n",
       "      <td>0.955880</td>\n",
       "      <td>4670.141175</td>\n",
       "      <td>8438.451258</td>\n",
       "    </tr>\n",
       "    <tr>\n",
       "      <th>6</th>\n",
       "      <td>NaN</td>\n",
       "      <td>20</td>\n",
       "      <td>0.783056</td>\n",
       "      <td>0.760889</td>\n",
       "      <td>18483.161464</td>\n",
       "      <td>19425.988940</td>\n",
       "    </tr>\n",
       "    <tr>\n",
       "      <th>7</th>\n",
       "      <td>NaN</td>\n",
       "      <td>50</td>\n",
       "      <td>0.899444</td>\n",
       "      <td>0.876576</td>\n",
       "      <td>12583.799288</td>\n",
       "      <td>13945.060311</td>\n",
       "    </tr>\n",
       "    <tr>\n",
       "      <th>8</th>\n",
       "      <td>NaN</td>\n",
       "      <td>100</td>\n",
       "      <td>0.940633</td>\n",
       "      <td>0.917924</td>\n",
       "      <td>9669.430167</td>\n",
       "      <td>11401.818205</td>\n",
       "    </tr>\n",
       "    <tr>\n",
       "      <th>9</th>\n",
       "      <td>NaN</td>\n",
       "      <td>200</td>\n",
       "      <td>0.964261</td>\n",
       "      <td>0.941135</td>\n",
       "      <td>7502.543906</td>\n",
       "      <td>9698.378176</td>\n",
       "    </tr>\n",
       "    <tr>\n",
       "      <th>10</th>\n",
       "      <td>NaN</td>\n",
       "      <td>300</td>\n",
       "      <td>0.974382</td>\n",
       "      <td>0.950759</td>\n",
       "      <td>6352.035936</td>\n",
       "      <td>8894.873269</td>\n",
       "    </tr>\n",
       "    <tr>\n",
       "      <th>11</th>\n",
       "      <td>NaN</td>\n",
       "      <td>400</td>\n",
       "      <td>0.979956</td>\n",
       "      <td>0.956155</td>\n",
       "      <td>5618.148499</td>\n",
       "      <td>8412.682220</td>\n",
       "    </tr>\n",
       "    <tr>\n",
       "      <th>12</th>\n",
       "      <td>NaN</td>\n",
       "      <td>500</td>\n",
       "      <td>0.983119</td>\n",
       "      <td>0.959188</td>\n",
       "      <td>5155.760545</td>\n",
       "      <td>8124.602598</td>\n",
       "    </tr>\n",
       "    <tr>\n",
       "      <th>13</th>\n",
       "      <td>NaN</td>\n",
       "      <td>600</td>\n",
       "      <td>0.985264</td>\n",
       "      <td>0.960887</td>\n",
       "      <td>4817.062509</td>\n",
       "      <td>7954.641801</td>\n",
       "    </tr>\n",
       "  </tbody>\n",
       "</table>\n",
       "</div>"
      ],
      "text/plain": [
       "   param_max_depth param_n_estimators  mean_train_r2  mean_test_r2  \\\n",
       "0                1                NaN       0.769256      0.746321   \n",
       "1                2                NaN       0.882859      0.858970   \n",
       "2                3                NaN       0.940633      0.917924   \n",
       "3                4                NaN       0.966396      0.939318   \n",
       "4                5                NaN       0.978537      0.949403   \n",
       "5                6                NaN       0.986148      0.955880   \n",
       "6              NaN                 20       0.783056      0.760889   \n",
       "7              NaN                 50       0.899444      0.876576   \n",
       "8              NaN                100       0.940633      0.917924   \n",
       "9              NaN                200       0.964261      0.941135   \n",
       "10             NaN                300       0.974382      0.950759   \n",
       "11             NaN                400       0.979956      0.956155   \n",
       "12             NaN                500       0.983119      0.959188   \n",
       "13             NaN                600       0.985264      0.960887   \n",
       "\n",
       "    mean_train_RMSE  mean_test_RMSE  \n",
       "0      19061.920628    19977.148215  \n",
       "1      13582.157347    14906.205334  \n",
       "2       9669.430167    11401.818205  \n",
       "3       7274.922221     9852.739567  \n",
       "4       5813.659600     9029.741424  \n",
       "5       4670.141175     8438.451258  \n",
       "6      18483.161464    19425.988940  \n",
       "7      12583.799288    13945.060311  \n",
       "8       9669.430167    11401.818205  \n",
       "9       7502.543906     9698.378176  \n",
       "10      6352.035936     8894.873269  \n",
       "11      5618.148499     8412.682220  \n",
       "12      5155.760545     8124.602598  \n",
       "13      4817.062509     7954.641801  "
      ]
     },
     "execution_count": 76,
     "metadata": {},
     "output_type": "execute_result"
    }
   ],
   "source": [
    "#View Results for Gradient Boosted Regression Tree Results\n",
    "df_gbrt_res = pd.DataFrame(grid_search_gbrt.cv_results_)\n",
    "\n",
    "df_gbrt_res['mean_train_RMSE'] = np.sqrt(-df_gbrt_res.loc[:,'mean_train_neg_mean_squared_error'])\n",
    "df_gbrt_res['mean_test_RMSE'] = np.sqrt(-df_gbrt_res.loc[:,'mean_test_neg_mean_squared_error'])\n",
    " \n",
    "#view results.\n",
    "df_gbrt_res.loc[:,(['param_max_depth',\n",
    "                    'param_n_estimators',\n",
    "                    'mean_train_r2',\n",
    "                    'mean_test_r2',\n",
    "                    'mean_train_RMSE',\n",
    "                    'mean_test_RMSE'])]"
   ]
  },
  {
   "cell_type": "code",
   "execution_count": 77,
   "metadata": {},
   "outputs": [],
   "source": [
    "def gridsearch_scoreplot_nocombination(df,score_metric_list,parameter):\n",
    "    \"\"\"\n",
    "    This function will generate a series of subplots for the various parameters a gridsearch was acted upon.\n",
    "    This function deals with individual parameters having multiple values, not combination of parameters with multiple values.\n",
    "    \"\"\"\n",
    "    \n",
    "    #Boolean Series indicating the indices correspondong to the results for the selected parameter\n",
    "    colname_parameter = 'param_' + parameter\n",
    "    b_parameter = df.loc[:,colname_parameter].notna()\n",
    "    \n",
    "    mean_train_score_metric = 'mean_train_' + score_metric_list\n",
    "    mean_test_score_metric = 'mean_test_' + score_metric_list\n",
    "    \n",
    "    ypos_score_metric_train = df.loc[b_parameter,mean_train_score_metric].values\n",
    "    ypos_score_metric_test = df.loc[b_parameter,mean_test_score_metric].values\n",
    "    \n",
    "    xpos_parameter = df.loc[b_parameter,colname_parameter].values\n",
    "    \n",
    "    fig = plt.figure(figsize=(6,6))\n",
    "    ax = fig.add_subplot(1,1,1)\n",
    "    \n",
    "    fig.suptitle('10-fold CV Accuracy Scores over Training and Validation Data',x=0.52,y=0.93,fontsize=13)\n",
    "    \n",
    "    ax.plot(xpos_parameter,ypos_score_metric_train,'r',linewidth=2.5,label='Mean Training Score')\n",
    "    ax.plot(xpos_parameter,ypos_score_metric_test,'b--',linewidth=2.5,label='Mean Validation Score')\n",
    "    \n",
    "    ax.set_ylabel('Value: ' + score_metric_list,fontsize=14)\n",
    "\n",
    "    ax.set_xticks(xpos_parameter)     \n",
    "    ax.set_xticklabels(xpos_parameter,fontsize=13)\n",
    "    ax.set_xlabel(('Parameter: ' + parameter),fontsize=13)\n",
    "\n",
    "    ax.legend(fontsize=12,edgecolor='k')\n",
    "\n",
    "    plt.show()\n"
   ]
  },
  {
   "cell_type": "code",
   "execution_count": 87,
   "metadata": {},
   "outputs": [
    {
     "data": {
      "image/png": "[encoded data removed]",
      "text/plain": [
       "<Figure size 432x432 with 1 Axes>"
      ]
     },
     "metadata": {
      "needs_background": "light"
     },
     "output_type": "display_data"
    },
    {
     "data": {
      "image/png": "[encoded data removed]",
      "text/plain": [
       "<Figure size 432x432 with 1 Axes>"
      ]
     },
     "metadata": {
      "needs_background": "light"
     },
     "output_type": "display_data"
    }
   ],
   "source": [
    "#Visualize results from dataframe\n",
    "for i in range(0,len(param_grid_gbtree)):\n",
    "    parameter_name = list(param_grid_gbtree[i])[0]\n",
    "    gridsearch_scoreplot_nocombination(df_gbrt_res,'r2',parameter_name)"
   ]
  },
  {
   "cell_type": "code",
   "execution_count": 88,
   "metadata": {},
   "outputs": [
    {
     "data": {
      "image/png": "[encoded data removed]",
      "text/plain": [
       "<Figure size 432x432 with 1 Axes>"
      ]
     },
     "metadata": {
      "needs_background": "light"
     },
     "output_type": "display_data"
    },
    {
     "data": {
      "image/png": "[encoded data removed]",
      "text/plain": [
       "<Figure size 432x432 with 1 Axes>"
      ]
     },
     "metadata": {
      "needs_background": "light"
     },
     "output_type": "display_data"
    }
   ],
   "source": [
    "for i in range(0,len(param_grid_gbtree)):\n",
    "    parameter_name = list(param_grid_gbtree[i])[0]\n",
    "    gridsearch_scoreplot_nocombination(df_gbrt_res,'RMSE',parameter_name)"
   ]
  },
  {
   "cell_type": "markdown",
   "metadata": {},
   "source": [
    "- Parameter: max_depth --> 4 is the sweet spot.\n",
    "- Parameter: n_estimators --> 100 is the sweet spot."
   ]
  },
  {
   "cell_type": "markdown",
   "metadata": {},
   "source": [
    "__Fine Tuning Random Forest.__"
   ]
  },
  {
   "cell_type": "code",
   "execution_count": 90,
   "metadata": {},
   "outputs": [
    {
     "data": {
      "text/plain": [
       "GridSearchCV(cv=KFold(n_splits=10, random_state=42, shuffle=True),\n",
       "       error_score='raise-deprecating',\n",
       "       estimator=RandomForestRegressor(bootstrap=True, criterion='mse', max_depth=None,\n",
       "           max_features='auto', max_leaf_nodes=None,\n",
       "           min_impurity_decrease=0.0, min_impurity_split=None,\n",
       "           min_samples_leaf=1, min_samples_split=2,\n",
       "           min_weight_fraction_leaf=0.0, n_estimators=100, n_jobs=-1,\n",
       "           oob_score=False, random_state=42, verbose=0, warm_start=False),\n",
       "       fit_params=None, iid='warn', n_jobs=None,\n",
       "       param_grid=[{'max_features': [0.1, 0.2, 0.3, 0.4, 0.5, 0.6]}, {'max_depth': [2, 3, 4, 5, 6]}, {'min_samples_split': [0.1, 0.2, 0.3, 0.4, 0.5, 0.6]}],\n",
       "       pre_dispatch='2*n_jobs', refit='r2', return_train_score=True,\n",
       "       scoring=['r2', 'neg_mean_squared_error'], verbose=0)"
      ]
     },
     "execution_count": 90,
     "metadata": {},
     "output_type": "execute_result"
    }
   ],
   "source": [
    "rfr = RandomForestRegressor(random_state=42,n_jobs=-1,n_estimators=100)\n",
    "\n",
    "param_grid_rf = [{'max_features':[0.1,0.2,0.3,0.4,0.5,0.6]},\n",
    "                 {'max_depth':[2,3,4,5,6]},\n",
    "                 {'min_samples_split':[0.1,0.2,0.3,0.4,0.5,0.6]}]\n",
    "\n",
    "grid_search_rf = GridSearchCV(rfr,param_grid_rf,cv=kfold,scoring=score_metric,refit='r2',return_train_score=True)\n",
    "grid_search_rf.fit(X_train,y_train)"
   ]
  },
  {
   "cell_type": "code",
   "execution_count": 91,
   "metadata": {},
   "outputs": [
    {
     "data": {
      "text/html": [
       "<div>\n",
       "<style scoped>\n",
       "    .dataframe tbody tr th:only-of-type {\n",
       "        vertical-align: middle;\n",
       "    }\n",
       "\n",
       "    .dataframe tbody tr th {\n",
       "        vertical-align: top;\n",
       "    }\n",
       "\n",
       "    .dataframe thead th {\n",
       "        text-align: right;\n",
       "    }\n",
       "</style>\n",
       "<table border=\"1\" class=\"dataframe\">\n",
       "  <thead>\n",
       "    <tr style=\"text-align: right;\">\n",
       "      <th></th>\n",
       "      <th>param_max_features</th>\n",
       "      <th>param_max_depth</th>\n",
       "      <th>param_min_samples_split</th>\n",
       "      <th>mean_train_r2</th>\n",
       "      <th>mean_test_r2</th>\n",
       "      <th>mean_train_RMSE</th>\n",
       "      <th>mean_test_RMSE</th>\n",
       "    </tr>\n",
       "  </thead>\n",
       "  <tbody>\n",
       "    <tr>\n",
       "      <th>0</th>\n",
       "      <td>0.1</td>\n",
       "      <td>NaN</td>\n",
       "      <td>NaN</td>\n",
       "      <td>0.990058</td>\n",
       "      <td>0.934359</td>\n",
       "      <td>3958.539368</td>\n",
       "      <td>10458.591830</td>\n",
       "    </tr>\n",
       "    <tr>\n",
       "      <th>1</th>\n",
       "      <td>0.2</td>\n",
       "      <td>NaN</td>\n",
       "      <td>NaN</td>\n",
       "      <td>0.992471</td>\n",
       "      <td>0.951016</td>\n",
       "      <td>3444.525790</td>\n",
       "      <td>9009.224522</td>\n",
       "    </tr>\n",
       "    <tr>\n",
       "      <th>2</th>\n",
       "      <td>0.3</td>\n",
       "      <td>NaN</td>\n",
       "      <td>NaN</td>\n",
       "      <td>0.993114</td>\n",
       "      <td>0.954470</td>\n",
       "      <td>3293.741489</td>\n",
       "      <td>8657.353666</td>\n",
       "    </tr>\n",
       "    <tr>\n",
       "      <th>3</th>\n",
       "      <td>0.4</td>\n",
       "      <td>NaN</td>\n",
       "      <td>NaN</td>\n",
       "      <td>0.993087</td>\n",
       "      <td>0.953315</td>\n",
       "      <td>3300.526099</td>\n",
       "      <td>8735.602450</td>\n",
       "    </tr>\n",
       "    <tr>\n",
       "      <th>4</th>\n",
       "      <td>0.5</td>\n",
       "      <td>NaN</td>\n",
       "      <td>NaN</td>\n",
       "      <td>0.993153</td>\n",
       "      <td>0.953092</td>\n",
       "      <td>3284.632408</td>\n",
       "      <td>8750.514132</td>\n",
       "    </tr>\n",
       "    <tr>\n",
       "      <th>5</th>\n",
       "      <td>0.6</td>\n",
       "      <td>NaN</td>\n",
       "      <td>NaN</td>\n",
       "      <td>0.993114</td>\n",
       "      <td>0.953870</td>\n",
       "      <td>3294.001247</td>\n",
       "      <td>8666.814952</td>\n",
       "    </tr>\n",
       "    <tr>\n",
       "      <th>6</th>\n",
       "      <td>NaN</td>\n",
       "      <td>2</td>\n",
       "      <td>NaN</td>\n",
       "      <td>0.589793</td>\n",
       "      <td>0.568773</td>\n",
       "      <td>25417.132474</td>\n",
       "      <td>26066.681362</td>\n",
       "    </tr>\n",
       "    <tr>\n",
       "      <th>7</th>\n",
       "      <td>NaN</td>\n",
       "      <td>3</td>\n",
       "      <td>NaN</td>\n",
       "      <td>0.677387</td>\n",
       "      <td>0.652755</td>\n",
       "      <td>22539.717234</td>\n",
       "      <td>23349.300460</td>\n",
       "    </tr>\n",
       "    <tr>\n",
       "      <th>8</th>\n",
       "      <td>NaN</td>\n",
       "      <td>4</td>\n",
       "      <td>NaN</td>\n",
       "      <td>0.753491</td>\n",
       "      <td>0.724120</td>\n",
       "      <td>19702.671723</td>\n",
       "      <td>20797.568480</td>\n",
       "    </tr>\n",
       "    <tr>\n",
       "      <th>9</th>\n",
       "      <td>NaN</td>\n",
       "      <td>5</td>\n",
       "      <td>NaN</td>\n",
       "      <td>0.818060</td>\n",
       "      <td>0.790012</td>\n",
       "      <td>16926.574989</td>\n",
       "      <td>18132.364516</td>\n",
       "    </tr>\n",
       "    <tr>\n",
       "      <th>10</th>\n",
       "      <td>NaN</td>\n",
       "      <td>6</td>\n",
       "      <td>NaN</td>\n",
       "      <td>0.875322</td>\n",
       "      <td>0.847049</td>\n",
       "      <td>14012.207840</td>\n",
       "      <td>15487.673109</td>\n",
       "    </tr>\n",
       "    <tr>\n",
       "      <th>11</th>\n",
       "      <td>NaN</td>\n",
       "      <td>NaN</td>\n",
       "      <td>0.1</td>\n",
       "      <td>0.692718</td>\n",
       "      <td>0.673511</td>\n",
       "      <td>21996.758034</td>\n",
       "      <td>22739.253838</td>\n",
       "    </tr>\n",
       "    <tr>\n",
       "      <th>12</th>\n",
       "      <td>NaN</td>\n",
       "      <td>NaN</td>\n",
       "      <td>0.2</td>\n",
       "      <td>0.541604</td>\n",
       "      <td>0.537210</td>\n",
       "      <td>26869.725235</td>\n",
       "      <td>27114.581625</td>\n",
       "    </tr>\n",
       "    <tr>\n",
       "      <th>13</th>\n",
       "      <td>NaN</td>\n",
       "      <td>NaN</td>\n",
       "      <td>0.3</td>\n",
       "      <td>0.451176</td>\n",
       "      <td>0.455628</td>\n",
       "      <td>29401.366978</td>\n",
       "      <td>29428.168399</td>\n",
       "    </tr>\n",
       "    <tr>\n",
       "      <th>14</th>\n",
       "      <td>NaN</td>\n",
       "      <td>NaN</td>\n",
       "      <td>0.4</td>\n",
       "      <td>0.451176</td>\n",
       "      <td>0.455628</td>\n",
       "      <td>29401.366978</td>\n",
       "      <td>29428.168399</td>\n",
       "    </tr>\n",
       "    <tr>\n",
       "      <th>15</th>\n",
       "      <td>NaN</td>\n",
       "      <td>NaN</td>\n",
       "      <td>0.5</td>\n",
       "      <td>0.384921</td>\n",
       "      <td>0.388183</td>\n",
       "      <td>31124.940751</td>\n",
       "      <td>31153.553363</td>\n",
       "    </tr>\n",
       "    <tr>\n",
       "      <th>16</th>\n",
       "      <td>NaN</td>\n",
       "      <td>NaN</td>\n",
       "      <td>0.6</td>\n",
       "      <td>0.384921</td>\n",
       "      <td>0.388183</td>\n",
       "      <td>31124.940751</td>\n",
       "      <td>31153.553363</td>\n",
       "    </tr>\n",
       "  </tbody>\n",
       "</table>\n",
       "</div>"
      ],
      "text/plain": [
       "   param_max_features param_max_depth param_min_samples_split  mean_train_r2  \\\n",
       "0                 0.1             NaN                     NaN       0.990058   \n",
       "1                 0.2             NaN                     NaN       0.992471   \n",
       "2                 0.3             NaN                     NaN       0.993114   \n",
       "3                 0.4             NaN                     NaN       0.993087   \n",
       "4                 0.5             NaN                     NaN       0.993153   \n",
       "5                 0.6             NaN                     NaN       0.993114   \n",
       "6                 NaN               2                     NaN       0.589793   \n",
       "7                 NaN               3                     NaN       0.677387   \n",
       "8                 NaN               4                     NaN       0.753491   \n",
       "9                 NaN               5                     NaN       0.818060   \n",
       "10                NaN               6                     NaN       0.875322   \n",
       "11                NaN             NaN                     0.1       0.692718   \n",
       "12                NaN             NaN                     0.2       0.541604   \n",
       "13                NaN             NaN                     0.3       0.451176   \n",
       "14                NaN             NaN                     0.4       0.451176   \n",
       "15                NaN             NaN                     0.5       0.384921   \n",
       "16                NaN             NaN                     0.6       0.384921   \n",
       "\n",
       "    mean_test_r2  mean_train_RMSE  mean_test_RMSE  \n",
       "0       0.934359      3958.539368    10458.591830  \n",
       "1       0.951016      3444.525790     9009.224522  \n",
       "2       0.954470      3293.741489     8657.353666  \n",
       "3       0.953315      3300.526099     8735.602450  \n",
       "4       0.953092      3284.632408     8750.514132  \n",
       "5       0.953870      3294.001247     8666.814952  \n",
       "6       0.568773     25417.132474    26066.681362  \n",
       "7       0.652755     22539.717234    23349.300460  \n",
       "8       0.724120     19702.671723    20797.568480  \n",
       "9       0.790012     16926.574989    18132.364516  \n",
       "10      0.847049     14012.207840    15487.673109  \n",
       "11      0.673511     21996.758034    22739.253838  \n",
       "12      0.537210     26869.725235    27114.581625  \n",
       "13      0.455628     29401.366978    29428.168399  \n",
       "14      0.455628     29401.366978    29428.168399  \n",
       "15      0.388183     31124.940751    31153.553363  \n",
       "16      0.388183     31124.940751    31153.553363  "
      ]
     },
     "execution_count": 91,
     "metadata": {},
     "output_type": "execute_result"
    }
   ],
   "source": [
    "#View Results for Random Forest Regressor\n",
    "df_rf_res = pd.DataFrame(grid_search_rf.cv_results_)\n",
    "\n",
    "df_rf_res['mean_train_RMSE'] = np.sqrt(-df_rf_res.loc[:,'mean_train_neg_mean_squared_error'])\n",
    "df_rf_res['mean_test_RMSE'] = np.sqrt(-df_rf_res.loc[:,'mean_test_neg_mean_squared_error'])\n",
    " \n",
    "#view results.\n",
    "df_rf_res.loc[:,(['param_max_features',\n",
    "                  'param_max_depth',\n",
    "                  'param_min_samples_split',\n",
    "                  'mean_train_r2',\n",
    "                  'mean_test_r2',\n",
    "                  'mean_train_RMSE',\n",
    "                  'mean_test_RMSE'])]"
   ]
  },
  {
   "cell_type": "code",
   "execution_count": 92,
   "metadata": {},
   "outputs": [
    {
     "data": {
      "image/png": "[encoded data removed]",
      "text/plain": [
       "<Figure size 432x432 with 1 Axes>"
      ]
     },
     "metadata": {
      "needs_background": "light"
     },
     "output_type": "display_data"
    },
    {
     "data": {
      "image/png": "[encoded data removed]",
      "text/plain": [
       "<Figure size 432x432 with 1 Axes>"
      ]
     },
     "metadata": {
      "needs_background": "light"
     },
     "output_type": "display_data"
    },
    {
     "data": {
      "image/png": "[encoded data removed]",
      "text/plain": [
       "<Figure size 432x432 with 1 Axes>"
      ]
     },
     "metadata": {
      "needs_background": "light"
     },
     "output_type": "display_data"
    }
   ],
   "source": [
    "for i in range(0,len(param_grid_rf)):\n",
    "    parameter_name = list(param_grid_rf[i])[0]\n",
    "    gridsearch_scoreplot_nocombination(df_rf_res,'r2',parameter_name)"
   ]
  },
  {
   "cell_type": "markdown",
   "metadata": {},
   "source": [
    " - Parameter: min_samples_split did not improve the model. I decided to leave it untouched.\n",
    " - Parameter: max_depth kept increasing. With the values I selected I was underfitting. I decided it to leave it untouched.\n",
    " - Parameter: max_features I saw it increase and plateau. This indicates a sweet spot exists and I'll iterate further.\n",
    " - Paramter: n_estimators is next"
   ]
  },
  {
   "cell_type": "code",
   "execution_count": 95,
   "metadata": {},
   "outputs": [
    {
     "data": {
      "text/plain": [
       "GridSearchCV(cv=KFold(n_splits=10, random_state=42, shuffle=True),\n",
       "       error_score='raise-deprecating',\n",
       "       estimator=RandomForestRegressor(bootstrap=True, criterion='mse', max_depth=None,\n",
       "           max_features='auto', max_leaf_nodes=None,\n",
       "           min_impurity_decrease=0.0, min_impurity_split=None,\n",
       "           min_samples_leaf=1, min_samples_split=2,\n",
       "           min_weight_fraction_leaf=0.0, n_estimators='warn', n_jobs=-1,\n",
       "           oob_score=False, random_state=42, verbose=0, warm_start=False),\n",
       "       fit_params=None, iid='warn', n_jobs=None,\n",
       "       param_grid=[{'max_features': [0.2, 0.25, 0.3], 'n_estimators': [20, 50, 100, 200, 300, 400, 500, 600]}],\n",
       "       pre_dispatch='2*n_jobs', refit='r2', return_train_score=True,\n",
       "       scoring=['r2', 'neg_mean_squared_error'], verbose=0)"
      ]
     },
     "execution_count": 95,
     "metadata": {},
     "output_type": "execute_result"
    }
   ],
   "source": [
    "rfr_v2 = RandomForestRegressor(random_state=42,n_jobs=-1)\n",
    "\n",
    "param_grid_rf_v2 = [{'max_features':[0.2,0.25,0.3],'n_estimators':[20,50,100,200,300,400,500,600]}]\n",
    "\n",
    "grid_search_rf_v2 = GridSearchCV(rfr_v2,param_grid_rf_v2,cv=kfold,scoring=score_metric,refit='r2',return_train_score=True)\n",
    "grid_search_rf_v2.fit(X_train,y_train)"
   ]
  },
  {
   "cell_type": "code",
   "execution_count": 106,
   "metadata": {},
   "outputs": [
    {
     "data": {
      "text/html": [
       "<div>\n",
       "<style scoped>\n",
       "    .dataframe tbody tr th:only-of-type {\n",
       "        vertical-align: middle;\n",
       "    }\n",
       "\n",
       "    .dataframe tbody tr th {\n",
       "        vertical-align: top;\n",
       "    }\n",
       "\n",
       "    .dataframe thead th {\n",
       "        text-align: right;\n",
       "    }\n",
       "</style>\n",
       "<table border=\"1\" class=\"dataframe\">\n",
       "  <thead>\n",
       "    <tr style=\"text-align: right;\">\n",
       "      <th></th>\n",
       "      <th>param_max_features</th>\n",
       "      <th>param_n_estimators</th>\n",
       "      <th>mean_train_r2</th>\n",
       "      <th>mean_test_r2</th>\n",
       "      <th>mean_train_RMSE</th>\n",
       "      <th>mean_test_RMSE</th>\n",
       "    </tr>\n",
       "  </thead>\n",
       "  <tbody>\n",
       "    <tr>\n",
       "      <th>0</th>\n",
       "      <td>0.2</td>\n",
       "      <td>20</td>\n",
       "      <td>0.990632</td>\n",
       "      <td>0.947459</td>\n",
       "      <td>3841.981801</td>\n",
       "      <td>9340.404686</td>\n",
       "    </tr>\n",
       "    <tr>\n",
       "      <th>1</th>\n",
       "      <td>0.2</td>\n",
       "      <td>50</td>\n",
       "      <td>0.992355</td>\n",
       "      <td>0.949541</td>\n",
       "      <td>3470.960744</td>\n",
       "      <td>9137.239878</td>\n",
       "    </tr>\n",
       "    <tr>\n",
       "      <th>2</th>\n",
       "      <td>0.2</td>\n",
       "      <td>100</td>\n",
       "      <td>0.992471</td>\n",
       "      <td>0.951016</td>\n",
       "      <td>3444.525790</td>\n",
       "      <td>9009.224522</td>\n",
       "    </tr>\n",
       "    <tr>\n",
       "      <th>3</th>\n",
       "      <td>0.2</td>\n",
       "      <td>200</td>\n",
       "      <td>0.992872</td>\n",
       "      <td>0.950659</td>\n",
       "      <td>3351.451432</td>\n",
       "      <td>9047.650281</td>\n",
       "    </tr>\n",
       "    <tr>\n",
       "      <th>4</th>\n",
       "      <td>0.2</td>\n",
       "      <td>300</td>\n",
       "      <td>0.992857</td>\n",
       "      <td>0.950503</td>\n",
       "      <td>3355.262059</td>\n",
       "      <td>9064.461603</td>\n",
       "    </tr>\n",
       "    <tr>\n",
       "      <th>5</th>\n",
       "      <td>0.2</td>\n",
       "      <td>400</td>\n",
       "      <td>0.992870</td>\n",
       "      <td>0.950628</td>\n",
       "      <td>3352.004234</td>\n",
       "      <td>9057.426368</td>\n",
       "    </tr>\n",
       "    <tr>\n",
       "      <th>6</th>\n",
       "      <td>0.2</td>\n",
       "      <td>500</td>\n",
       "      <td>0.992852</td>\n",
       "      <td>0.951038</td>\n",
       "      <td>3356.495057</td>\n",
       "      <td>9020.635279</td>\n",
       "    </tr>\n",
       "    <tr>\n",
       "      <th>7</th>\n",
       "      <td>0.2</td>\n",
       "      <td>600</td>\n",
       "      <td>0.992932</td>\n",
       "      <td>0.951108</td>\n",
       "      <td>3337.485422</td>\n",
       "      <td>9016.121983</td>\n",
       "    </tr>\n",
       "    <tr>\n",
       "      <th>8</th>\n",
       "      <td>0.25</td>\n",
       "      <td>20</td>\n",
       "      <td>0.990898</td>\n",
       "      <td>0.951703</td>\n",
       "      <td>3788.263216</td>\n",
       "      <td>8909.185580</td>\n",
       "    </tr>\n",
       "    <tr>\n",
       "      <th>9</th>\n",
       "      <td>0.25</td>\n",
       "      <td>50</td>\n",
       "      <td>0.992599</td>\n",
       "      <td>0.952009</td>\n",
       "      <td>3415.280888</td>\n",
       "      <td>8875.436786</td>\n",
       "    </tr>\n",
       "    <tr>\n",
       "      <th>10</th>\n",
       "      <td>0.25</td>\n",
       "      <td>100</td>\n",
       "      <td>0.992735</td>\n",
       "      <td>0.952174</td>\n",
       "      <td>3383.753434</td>\n",
       "      <td>8869.862268</td>\n",
       "    </tr>\n",
       "    <tr>\n",
       "      <th>11</th>\n",
       "      <td>0.25</td>\n",
       "      <td>200</td>\n",
       "      <td>0.993128</td>\n",
       "      <td>0.952835</td>\n",
       "      <td>3290.745022</td>\n",
       "      <td>8818.611962</td>\n",
       "    </tr>\n",
       "    <tr>\n",
       "      <th>12</th>\n",
       "      <td>0.25</td>\n",
       "      <td>300</td>\n",
       "      <td>0.993171</td>\n",
       "      <td>0.953240</td>\n",
       "      <td>3280.547348</td>\n",
       "      <td>8784.396218</td>\n",
       "    </tr>\n",
       "    <tr>\n",
       "      <th>13</th>\n",
       "      <td>0.25</td>\n",
       "      <td>400</td>\n",
       "      <td>0.993217</td>\n",
       "      <td>0.953887</td>\n",
       "      <td>3269.640134</td>\n",
       "      <td>8723.578768</td>\n",
       "    </tr>\n",
       "    <tr>\n",
       "      <th>14</th>\n",
       "      <td>0.25</td>\n",
       "      <td>500</td>\n",
       "      <td>0.993196</td>\n",
       "      <td>0.954142</td>\n",
       "      <td>3274.611946</td>\n",
       "      <td>8703.129628</td>\n",
       "    </tr>\n",
       "    <tr>\n",
       "      <th>15</th>\n",
       "      <td>0.25</td>\n",
       "      <td>600</td>\n",
       "      <td>0.993253</td>\n",
       "      <td>0.954069</td>\n",
       "      <td>3260.832123</td>\n",
       "      <td>8711.927826</td>\n",
       "    </tr>\n",
       "    <tr>\n",
       "      <th>16</th>\n",
       "      <td>0.3</td>\n",
       "      <td>20</td>\n",
       "      <td>0.991469</td>\n",
       "      <td>0.950749</td>\n",
       "      <td>3666.368483</td>\n",
       "      <td>9020.281382</td>\n",
       "    </tr>\n",
       "    <tr>\n",
       "      <th>17</th>\n",
       "      <td>0.3</td>\n",
       "      <td>50</td>\n",
       "      <td>0.992824</td>\n",
       "      <td>0.951540</td>\n",
       "      <td>3362.305520</td>\n",
       "      <td>8932.563704</td>\n",
       "    </tr>\n",
       "    <tr>\n",
       "      <th>18</th>\n",
       "      <td>0.3</td>\n",
       "      <td>100</td>\n",
       "      <td>0.993114</td>\n",
       "      <td>0.954470</td>\n",
       "      <td>3293.741489</td>\n",
       "      <td>8657.353666</td>\n",
       "    </tr>\n",
       "    <tr>\n",
       "      <th>19</th>\n",
       "      <td>0.3</td>\n",
       "      <td>200</td>\n",
       "      <td>0.993322</td>\n",
       "      <td>0.953986</td>\n",
       "      <td>3243.817060</td>\n",
       "      <td>8691.524848</td>\n",
       "    </tr>\n",
       "    <tr>\n",
       "      <th>20</th>\n",
       "      <td>0.3</td>\n",
       "      <td>300</td>\n",
       "      <td>0.993376</td>\n",
       "      <td>0.954001</td>\n",
       "      <td>3230.961347</td>\n",
       "      <td>8697.658604</td>\n",
       "    </tr>\n",
       "    <tr>\n",
       "      <th>21</th>\n",
       "      <td>0.3</td>\n",
       "      <td>400</td>\n",
       "      <td>0.993402</td>\n",
       "      <td>0.954241</td>\n",
       "      <td>3224.635295</td>\n",
       "      <td>8680.285811</td>\n",
       "    </tr>\n",
       "    <tr>\n",
       "      <th>22</th>\n",
       "      <td>0.3</td>\n",
       "      <td>500</td>\n",
       "      <td>0.993361</td>\n",
       "      <td>0.954485</td>\n",
       "      <td>3234.603566</td>\n",
       "      <td>8657.497627</td>\n",
       "    </tr>\n",
       "    <tr>\n",
       "      <th>23</th>\n",
       "      <td>0.3</td>\n",
       "      <td>600</td>\n",
       "      <td>0.993406</td>\n",
       "      <td>0.954442</td>\n",
       "      <td>3223.549306</td>\n",
       "      <td>8659.822423</td>\n",
       "    </tr>\n",
       "  </tbody>\n",
       "</table>\n",
       "</div>"
      ],
      "text/plain": [
       "   param_max_features param_n_estimators  mean_train_r2  mean_test_r2  \\\n",
       "0                 0.2                 20       0.990632      0.947459   \n",
       "1                 0.2                 50       0.992355      0.949541   \n",
       "2                 0.2                100       0.992471      0.951016   \n",
       "3                 0.2                200       0.992872      0.950659   \n",
       "4                 0.2                300       0.992857      0.950503   \n",
       "5                 0.2                400       0.992870      0.950628   \n",
       "6                 0.2                500       0.992852      0.951038   \n",
       "7                 0.2                600       0.992932      0.951108   \n",
       "8                0.25                 20       0.990898      0.951703   \n",
       "9                0.25                 50       0.992599      0.952009   \n",
       "10               0.25                100       0.992735      0.952174   \n",
       "11               0.25                200       0.993128      0.952835   \n",
       "12               0.25                300       0.993171      0.953240   \n",
       "13               0.25                400       0.993217      0.953887   \n",
       "14               0.25                500       0.993196      0.954142   \n",
       "15               0.25                600       0.993253      0.954069   \n",
       "16                0.3                 20       0.991469      0.950749   \n",
       "17                0.3                 50       0.992824      0.951540   \n",
       "18                0.3                100       0.993114      0.954470   \n",
       "19                0.3                200       0.993322      0.953986   \n",
       "20                0.3                300       0.993376      0.954001   \n",
       "21                0.3                400       0.993402      0.954241   \n",
       "22                0.3                500       0.993361      0.954485   \n",
       "23                0.3                600       0.993406      0.954442   \n",
       "\n",
       "    mean_train_RMSE  mean_test_RMSE  \n",
       "0       3841.981801     9340.404686  \n",
       "1       3470.960744     9137.239878  \n",
       "2       3444.525790     9009.224522  \n",
       "3       3351.451432     9047.650281  \n",
       "4       3355.262059     9064.461603  \n",
       "5       3352.004234     9057.426368  \n",
       "6       3356.495057     9020.635279  \n",
       "7       3337.485422     9016.121983  \n",
       "8       3788.263216     8909.185580  \n",
       "9       3415.280888     8875.436786  \n",
       "10      3383.753434     8869.862268  \n",
       "11      3290.745022     8818.611962  \n",
       "12      3280.547348     8784.396218  \n",
       "13      3269.640134     8723.578768  \n",
       "14      3274.611946     8703.129628  \n",
       "15      3260.832123     8711.927826  \n",
       "16      3666.368483     9020.281382  \n",
       "17      3362.305520     8932.563704  \n",
       "18      3293.741489     8657.353666  \n",
       "19      3243.817060     8691.524848  \n",
       "20      3230.961347     8697.658604  \n",
       "21      3224.635295     8680.285811  \n",
       "22      3234.603566     8657.497627  \n",
       "23      3223.549306     8659.822423  "
      ]
     },
     "execution_count": 106,
     "metadata": {},
     "output_type": "execute_result"
    }
   ],
   "source": [
    "#View Results for Random Forest Regressor\n",
    "df_rf_res_v2 = pd.DataFrame(grid_search_rf_v2.cv_results_)\n",
    "\n",
    "df_rf_res_v2['mean_train_RMSE'] = np.sqrt(-df_rf_res_v2.loc[:,'mean_train_neg_mean_squared_error'])\n",
    "df_rf_res_v2['mean_test_RMSE'] = np.sqrt(-df_rf_res_v2.loc[:,'mean_test_neg_mean_squared_error'])\n",
    " \n",
    "#view results.\n",
    "df_rf_res_v2.loc[:,(['param_max_features',\n",
    "                     'param_n_estimators',\n",
    "                     'mean_train_r2',\n",
    "                     'mean_test_r2',\n",
    "                     'mean_train_RMSE',\n",
    "                     'mean_test_RMSE'])]"
   ]
  },
  {
   "cell_type": "code",
   "execution_count": 107,
   "metadata": {},
   "outputs": [
    {
     "data": {
      "image/png": "[encoded data removed]",
      "text/plain": [
       "<Figure size 432x432 with 1 Axes>"
      ]
     },
     "metadata": {
      "needs_background": "light"
     },
     "output_type": "display_data"
    },
    {
     "data": {
      "image/png": "[encoded data removed]",
      "text/plain": [
       "<Figure size 432x432 with 1 Axes>"
      ]
     },
     "metadata": {
      "needs_background": "light"
     },
     "output_type": "display_data"
    },
    {
     "data": {
      "image/png": "[encoded data removed]",
      "text/plain": [
       "<Figure size 432x432 with 1 Axes>"
      ]
     },
     "metadata": {
      "needs_background": "light"
     },
     "output_type": "display_data"
    }
   ],
   "source": [
    "for max_feature in df_rf_res_v2.loc[:,'param_max_features'].unique():\n",
    "    \n",
    "    #Create Boolean Mask\n",
    "    b_max_feature = df_rf_res_v2.loc[:,'param_max_features'] == max_feature\n",
    "    \n",
    "    gridsearch_scoreplot_nocombination(df_rf_res_v2.loc[b_max_feature,:],'r2','n_estimators')\n",
    "    "
   ]
  },
  {
   "cell_type": "markdown",
   "metadata": {},
   "source": [
    "### Test tuned parameter against the test set."
   ]
  },
  {
   "cell_type": "markdown",
   "metadata": {},
   "source": [
    "__Train against the test set. Gradient Boosted Tree Regressor.__"
   ]
  },
  {
   "cell_type": "code",
   "execution_count": 111,
   "metadata": {},
   "outputs": [
    {
     "name": "stdout",
     "output_type": "stream",
     "text": [
      "Test score: 0.97\n",
      "Test RMSE score: 6862.53\n"
     ]
    }
   ],
   "source": [
    "gbrt_final = GradientBoostingRegressor(n_estimators=100,max_depth=4,random_state=42)\n",
    "\n",
    "gbrt_final.fit(X_test,y_test)\n",
    "final_predictions_gbrt = gbrt_final.predict(X_test)\n",
    "\n",
    "from sklearn.metrics import mean_squared_error\n",
    "\n",
    "#Calculate RMSE\n",
    "final_mse_gbrt = mean_squared_error(y_test,final_predictions_gbrt)\n",
    "final_rmse_gbrt = np.sqrt(final_mse_gbrt)\n",
    "\n",
    "final_score_gbrt = gbrt_final.score(X_test,y_test)\n",
    "\n",
    "print('Test score: {:.2f}'.format(final_score_gbrt))\n",
    "print('Test RMSE score: {:.2f}'.format(final_rmse_gbrt))"
   ]
  },
  {
   "cell_type": "code",
   "execution_count": 108,
   "metadata": {},
   "outputs": [
    {
     "name": "stdout",
     "output_type": "stream",
     "text": [
      "Test score: 0.98\n",
      "Test RMSE score: 5963.81\n"
     ]
    }
   ],
   "source": [
    "rfr_final = RandomForestRegressor(n_estimators=100,max_features=0.3,random_state=42,n_jobs=-1)\n",
    "\n",
    "rfr_final.fit(X_test,y_test)\n",
    "final_predictions_rfr = rfr_final.predict(X_test)\n",
    "\n",
    "from sklearn.metrics import mean_squared_error\n",
    "\n",
    "#Calculate RMSE\n",
    "final_mse_rfr = mean_squared_error(y_test,final_predictions_rfr)\n",
    "final_rmse_rfr = np.sqrt(final_mse_rfr)\n",
    "\n",
    "#Calculate r2 Score\n",
    "final_score_rfr = rfr_final.score(X_test,y_test)\n",
    "\n",
    "print('Test score: {:.2f}'.format(final_score_rfr))\n",
    "print('Test RMSE score: {:.2f}'.format(final_rmse_rfr))"
   ]
  },
  {
   "cell_type": "markdown",
   "metadata": {},
   "source": [
    "_The models generalized well with the test set. Both achieved scores > 97% and the errors are managable._"
   ]
  }
 ],
 "metadata": {
  "kernelspec": {
   "display_name": "Python 3",
   "language": "python",
   "name": "python3"
  },
  "language_info": {
   "codemirror_mode": {
    "name": "ipython",
    "version": 3
   },
   "file_extension": ".py",
   "mimetype": "text/x-python",
   "name": "python",
   "nbconvert_exporter": "python",
   "pygments_lexer": "ipython3",
   "version": "3.7.1"
  }
 },
 "nbformat": 4,
 "nbformat_minor": 2
}
