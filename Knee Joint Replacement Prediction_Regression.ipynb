{
 "cells": [
  {
   "cell_type": "markdown",
   "metadata": {},
   "source": [
    "# Knee Joint Replacement Prediction Regression Model\n",
    "\n",
    "I recently finished an in-depth data exploration on the regional healthcare costs in New York State where I singled out knee joint replacement surgeries as one the most common medical procedures performed, and one of the most expensive (costs can vary by more than $100,000). \n",
    "\n",
    "Despite only a moderate increase in patient volumes (11,000 new patients treated in 2016 compared to 2009) their costs have skyrocketed over time. In an effort to help New York State residents financially plan for this medical procedure, I decided to build a machine learning model that could predict the cost of a knee joint replacement surgery. My goal was to have this model complement other healthcare cost estimators available to give patients more financial information. I framed this problem as a supervised regression task using a single batch of data."
   ]
  },
  {
   "cell_type": "markdown",
   "metadata": {},
   "source": [
    "## 2. Get the Data"
   ]
  },
  {
   "cell_type": "code",
   "execution_count": 1,
   "metadata": {},
   "outputs": [],
   "source": [
    "#Import the necessary libraries to perform exploratory data analysis\n",
    "\n",
    "import pandas as pd #Import Pandas\n",
    "import numpy as np #Import Numpy\n",
    "\n",
    "import matplotlib.pyplot as plt"
   ]
  },
  {
   "cell_type": "markdown",
   "metadata": {},
   "source": [
    "The data was obtained from the NYS Department of Health [website.](https://health.data.ny.gov/Health/Hospital-Inpatient-Discharges-SPARCS-De-Identified/gnzp-ekau) This data is 2016 Hospital Inpatient Discharges (SPARCS de-identified). It contains basic record level detail for individual discharges. "
   ]
  },
  {
   "cell_type": "markdown",
   "metadata": {},
   "source": [
    "From my previous __[analysis](https://towardsdatascience.com/data-analysis-of-new-york-state-regional-healthcare-costs-d72fb579601f)__, knee joint replacement surgery was one of the most interesting medical conditions. Let's build a model to predict its charge. "
   ]
  },
  {
   "cell_type": "code",
   "execution_count": 2,
   "metadata": {},
   "outputs": [
    {
     "name": "stderr",
     "output_type": "stream",
     "text": [
      "C:\\Users\\Manuel Ramirez\\Anaconda3\\lib\\site-packages\\IPython\\core\\interactiveshell.py:3020: DtypeWarning: Columns (11) have mixed types. Specify dtype option on import or set low_memory=False.\n",
      "  interactivity=interactivity, compiler=compiler, result=result)\n"
     ]
    },
    {
     "data": {
      "text/html": [
       "<div>\n",
       "<style scoped>\n",
       "    .dataframe tbody tr th:only-of-type {\n",
       "        vertical-align: middle;\n",
       "    }\n",
       "\n",
       "    .dataframe tbody tr th {\n",
       "        vertical-align: top;\n",
       "    }\n",
       "\n",
       "    .dataframe thead th {\n",
       "        text-align: right;\n",
       "    }\n",
       "</style>\n",
       "<table border=\"1\" class=\"dataframe\">\n",
       "  <thead>\n",
       "    <tr style=\"text-align: right;\">\n",
       "      <th></th>\n",
       "      <th>Unnamed: 0</th>\n",
       "      <th>Health Service Area</th>\n",
       "      <th>Hospital County</th>\n",
       "      <th>Operating Certificate Number</th>\n",
       "      <th>Facility Id</th>\n",
       "      <th>Facility Name</th>\n",
       "      <th>Age Group</th>\n",
       "      <th>Zip Code - 3 digits</th>\n",
       "      <th>Gender</th>\n",
       "      <th>Race</th>\n",
       "      <th>...</th>\n",
       "      <th>Payment Typology 3</th>\n",
       "      <th>Attending Provider License Number</th>\n",
       "      <th>Operating Provider License Number</th>\n",
       "      <th>Other Provider License Number</th>\n",
       "      <th>Birth Weight</th>\n",
       "      <th>Abortion Edit Indicator</th>\n",
       "      <th>Emergency Department Indicator</th>\n",
       "      <th>Total Charges</th>\n",
       "      <th>Total Costs</th>\n",
       "      <th>Ratio of Total Costs to Total Charges</th>\n",
       "    </tr>\n",
       "  </thead>\n",
       "  <tbody>\n",
       "    <tr>\n",
       "      <th>0</th>\n",
       "      <td>35</td>\n",
       "      <td>Western NY</td>\n",
       "      <td>Allegany</td>\n",
       "      <td>228000.0</td>\n",
       "      <td>39.0</td>\n",
       "      <td>Memorial Hosp of Wm F &amp; Gertrude F Jones A/K/A...</td>\n",
       "      <td>50 to 69</td>\n",
       "      <td>148</td>\n",
       "      <td>M</td>\n",
       "      <td>White</td>\n",
       "      <td>...</td>\n",
       "      <td>Self-Pay</td>\n",
       "      <td>213053.0</td>\n",
       "      <td>213053.0</td>\n",
       "      <td>NaN</td>\n",
       "      <td>0</td>\n",
       "      <td>N</td>\n",
       "      <td>N</td>\n",
       "      <td>23344.75</td>\n",
       "      <td>11281.89</td>\n",
       "      <td>0.483273</td>\n",
       "    </tr>\n",
       "    <tr>\n",
       "      <th>1</th>\n",
       "      <td>36</td>\n",
       "      <td>Western NY</td>\n",
       "      <td>Allegany</td>\n",
       "      <td>228000.0</td>\n",
       "      <td>39.0</td>\n",
       "      <td>Memorial Hosp of Wm F &amp; Gertrude F Jones A/K/A...</td>\n",
       "      <td>50 to 69</td>\n",
       "      <td>148</td>\n",
       "      <td>F</td>\n",
       "      <td>White</td>\n",
       "      <td>...</td>\n",
       "      <td>Self-Pay</td>\n",
       "      <td>213053.0</td>\n",
       "      <td>213053.0</td>\n",
       "      <td>NaN</td>\n",
       "      <td>0</td>\n",
       "      <td>N</td>\n",
       "      <td>N</td>\n",
       "      <td>25154.00</td>\n",
       "      <td>12415.67</td>\n",
       "      <td>0.493586</td>\n",
       "    </tr>\n",
       "    <tr>\n",
       "      <th>2</th>\n",
       "      <td>101</td>\n",
       "      <td>Western NY</td>\n",
       "      <td>Allegany</td>\n",
       "      <td>228000.0</td>\n",
       "      <td>39.0</td>\n",
       "      <td>Memorial Hosp of Wm F &amp; Gertrude F Jones A/K/A...</td>\n",
       "      <td>50 to 69</td>\n",
       "      <td>148</td>\n",
       "      <td>F</td>\n",
       "      <td>White</td>\n",
       "      <td>...</td>\n",
       "      <td>Self-Pay</td>\n",
       "      <td>213053.0</td>\n",
       "      <td>213053.0</td>\n",
       "      <td>NaN</td>\n",
       "      <td>0</td>\n",
       "      <td>N</td>\n",
       "      <td>N</td>\n",
       "      <td>29389.50</td>\n",
       "      <td>14873.56</td>\n",
       "      <td>0.506084</td>\n",
       "    </tr>\n",
       "    <tr>\n",
       "      <th>3</th>\n",
       "      <td>103</td>\n",
       "      <td>Western NY</td>\n",
       "      <td>Allegany</td>\n",
       "      <td>228000.0</td>\n",
       "      <td>39.0</td>\n",
       "      <td>Memorial Hosp of Wm F &amp; Gertrude F Jones A/K/A...</td>\n",
       "      <td>50 to 69</td>\n",
       "      <td>148</td>\n",
       "      <td>M</td>\n",
       "      <td>White</td>\n",
       "      <td>...</td>\n",
       "      <td>Private Health Insurance</td>\n",
       "      <td>213053.0</td>\n",
       "      <td>213053.0</td>\n",
       "      <td>NaN</td>\n",
       "      <td>0</td>\n",
       "      <td>N</td>\n",
       "      <td>N</td>\n",
       "      <td>25029.50</td>\n",
       "      <td>12402.49</td>\n",
       "      <td>0.495515</td>\n",
       "    </tr>\n",
       "    <tr>\n",
       "      <th>4</th>\n",
       "      <td>106</td>\n",
       "      <td>Western NY</td>\n",
       "      <td>Allegany</td>\n",
       "      <td>228000.0</td>\n",
       "      <td>39.0</td>\n",
       "      <td>Memorial Hosp of Wm F &amp; Gertrude F Jones A/K/A...</td>\n",
       "      <td>70 or Older</td>\n",
       "      <td>148</td>\n",
       "      <td>F</td>\n",
       "      <td>White</td>\n",
       "      <td>...</td>\n",
       "      <td>Self-Pay</td>\n",
       "      <td>213053.0</td>\n",
       "      <td>213053.0</td>\n",
       "      <td>NaN</td>\n",
       "      <td>0</td>\n",
       "      <td>N</td>\n",
       "      <td>N</td>\n",
       "      <td>28976.00</td>\n",
       "      <td>14547.43</td>\n",
       "      <td>0.502051</td>\n",
       "    </tr>\n",
       "  </tbody>\n",
       "</table>\n",
       "<p>5 rows × 39 columns</p>\n",
       "</div>"
      ],
      "text/plain": [
       "   Unnamed: 0 Health Service Area Hospital County  \\\n",
       "0          35          Western NY        Allegany   \n",
       "1          36          Western NY        Allegany   \n",
       "2         101          Western NY        Allegany   \n",
       "3         103          Western NY        Allegany   \n",
       "4         106          Western NY        Allegany   \n",
       "\n",
       "   Operating Certificate Number  Facility Id  \\\n",
       "0                      228000.0         39.0   \n",
       "1                      228000.0         39.0   \n",
       "2                      228000.0         39.0   \n",
       "3                      228000.0         39.0   \n",
       "4                      228000.0         39.0   \n",
       "\n",
       "                                       Facility Name    Age Group  \\\n",
       "0  Memorial Hosp of Wm F & Gertrude F Jones A/K/A...     50 to 69   \n",
       "1  Memorial Hosp of Wm F & Gertrude F Jones A/K/A...     50 to 69   \n",
       "2  Memorial Hosp of Wm F & Gertrude F Jones A/K/A...     50 to 69   \n",
       "3  Memorial Hosp of Wm F & Gertrude F Jones A/K/A...     50 to 69   \n",
       "4  Memorial Hosp of Wm F & Gertrude F Jones A/K/A...  70 or Older   \n",
       "\n",
       "  Zip Code - 3 digits Gender   Race                  ...                    \\\n",
       "0                 148      M  White                  ...                     \n",
       "1                 148      F  White                  ...                     \n",
       "2                 148      F  White                  ...                     \n",
       "3                 148      M  White                  ...                     \n",
       "4                 148      F  White                  ...                     \n",
       "\n",
       "         Payment Typology 3 Attending Provider License Number  \\\n",
       "0                  Self-Pay                          213053.0   \n",
       "1                  Self-Pay                          213053.0   \n",
       "2                  Self-Pay                          213053.0   \n",
       "3  Private Health Insurance                          213053.0   \n",
       "4                  Self-Pay                          213053.0   \n",
       "\n",
       "  Operating Provider License Number Other Provider License Number  \\\n",
       "0                          213053.0                           NaN   \n",
       "1                          213053.0                           NaN   \n",
       "2                          213053.0                           NaN   \n",
       "3                          213053.0                           NaN   \n",
       "4                          213053.0                           NaN   \n",
       "\n",
       "   Birth Weight  Abortion Edit Indicator Emergency Department Indicator  \\\n",
       "0             0                        N                              N   \n",
       "1             0                        N                              N   \n",
       "2             0                        N                              N   \n",
       "3             0                        N                              N   \n",
       "4             0                        N                              N   \n",
       "\n",
       "   Total Charges Total Costs  Ratio of Total Costs to Total Charges  \n",
       "0       23344.75    11281.89                               0.483273  \n",
       "1       25154.00    12415.67                               0.493586  \n",
       "2       29389.50    14873.56                               0.506084  \n",
       "3       25029.50    12402.49                               0.495515  \n",
       "4       28976.00    14547.43                               0.502051  \n",
       "\n",
       "[5 rows x 39 columns]"
      ]
     },
     "execution_count": 2,
     "metadata": {},
     "output_type": "execute_result"
    }
   ],
   "source": [
    "#Read the .csv file\n",
    "df_original = pd.read_csv('..\\Knee Joint Replacement\\Hospital_Inpatient_Discharges_SPARCS_DeIdentified_2016_KneeReplacement_Only.csv')\n",
    "\n",
    "#Make a copy and work through the copy.\n",
    "df = df_original.copy()\n",
    "\n",
    "#Get an initial impression of the dataframe.\n",
    "df.head()"
   ]
  },
  {
   "cell_type": "code",
   "execution_count": 3,
   "metadata": {},
   "outputs": [
    {
     "name": "stdout",
     "output_type": "stream",
     "text": [
      "<class 'pandas.core.frame.DataFrame'>\n",
      "RangeIndex: 39824 entries, 0 to 39823\n",
      "Data columns (total 39 columns):\n",
      "Unnamed: 0                               39824 non-null int64\n",
      "Health Service Area                      39824 non-null object\n",
      "Hospital County                          39824 non-null object\n",
      "Operating Certificate Number             39824 non-null float64\n",
      "Facility Id                              39824 non-null float64\n",
      "Facility Name                            39824 non-null object\n",
      "Age Group                                39824 non-null object\n",
      "Zip Code - 3 digits                      39806 non-null object\n",
      "Gender                                   39824 non-null object\n",
      "Race                                     39824 non-null object\n",
      "Ethnicity                                39824 non-null object\n",
      "Length of Stay                           39824 non-null object\n",
      "Type of Admission                        39824 non-null object\n",
      "Patient Disposition                      39824 non-null object\n",
      "Discharge Year                           39824 non-null int64\n",
      "CCS Diagnosis Code                       39824 non-null int64\n",
      "CCS Diagnosis Description                39824 non-null object\n",
      "CCS Procedure Code                       39824 non-null int64\n",
      "CCS Procedure Description                39824 non-null object\n",
      "APR DRG Code                             39824 non-null int64\n",
      "APR DRG Description                      39824 non-null object\n",
      "APR MDC Code                             39824 non-null int64\n",
      "APR MDC Description                      39824 non-null object\n",
      "APR Severity of Illness Code             39824 non-null int64\n",
      "APR Severity of Illness Description      39824 non-null object\n",
      "APR Risk of Mortality                    39824 non-null object\n",
      "APR Medical Surgical Description         39824 non-null object\n",
      "Payment Typology 1                       39824 non-null object\n",
      "Payment Typology 2                       22572 non-null object\n",
      "Payment Typology 3                       8059 non-null object\n",
      "Attending Provider License Number        39824 non-null float64\n",
      "Operating Provider License Number        39824 non-null float64\n",
      "Other Provider License Number            1854 non-null float64\n",
      "Birth Weight                             39824 non-null int64\n",
      "Abortion Edit Indicator                  39824 non-null object\n",
      "Emergency Department Indicator           39824 non-null object\n",
      "Total Charges                            39824 non-null float64\n",
      "Total Costs                              39824 non-null float64\n",
      "Ratio of Total Costs to Total Charges    39824 non-null float64\n",
      "dtypes: float64(8), int64(8), object(23)\n",
      "memory usage: 11.8+ MB\n"
     ]
    }
   ],
   "source": [
    "df.info()"
   ]
  },
  {
   "cell_type": "code",
   "execution_count": 4,
   "metadata": {},
   "outputs": [],
   "source": [
    "#There are 2,343,429 instances, and not all of them will be for knee joint replacement surgery.\n",
    "#Drop all of these rows from the dataframe.\n",
    "df = df.drop(labels=df.loc[df.loc[:,'APR DRG Description'] != 'Knee joint replacement'].index,axis=0)"
   ]
  },
  {
   "cell_type": "code",
   "execution_count": 6,
   "metadata": {},
   "outputs": [
    {
     "name": "stdout",
     "output_type": "stream",
     "text": [
      "<class 'pandas.core.frame.DataFrame'>\n",
      "Int64Index: 39824 entries, 35 to 2342066\n",
      "Data columns (total 38 columns):\n",
      "Health Service Area                      39824 non-null object\n",
      "Hospital County                          39824 non-null object\n",
      "Operating Certificate Number             39824 non-null float64\n",
      "Facility Id                              39824 non-null float64\n",
      "Facility Name                            39824 non-null object\n",
      "Age Group                                39824 non-null object\n",
      "Zip Code - 3 digits                      39806 non-null object\n",
      "Gender                                   39824 non-null object\n",
      "Race                                     39824 non-null object\n",
      "Ethnicity                                39824 non-null object\n",
      "Length of Stay                           39824 non-null object\n",
      "Type of Admission                        39824 non-null object\n",
      "Patient Disposition                      39824 non-null object\n",
      "Discharge Year                           39824 non-null int64\n",
      "CCS Diagnosis Code                       39824 non-null int64\n",
      "CCS Diagnosis Description                39824 non-null object\n",
      "CCS Procedure Code                       39824 non-null int64\n",
      "CCS Procedure Description                39824 non-null object\n",
      "APR DRG Code                             39824 non-null int64\n",
      "APR DRG Description                      39824 non-null object\n",
      "APR MDC Code                             39824 non-null int64\n",
      "APR MDC Description                      39824 non-null object\n",
      "APR Severity of Illness Code             39824 non-null int64\n",
      "APR Severity of Illness Description      39824 non-null object\n",
      "APR Risk of Mortality                    39824 non-null object\n",
      "APR Medical Surgical Description         39824 non-null object\n",
      "Payment Typology 1                       39824 non-null object\n",
      "Payment Typology 2                       22572 non-null object\n",
      "Payment Typology 3                       8059 non-null object\n",
      "Attending Provider License Number        39824 non-null float64\n",
      "Operating Provider License Number        39824 non-null float64\n",
      "Other Provider License Number            1854 non-null float64\n",
      "Birth Weight                             39824 non-null int64\n",
      "Abortion Edit Indicator                  39824 non-null object\n",
      "Emergency Department Indicator           39824 non-null object\n",
      "Total Charges                            39824 non-null float64\n",
      "Total Costs                              39824 non-null float64\n",
      "Ratio of Total Costs to Total Charges    39824 non-null float64\n",
      "dtypes: float64(8), int64(7), object(23)\n",
      "memory usage: 11.8+ MB\n"
     ]
    }
   ],
   "source": [
    "#There are now 39,824 instances and they are now all related to knee joint replacement surgery. \n",
    "df.info()"
   ]
  },
  {
   "cell_type": "code",
   "execution_count": 7,
   "metadata": {},
   "outputs": [],
   "source": [
    "#Let's work through the columns, identify those we can eliminate, and drop them. We want to eliminate redundant information or\n",
    "#information a patient may not know on their own.\n",
    "\n",
    "df.columns.tolist() #Output below\n",
    "\n",
    "#Comment those columns we want to keep.\n",
    "col2drop = ['Health Service Area', #This is their designation for hospital region. Drop it since we'll use our own. Drop. \n",
    "            #'Hospital County',                                                              #Data Type: Nominal\n",
    "            'Operating Certificate Number', #We do not need the operating certificate number of the facility. Drop. \n",
    "            #'Facility Id',                                                                  #Data Type: Nominal\n",
    "            #'Facility Name',                                                                #Data Type: Nominal\n",
    "            #'Age Group',                                                                    #Data Type: Ordinal\n",
    "            'Zip Code - 3 digits', #We won't incorporate socioeconomic status of the patient. Drop.\n",
    "            #'Gender',                                                                       #Data Type: Nominal\n",
    "            #'Race',                                                                         #Data Type: Nominal\n",
    "            #'Ethnicity',                                                                    #Data Type: Nominal\n",
    "            #'Length of Stay',                                                               #Data Type: Ordinal\n",
    "            #'Type of Admission',                                                            #Data Type: Nominal\n",
    "            #'Patient Disposition',                                                          #Data Type: Nominal\n",
    "            'Discharge Year', #We know the discharge year is 2016. Drop. \n",
    "            'CCS Diagnosis Code', #Additional information not needed since we are basing codes on APR DRG. Drop. \n",
    "            'CCS Diagnosis Description', #Same as above. Drop. \n",
    "            'CCS Procedure Code', #Additional information not needed since we are basing codes on APR DRG. Drop. \n",
    "            'CCS Procedure Description', #Same as above. Drop. \n",
    "            'APR DRG Code', #We've already filtered out the other conditions so we don't need this anymore. Drop. \n",
    "            'APR DRG Description', #Same as above. Drop. \n",
    "            'APR MDC Code', #Additional information not needed. We know knee joint replacement is related to musculoskeletal. Drop.\n",
    "            'APR MDC Description', #Same as above. Drop. \n",
    "            #'APR Severity of Illness Code',                                                 #Data Type: Ordinal\n",
    "            #'APR Severity of Illness Description',                                          #Data Type: Ordinal\n",
    "            #'APR Risk of Mortality',                                                        #Data Type: Ordinal\n",
    "            'APR Medical Surgical Description', #Joint knee replacement is a surgical procedure. This is already known. Drop.\n",
    "            #'Payment Typology 1',                                                           #Data Type: Nominal\n",
    "            #'Payment Typology 2',                                                           #Data Type: Nominal\n",
    "            #'Payment Typology 3',                                                           #Data Type: Nominal\n",
    "            'Attending Provider License Number', #Patients would not realistically know this level of information. Drop. \n",
    "            'Operating Provider License Number', #Patients would not realistically know this level of information. Drop. \n",
    "            'Other Provider License Number', #Patients would not realistically know this level of information. Drop. \n",
    "            'Birth Weight', #Relevant only to newborns. Drop. \n",
    "            'Abortion Edit Indicator', #Relevant only for abortion medical procedures. Drop. \n",
    "            #'Emergency Department Indicator',                                               #Data Type: Binary\n",
    "            #'Total Charges',                                                                #Data Type: Continuous\n",
    "            #'Total Costs',                                                                  #Data Type: Continuous\n",
    "            #'Ratio of Total Costs to Total Charges'                                         #Data Type: Continuous\n",
    "             ]\n",
    "df = df.drop(labels=col2drop,axis=1).reset_index(drop=True)"
   ]
  },
  {
   "cell_type": "markdown",
   "metadata": {},
   "source": [
    "## 3. Discover, explore and visualize the data to gain insights"
   ]
  },
  {
   "cell_type": "code",
   "execution_count": 8,
   "metadata": {},
   "outputs": [],
   "source": [
    "def dataexplore_pie(df,column_label):\n",
    "    \n",
    "    random_i = np.random.permutation(len(df.loc[:,column_label].value_counts()))\n",
    "    \n",
    "    category_labels = df.loc[:,column_label].value_counts()[random_i].index\n",
    "    values = df.loc[:,column_label].value_counts()[random_i]\n",
    "    values_perc = values / values.sum() * 100\n",
    "    \n",
    "    wedgeprops = {'linewidth':1.5,'edgecolor':'black'}\n",
    "    textprops = {'fontsize':13,'fontstyle':'italic'}\n",
    "\n",
    "    annotated_labels = [category_labels.tolist()[i] + ', ' + str(values_perc[i].round(2)) + '%' \\\n",
    "                        for i in range(0,len(category_labels))]\n",
    "\n",
    "    fig = plt.figure()\n",
    "    ax = fig.add_subplot(1,1,1)  \n",
    "    ax.pie(values_perc,wedgeprops=wedgeprops,labels=annotated_labels,textprops=textprops)\n",
    "    \n",
    "    plt.show()"
   ]
  },
  {
   "cell_type": "code",
   "execution_count": 9,
   "metadata": {},
   "outputs": [
    {
     "data": {
      "image/png": "[encoded data removed]",
      "text/plain": [
       "<Figure size 432x288 with 1 Axes>"
      ]
     },
     "metadata": {},
     "output_type": "display_data"
    }
   ],
   "source": [
    "dataexplore_pie(df,'Race')"
   ]
  },
  {
   "cell_type": "code",
   "execution_count": 10,
   "metadata": {},
   "outputs": [
    {
     "data": {
      "image/png": "[encoded data removed]",
      "text/plain": [
       "<Figure size 432x288 with 1 Axes>"
      ]
     },
     "metadata": {},
     "output_type": "display_data"
    }
   ],
   "source": [
    "dataexplore_pie(df,'Age Group')"
   ]
  },
  {
   "cell_type": "code",
   "execution_count": 11,
   "metadata": {},
   "outputs": [
    {
     "data": {
      "image/png": "[encoded data removed]",
      "text/plain": [
       "<Figure size 432x288 with 1 Axes>"
      ]
     },
     "metadata": {},
     "output_type": "display_data"
    }
   ],
   "source": [
    "dataexplore_pie(df,'Gender')"
   ]
  },
  {
   "cell_type": "code",
   "execution_count": 12,
   "metadata": {},
   "outputs": [
    {
     "data": {
      "image/png": "[encoded data removed]",
      "text/plain": [
       "<Figure size 432x288 with 1 Axes>"
      ]
     },
     "metadata": {},
     "output_type": "display_data"
    }
   ],
   "source": [
    "dataexplore_pie(df,'Ethnicity')"
   ]
  },
  {
   "cell_type": "markdown",
   "metadata": {},
   "source": [
    "## 4. Prepare the data to better expose the underlying data patterns to Machine Learning algorithms."
   ]
  },
  {
   "cell_type": "markdown",
   "metadata": {},
   "source": [
    "__Go through column by column modifying it to better fit the underlying data patterns in ML algorithms.__"
   ]
  },
  {
   "cell_type": "code",
   "execution_count": 13,
   "metadata": {},
   "outputs": [
    {
     "data": {
      "text/plain": [
       "['Hospital County',\n",
       " 'Facility Id',\n",
       " 'Facility Name',\n",
       " 'Age Group',\n",
       " 'Gender',\n",
       " 'Race',\n",
       " 'Ethnicity',\n",
       " 'Length of Stay',\n",
       " 'Type of Admission',\n",
       " 'Patient Disposition',\n",
       " 'APR Severity of Illness Code',\n",
       " 'APR Severity of Illness Description',\n",
       " 'APR Risk of Mortality',\n",
       " 'Payment Typology 1',\n",
       " 'Payment Typology 2',\n",
       " 'Payment Typology 3',\n",
       " 'Emergency Department Indicator',\n",
       " 'Total Charges',\n",
       " 'Total Costs',\n",
       " 'Ratio of Total Costs to Total Charges']"
      ]
     },
     "execution_count": 13,
     "metadata": {},
     "output_type": "execute_result"
    }
   ],
   "source": [
    "#Let's go through each column in order. We'll skip Hospital County since it will be used for feature engineering at the end.\n",
    "df.columns.tolist()"
   ]
  },
  {
   "cell_type": "markdown",
   "metadata": {},
   "source": [
    "__Facility Id and Facility Name__"
   ]
  },
  {
   "cell_type": "markdown",
   "metadata": {},
   "source": [
    "Facility Id and Facility name both refer to the same information. I'll keep Facility Id since it is easier to work with than a string of names. The Id tag to the facility poses an interesting challenge. It would certainly be one of the input features a patient would know. However, because this feature has high cardinality, encoding it is a challenge. OneHotEncoding would generate too many columns and we'd end up with the curse of dimensionality. Instead, I'll incorporate the lattitude/longitude information for each hospital. In my previous __[blog post](https://towardsdatascience.com/data-analysis-of-new-york-state-regional-healthcare-costs-d72fb579601f)__ I used the General Healthcare Facility to obtain this information. I will use it again here."
   ]
  },
  {
   "cell_type": "code",
   "execution_count": 14,
   "metadata": {},
   "outputs": [
    {
     "data": {
      "text/html": [
       "<div>\n",
       "<style scoped>\n",
       "    .dataframe tbody tr th:only-of-type {\n",
       "        vertical-align: middle;\n",
       "    }\n",
       "\n",
       "    .dataframe tbody tr th {\n",
       "        vertical-align: top;\n",
       "    }\n",
       "\n",
       "    .dataframe thead th {\n",
       "        text-align: right;\n",
       "    }\n",
       "</style>\n",
       "<table border=\"1\" class=\"dataframe\">\n",
       "  <thead>\n",
       "    <tr style=\"text-align: right;\">\n",
       "      <th></th>\n",
       "      <th>Facility Id</th>\n",
       "      <th>Facility Name</th>\n",
       "    </tr>\n",
       "  </thead>\n",
       "  <tbody>\n",
       "    <tr>\n",
       "      <th>0</th>\n",
       "      <td>39.0</td>\n",
       "      <td>Memorial Hosp of Wm F &amp; Gertrude F Jones A/K/A...</td>\n",
       "    </tr>\n",
       "    <tr>\n",
       "      <th>24</th>\n",
       "      <td>66.0</td>\n",
       "      <td>Olean General Hospital</td>\n",
       "    </tr>\n",
       "    <tr>\n",
       "      <th>103</th>\n",
       "      <td>98.0</td>\n",
       "      <td>Brooks Memorial Hospital</td>\n",
       "    </tr>\n",
       "    <tr>\n",
       "      <th>277</th>\n",
       "      <td>103.0</td>\n",
       "      <td>Woman's Christian Association</td>\n",
       "    </tr>\n",
       "    <tr>\n",
       "      <th>288</th>\n",
       "      <td>114.0</td>\n",
       "      <td>TLC Health Network Lake Shore Hospital</td>\n",
       "    </tr>\n",
       "  </tbody>\n",
       "</table>\n",
       "</div>"
      ],
      "text/plain": [
       "     Facility Id                                      Facility Name\n",
       "0           39.0  Memorial Hosp of Wm F & Gertrude F Jones A/K/A...\n",
       "24          66.0                             Olean General Hospital\n",
       "103         98.0                           Brooks Memorial Hospital\n",
       "277        103.0                      Woman's Christian Association\n",
       "288        114.0             TLC Health Network Lake Shore Hospital"
      ]
     },
     "execution_count": 14,
     "metadata": {},
     "output_type": "execute_result"
    }
   ],
   "source": [
    "#Facility Id and Facility name both refer to the same information. I'll keep Facility Id since it is easier to work with.\n",
    "#First, I'll create a new dataframe that maps the two together. \n",
    "df_hosp_id = df.loc[:,['Facility Id','Facility Name']].drop_duplicates(keep='first')\n",
    "df_hosp_id.head()"
   ]
  },
  {
   "cell_type": "markdown",
   "metadata": {},
   "source": [
    "__Facility Id.__"
   ]
  },
  {
   "cell_type": "code",
   "execution_count": 17,
   "metadata": {},
   "outputs": [],
   "source": [
    "#Read health facility general information dataset\n",
    "df_healthfacility = pd.read_csv('..\\Knee Joint Replacement\\Health_Facility_General_Information.csv',usecols=['Facility ID','Facility Latitude','Facility Longitude'])"
   ]
  },
  {
   "cell_type": "code",
   "execution_count": 18,
   "metadata": {},
   "outputs": [],
   "source": [
    "#Merge the general health facility dataframe based on facility ids.\n",
    "df = df.merge(df_healthfacility,\n",
    "              how='left',\n",
    "              left_on='Facility Id',\n",
    "              right_on='Facility ID')\n",
    "df = df.drop(columns='Facility ID')"
   ]
  },
  {
   "cell_type": "code",
   "execution_count": 19,
   "metadata": {},
   "outputs": [
    {
     "data": {
      "text/plain": [
       "array([ 776., 3376.])"
      ]
     },
     "execution_count": 19,
     "metadata": {},
     "output_type": "execute_result"
    }
   ],
   "source": [
    "#Double check to see all facilities have their corresponding lattitude and longitude information.\n",
    "df.loc[df.loc[:,'Facility Latitude'].isna(),'Facility Id'].unique() \n",
    "\n",
    "#2 Facilities did not. "
   ]
  },
  {
   "cell_type": "code",
   "execution_count": 20,
   "metadata": {},
   "outputs": [
    {
     "data": {
      "text/plain": [
       "array(['Nyack Hospital',\n",
       "       \"Long Island Jewish Schneiders Children's Hospital Division\"],\n",
       "      dtype=object)"
      ]
     },
     "execution_count": 20,
     "metadata": {},
     "output_type": "execute_result"
    }
   ],
   "source": [
    "#What are their names?\n",
    "df.loc[df.loc[:,'Facility Latitude'].isna(),'Facility Name'].unique()"
   ]
  },
  {
   "cell_type": "code",
   "execution_count": 21,
   "metadata": {},
   "outputs": [],
   "source": [
    "#Add the lattitude/longitude information for each. I used Google Maps to find the facility by its name and got its geotags.\n",
    "df.loc[df.loc[:,'Facility Name'] == 'Nyack Hospital','Facility Latitude'] = 41.097133\n",
    "df.loc[df.loc[:,'Facility Name'] == 'Nyack Hospital','Facility Longitude'] = -73.926049\n",
    "\n",
    "df.loc[df.loc[:,'Facility Name'] == \"Long Island Jewish Schneiders Children's Hospital Division\",'Facility Latitude'] = 40.753661\n",
    "df.loc[df.loc[:,'Facility Name'] == \"Long Island Jewish Schneiders Children's Hospital Division\",'Facility Longitude'] = -73.707514"
   ]
  },
  {
   "cell_type": "code",
   "execution_count": 22,
   "metadata": {},
   "outputs": [],
   "source": [
    "#I also made sure to add the missing geotags back into the general health facility dataframe for reference.\n",
    "missing_geotags = {'Facility ID':[776,3376],\n",
    "                   'Facility Latitude':[41.097133,-73.926049],\n",
    "                   'Facility Longitude':[40.753661,-73.707514]}\n",
    "df_healthfacility = df_healthfacility.append(pd.DataFrame.from_dict(missing_geotags),sort=False,ignore_index=True)"
   ]
  },
  {
   "cell_type": "code",
   "execution_count": 23,
   "metadata": {},
   "outputs": [
    {
     "data": {
      "text/plain": [
       "array([], dtype=object)"
      ]
     },
     "execution_count": 23,
     "metadata": {},
     "output_type": "execute_result"
    }
   ],
   "source": [
    "#Double check to see all facilities have their corresponding lattitude and longitude information. \n",
    "df.loc[df.loc[:,'Facility Latitude'].isna(),'Facility Name'].unique() \n",
    "\n",
    "#No missing information is present."
   ]
  },
  {
   "cell_type": "markdown",
   "metadata": {},
   "source": [
    "_We'll keep the facility Id and facility name until we are finished encoding/feature engineering. Then we will drop them._"
   ]
  },
  {
   "cell_type": "markdown",
   "metadata": {},
   "source": [
    "__Age Group__"
   ]
  },
  {
   "cell_type": "code",
   "execution_count": 24,
   "metadata": {},
   "outputs": [
    {
     "data": {
      "text/plain": [
       "['0 to 17', '18 to 29', '30 to 49', '50 to 69', '70 or Older']"
      ]
     },
     "execution_count": 24,
     "metadata": {},
     "output_type": "execute_result"
    }
   ],
   "source": [
    "#What are the age group labels?\n",
    "age_group_labels = (df.loc[:,'Age Group']).astype('category').cat.categories.tolist()\n",
    "age_group_labels\n",
    "\n",
    "#This feature can be replaced with a label encoder. It is also ordinal.  "
   ]
  },
  {
   "cell_type": "code",
   "execution_count": 25,
   "metadata": {},
   "outputs": [],
   "source": [
    "#Replace the age groups with a numerical encoding.\n",
    "replace_age_group = {'Age Group': {k: v for k,v in zip(age_group_labels,list(range(1,len(age_group_labels)+1)))}}\n",
    "df = df.replace(replace_age_group)"
   ]
  },
  {
   "cell_type": "markdown",
   "metadata": {},
   "source": [
    "__Gender__"
   ]
  },
  {
   "cell_type": "code",
   "execution_count": 26,
   "metadata": {},
   "outputs": [
    {
     "data": {
      "text/plain": [
       "['M', 'F']"
      ]
     },
     "execution_count": 26,
     "metadata": {},
     "output_type": "execute_result"
    }
   ],
   "source": [
    "#What are the Gender labels?\n",
    "(df.loc[:,'Gender']).unique().tolist()\n",
    "\n",
    "#This feature can be replaced with a label encoder. It is binary."
   ]
  },
  {
   "cell_type": "code",
   "execution_count": 27,
   "metadata": {},
   "outputs": [],
   "source": [
    "#Replace the gender with a binary numerical encoding.\n",
    "gender_labels = (df.loc[:,'Gender']).unique().tolist()\n",
    "replace_gender = {'Gender':{'M':0,'F':1}}\n",
    "df = df.replace(replace_gender)"
   ]
  },
  {
   "cell_type": "markdown",
   "metadata": {},
   "source": [
    "__Length of Stay__"
   ]
  },
  {
   "cell_type": "code",
   "execution_count": 28,
   "metadata": {},
   "outputs": [
    {
     "data": {
      "text/plain": [
       "array(['3', '4', '6', '13', '5', '11', '8', '2', '1', '15', '7', '20',\n",
       "       '10', '9', '14', '49', '37', '16', '23', '12', '22', '44', '21', 6,\n",
       "       1, 2, 5, 4, 3, 7, 8, 44, 42, 15, 9, '17', '18', 11, 13, '47', '25',\n",
       "       19, '35', '19', '36', 20, 14, 10, '70', '71', '59', '120 +', '31',\n",
       "       '43', '102', '58', '55', '30', '78', '48', '24', '29', '38', '42',\n",
       "       '34', 17, 18, 27, '27'], dtype=object)"
      ]
     },
     "execution_count": 28,
     "metadata": {},
     "output_type": "execute_result"
    }
   ],
   "source": [
    "#What are the values for length of stay?\n",
    "df['Length of Stay'].unique()"
   ]
  },
  {
   "cell_type": "markdown",
   "metadata": {},
   "source": [
    "_Intuitively, you would assume that all the values are integers. However, there is a label for patients who stay longer than 120 days (labeled as '120 +'). Since we do not know exactly how many days above 120 the patients stayed for, I will simply change this value to 120._ "
   ]
  },
  {
   "cell_type": "code",
   "execution_count": 29,
   "metadata": {},
   "outputs": [],
   "source": [
    "df.loc[df.loc[:,'Length of Stay'] == '120 +','Length of Stay'] = 120\n",
    "df['Length of Stay'] = df['Length of Stay'].astype(dtype='uint8')"
   ]
  },
  {
   "cell_type": "markdown",
   "metadata": {},
   "source": [
    "__Type of Admission.__"
   ]
  },
  {
   "cell_type": "code",
   "execution_count": 30,
   "metadata": {},
   "outputs": [
    {
     "data": {
      "text/plain": [
       "Elective         96.411712\n",
       "Emergency         1.908397\n",
       "Urgent            1.624648\n",
       "Newborn           0.035155\n",
       "Not Available     0.012555\n",
       "Trauma            0.007533\n",
       "Name: Type of Admission, dtype: float64"
      ]
     },
     "execution_count": 30,
     "metadata": {},
     "output_type": "execute_result"
    }
   ],
   "source": [
    "#What are the values for type of admission?\n",
    "df.loc[:,'Type of Admission'].value_counts() / df.loc[:,'Type of Admission'].value_counts().sum() * 100"
   ]
  },
  {
   "cell_type": "markdown",
   "metadata": {},
   "source": [
    "_As expected, knee joint replacement surgery is an elective surgery. However, between 1% - 2% of patients are labelled as emergency or urgent. The other categories are negligible. Let's combine newborn, not available and trauma as 'Other Admission Type'_"
   ]
  },
  {
   "cell_type": "code",
   "execution_count": 31,
   "metadata": {},
   "outputs": [],
   "source": [
    "top_admission_type = df.loc[:,'Type of Admission'].value_counts().index[0:4].tolist()\n",
    "bool_admission_type = df.loc[:,'Type of Admission'].isin(top_admission_type)\n",
    "df.loc[~bool_admission_type,'Type of Admission'] = 'Other Admission Type'"
   ]
  },
  {
   "cell_type": "markdown",
   "metadata": {},
   "source": [
    "__Patient Disposition.__"
   ]
  },
  {
   "cell_type": "code",
   "execution_count": 32,
   "metadata": {},
   "outputs": [
    {
     "data": {
      "text/plain": [
       "19"
      ]
     },
     "execution_count": 32,
     "metadata": {},
     "output_type": "execute_result"
    }
   ],
   "source": [
    "df.loc[:,'Patient Disposition'].unique().size"
   ]
  },
  {
   "cell_type": "code",
   "execution_count": 33,
   "metadata": {},
   "outputs": [
    {
     "data": {
      "text/plain": [
       "Home w/ Home Health Services             45.025613\n",
       "Skilled Nursing Home                     26.705002\n",
       "Home or Self Care                        20.439936\n",
       "Inpatient Rehabilitation Facility         6.842607\n",
       "Short-term Hospital                       0.399257\n",
       "Hosp Basd Medicare Approved Swing Bed     0.135597\n",
       "Another Type Not Listed                   0.123041\n",
       "Cancer Center or Children's Hospital      0.072820\n",
       "Court/Law Enforcement                     0.050221\n",
       "Hospice - Home                            0.047710\n",
       "Expired                                   0.042688\n",
       "Facility w/ Custodial/Supportive Care     0.030133\n",
       "Left Against Medical Advice               0.027622\n",
       "Medicaid Cert Nursing Facility            0.017577\n",
       "Hospice - Medical Facility                0.017577\n",
       "Medicare Cert Long Term Care Hospital     0.007533\n",
       "Psychiatric Hospital or Unit of Hosp      0.007533\n",
       "Federal Health Care Facility              0.005022\n",
       "Critical Access Hospital                  0.002511\n",
       "Name: Patient Disposition, dtype: float64"
      ]
     },
     "execution_count": 33,
     "metadata": {},
     "output_type": "execute_result"
    }
   ],
   "source": [
    "df.loc[:,'Patient Disposition'].value_counts() / df.loc[:,'Patient Disposition'].value_counts().sum() * 100"
   ]
  },
  {
   "cell_type": "markdown",
   "metadata": {},
   "source": [
    "_Patient dispostion related to what happened to the patient after they left the hospital. 99% of patients fell into 4 categories. They either went home with home health services, went into a skilled nursing home, went home without a home health service (self care) or went into an inpatient rehab facility. Again, let's combine all the other cateogires and label them as 'Other Disposition'._"
   ]
  },
  {
   "cell_type": "code",
   "execution_count": 34,
   "metadata": {},
   "outputs": [],
   "source": [
    "#Replace all 15 categories as 'Other'\n",
    "top_patient_disp = df.loc[:,'Patient Disposition'].value_counts().index[0:4].tolist()\n",
    "bool_patient_disp = df.loc[:,'Patient Disposition'].isin(top_patient_disp)\n",
    "df.loc[~bool_patient_disp,'Patient Disposition'] = 'Other Disposition'"
   ]
  },
  {
   "cell_type": "markdown",
   "metadata": {},
   "source": [
    "__Severity of Illness__"
   ]
  },
  {
   "cell_type": "code",
   "execution_count": 35,
   "metadata": {},
   "outputs": [
    {
     "data": {
      "text/html": [
       "<div>\n",
       "<style scoped>\n",
       "    .dataframe tbody tr th:only-of-type {\n",
       "        vertical-align: middle;\n",
       "    }\n",
       "\n",
       "    .dataframe tbody tr th {\n",
       "        vertical-align: top;\n",
       "    }\n",
       "\n",
       "    .dataframe thead th {\n",
       "        text-align: right;\n",
       "    }\n",
       "</style>\n",
       "<table border=\"1\" class=\"dataframe\">\n",
       "  <thead>\n",
       "    <tr style=\"text-align: right;\">\n",
       "      <th></th>\n",
       "      <th>APR Severity of Illness Code</th>\n",
       "      <th>APR Severity of Illness Description</th>\n",
       "    </tr>\n",
       "  </thead>\n",
       "  <tbody>\n",
       "    <tr>\n",
       "      <th>0</th>\n",
       "      <td>1</td>\n",
       "      <td>Minor</td>\n",
       "    </tr>\n",
       "    <tr>\n",
       "      <th>3</th>\n",
       "      <td>2</td>\n",
       "      <td>Moderate</td>\n",
       "    </tr>\n",
       "    <tr>\n",
       "      <th>5</th>\n",
       "      <td>4</td>\n",
       "      <td>Extreme</td>\n",
       "    </tr>\n",
       "    <tr>\n",
       "      <th>6</th>\n",
       "      <td>3</td>\n",
       "      <td>Major</td>\n",
       "    </tr>\n",
       "  </tbody>\n",
       "</table>\n",
       "</div>"
      ],
      "text/plain": [
       "   APR Severity of Illness Code APR Severity of Illness Description\n",
       "0                             1                               Minor\n",
       "3                             2                            Moderate\n",
       "5                             4                             Extreme\n",
       "6                             3                               Major"
      ]
     },
     "execution_count": 35,
     "metadata": {},
     "output_type": "execute_result"
    }
   ],
   "source": [
    "#Severity of Illness is self explanatory. Let's create a mapping for it and use the code values (since they are inherently\n",
    "#numerical) as a label encoder within our dataframe.\n",
    "df_SOI_id = df.loc[:,['APR Severity of Illness Code','APR Severity of Illness Description']].drop_duplicates(keep='first')\n",
    "df_SOI_id"
   ]
  },
  {
   "cell_type": "code",
   "execution_count": 36,
   "metadata": {},
   "outputs": [],
   "source": [
    "df = df.drop(labels=['APR Severity of Illness Description'],axis=1).reset_index(drop=True)"
   ]
  },
  {
   "cell_type": "markdown",
   "metadata": {},
   "source": [
    "__Risk of Mortality.__"
   ]
  },
  {
   "cell_type": "code",
   "execution_count": 37,
   "metadata": {},
   "outputs": [],
   "source": [
    "#Risk of Mortality is also self explanatory. In this dataframe however it is explained with strings. Let's replace them with\n",
    "#numerical values instead. \n",
    "APR_risk_mort_dict = {'Minor':1,'Moderate':2,'Extreme':3,'Major':4}\n",
    "df.loc[:,'APR Risk of Mortality'] = df.loc[:,'APR Risk of Mortality'].map(APR_risk_mort_dict)"
   ]
  },
  {
   "cell_type": "markdown",
   "metadata": {},
   "source": [
    "__Payment Typology.__"
   ]
  },
  {
   "cell_type": "markdown",
   "metadata": {},
   "source": [
    "There are 3 columns for payment typology. They refer to how the patient paid for the procedure. "
   ]
  },
  {
   "cell_type": "code",
   "execution_count": 38,
   "metadata": {},
   "outputs": [
    {
     "data": {
      "text/html": [
       "<div>\n",
       "<style scoped>\n",
       "    .dataframe tbody tr th:only-of-type {\n",
       "        vertical-align: middle;\n",
       "    }\n",
       "\n",
       "    .dataframe tbody tr th {\n",
       "        vertical-align: top;\n",
       "    }\n",
       "\n",
       "    .dataframe thead th {\n",
       "        text-align: right;\n",
       "    }\n",
       "</style>\n",
       "<table border=\"1\" class=\"dataframe\">\n",
       "  <thead>\n",
       "    <tr style=\"text-align: right;\">\n",
       "      <th></th>\n",
       "      <th>Payment Typology 1</th>\n",
       "      <th>Payment Typology 2</th>\n",
       "      <th>Payment Typology 3</th>\n",
       "    </tr>\n",
       "  </thead>\n",
       "  <tbody>\n",
       "    <tr>\n",
       "      <th>0</th>\n",
       "      <td>Private Health Insurance</td>\n",
       "      <td>Self-Pay</td>\n",
       "      <td>Self-Pay</td>\n",
       "    </tr>\n",
       "    <tr>\n",
       "      <th>1</th>\n",
       "      <td>Blue Cross/Blue Shield</td>\n",
       "      <td>Self-Pay</td>\n",
       "      <td>Self-Pay</td>\n",
       "    </tr>\n",
       "    <tr>\n",
       "      <th>2</th>\n",
       "      <td>Medicare</td>\n",
       "      <td>Medicaid</td>\n",
       "      <td>Self-Pay</td>\n",
       "    </tr>\n",
       "    <tr>\n",
       "      <th>3</th>\n",
       "      <td>Medicare</td>\n",
       "      <td>Blue Cross/Blue Shield</td>\n",
       "      <td>Private Health Insurance</td>\n",
       "    </tr>\n",
       "    <tr>\n",
       "      <th>4</th>\n",
       "      <td>Medicare</td>\n",
       "      <td>Medicare</td>\n",
       "      <td>Self-Pay</td>\n",
       "    </tr>\n",
       "  </tbody>\n",
       "</table>\n",
       "</div>"
      ],
      "text/plain": [
       "         Payment Typology 1      Payment Typology 2        Payment Typology 3\n",
       "0  Private Health Insurance                Self-Pay                  Self-Pay\n",
       "1    Blue Cross/Blue Shield                Self-Pay                  Self-Pay\n",
       "2                  Medicare                Medicaid                  Self-Pay\n",
       "3                  Medicare  Blue Cross/Blue Shield  Private Health Insurance\n",
       "4                  Medicare                Medicare                  Self-Pay"
      ]
     },
     "execution_count": 38,
     "metadata": {},
     "output_type": "execute_result"
    }
   ],
   "source": [
    "df.loc[:,['Payment Typology 1','Payment Typology 2','Payment Typology 3']].head()"
   ]
  },
  {
   "cell_type": "code",
   "execution_count": 39,
   "metadata": {},
   "outputs": [
    {
     "data": {
      "text/plain": [
       "['Private Health Insurance',\n",
       " 'Blue Cross/Blue Shield',\n",
       " 'Medicare',\n",
       " 'Self-Pay',\n",
       " 'Medicaid',\n",
       " 'Miscellaneous/Other',\n",
       " 'Federal/State/Local/VA',\n",
       " 'Department of Corrections',\n",
       " 'Managed Care, Unspecified',\n",
       " 'Unknown']"
      ]
     },
     "execution_count": 39,
     "metadata": {},
     "output_type": "execute_result"
    }
   ],
   "source": [
    "df.loc[:,'Payment Typology 1'].unique().tolist()"
   ]
  },
  {
   "cell_type": "markdown",
   "metadata": {},
   "source": [
    "There are 11 different ways a patient can pay (one category is NaN which is included in Payment Typology 2 and Payment Typology 3, but not Payment Typology 1). What I will do is create 10 different categories and mark 1 or 0 (like OneHotEncoding) if a patient used this type of payment. Repeat payments will not be considered (i.e. if medicaid came in two times it will only be listed once). NaNs will be combined with the 'Unknown' category. "
   ]
  },
  {
   "cell_type": "code",
   "execution_count": 40,
   "metadata": {},
   "outputs": [],
   "source": [
    "df.loc[:,['Payment Typology 1','Payment Typology 2','Payment Typology 3']].fillna(value='Unknown') #Replace NaN's\n",
    "\n",
    "payment_typology = df.loc[:,'Payment Typology 1'].unique().tolist() #Get list of new column names\n",
    "df[payment_typology] = pd.DataFrame(np.zeros((df.shape[0],len(payment_typology))),index=df.index) #Add columns\n",
    "\n",
    "#Label Encoding for Payment Typology\n",
    "for payment in payment_typology:\n",
    "    b_payment = (df.loc[:,['Payment Typology 1','Payment Typology 2','Payment Typology 3']] == payment)\n",
    "    df.loc[np.nonzero(b_payment.sum(axis=1))[0],payment] = 1\n",
    "    df[payment] = df[payment].astype(dtype='uint8')\n",
    "\n",
    "#Drop old column names\n",
    "df = df.drop(labels=['Payment Typology 1','Payment Typology 2','Payment Typology 3'],axis=1).reset_index(drop=True)\n",
    "\n",
    "#New column names\n",
    "payment_typology_mapper = {payment_name:(str('Payment Typology_') + payment_name) for payment_name in payment_typology}\n",
    "df = df.rename(columns=payment_typology_mapper)    "
   ]
  },
  {
   "cell_type": "markdown",
   "metadata": {},
   "source": [
    "__Emergency Department Indicator.__"
   ]
  },
  {
   "cell_type": "code",
   "execution_count": 41,
   "metadata": {},
   "outputs": [],
   "source": [
    "#This feature can be replaced with a label encoder. It is binary.\n",
    "ed_indicator_labels = ['N','Y']\n",
    "replace_ed_indicator = {'Emergency Department Indicator':{'Y':0,'N':1}}\n",
    "df = df.replace(replace_ed_indicator)"
   ]
  },
  {
   "cell_type": "markdown",
   "metadata": {},
   "source": [
    "### Feature Engineering"
   ]
  },
  {
   "cell_type": "markdown",
   "metadata": {},
   "source": [
    "In my previous analysis I had created new terms to analyze hospital costs. I'll incorporate them here as well. \n",
    "- The first will be adding 1 of the 9 geographical regions to the hospital. \n",
    "- The second will denote the relative cost of the hospital in 3 different scales (at the NYS scale, at the regional scale, at the county scale). \n",
    "- The third will denote the market share of the hospital by knee joint replacmeent patient discharge volume in 2016 at different scales (at the NYS scale, at the regional scale, at the county scale). "
   ]
  },
  {
   "cell_type": "markdown",
   "metadata": {},
   "source": [
    "__Feature Engineering: Geographical Region__"
   ]
  },
  {
   "cell_type": "code",
   "execution_count": 42,
   "metadata": {},
   "outputs": [
    {
     "data": {
      "text/html": [
       "<div>\n",
       "<style scoped>\n",
       "    .dataframe tbody tr th:only-of-type {\n",
       "        vertical-align: middle;\n",
       "    }\n",
       "\n",
       "    .dataframe tbody tr th {\n",
       "        vertical-align: top;\n",
       "    }\n",
       "\n",
       "    .dataframe thead th {\n",
       "        text-align: right;\n",
       "    }\n",
       "</style>\n",
       "<table border=\"1\" class=\"dataframe\">\n",
       "  <thead>\n",
       "    <tr style=\"text-align: right;\">\n",
       "      <th></th>\n",
       "      <th>Geographical Region</th>\n",
       "      <th>Geographical County</th>\n",
       "    </tr>\n",
       "  </thead>\n",
       "  <tbody>\n",
       "    <tr>\n",
       "      <th>0</th>\n",
       "      <td>Long Island</td>\n",
       "      <td>Nassau</td>\n",
       "    </tr>\n",
       "    <tr>\n",
       "      <th>1</th>\n",
       "      <td>Long Island</td>\n",
       "      <td>Suffolk</td>\n",
       "    </tr>\n",
       "    <tr>\n",
       "      <th>2</th>\n",
       "      <td>New York City</td>\n",
       "      <td>Kings</td>\n",
       "    </tr>\n",
       "    <tr>\n",
       "      <th>3</th>\n",
       "      <td>New York City</td>\n",
       "      <td>Bronx</td>\n",
       "    </tr>\n",
       "    <tr>\n",
       "      <th>4</th>\n",
       "      <td>New York City</td>\n",
       "      <td>Manhattan</td>\n",
       "    </tr>\n",
       "  </tbody>\n",
       "</table>\n",
       "</div>"
      ],
      "text/plain": [
       "  Geographical Region Geographical County\n",
       "0         Long Island              Nassau\n",
       "1         Long Island             Suffolk\n",
       "2       New York City               Kings\n",
       "3       New York City               Bronx\n",
       "4       New York City           Manhattan"
      ]
     },
     "execution_count": 42,
     "metadata": {},
     "output_type": "execute_result"
    }
   ],
   "source": [
    "regions = pd.Series({'Long Island':['Nassau','Suffolk'],\n",
    "           'New York City':['Kings','Bronx','Manhattan','Queens','Richmond'],\n",
    "           'Lower Hudson Valley':['Dutchess','Orange','Putnam','Rockland','Sullivan','Ulster','Westchester'], \n",
    "           'Capital Region':['Albany','Columbia','Delaware','Greene','Montgomery','Otsego','Rensselaer','Schenectady','Schoharie'], \n",
    "           'Eastern Adirondacks':['Clinton','Essex','Franklin','Fulton','Hamilton','Saratoga','Warren','Washington'],\n",
    "           'Western Adirondacks':['Herkimer','Jefferson','Lewis','Oneida','St Lawrence'],\n",
    "           'Central NY':['Broome','Cayuga','Chenango','Cortland','Madison','Onondaga','Oswego','Tioga','Tompkins'],\n",
    "           'Finger Lakes':['Chemung','Genesee','Livingston','Monroe','Ontario','Orleans','Schuyler','Seneca', 'Steuben','Wayne','Yates'],\n",
    "           'Western New York':['Allegany','Chautauqua','Cattaraugus','Erie','Niagara','Wyoming']})\n",
    "\n",
    "df_region = pd.DataFrame(columns=['Geographical Region','Geographical County'])\n",
    "for i in range(len(regions)):\n",
    "    for counties in regions[i]:\n",
    "        df_region = df_region.append({'Geographical Region':regions.index[i],'Geographical County':counties},ignore_index=True) \n",
    "df_region.head()"
   ]
  },
  {
   "cell_type": "code",
   "execution_count": 43,
   "metadata": {},
   "outputs": [],
   "source": [
    "#Merge Region with dataframe\n",
    "df = df.merge(df_region,how='left',left_on='Hospital County',right_on='Geographical County')\n",
    "df = df.drop(columns='Geographical County')"
   ]
  },
  {
   "cell_type": "code",
   "execution_count": 44,
   "metadata": {},
   "outputs": [
    {
     "data": {
      "text/plain": [
       "array([], dtype=object)"
      ]
     },
     "execution_count": 44,
     "metadata": {},
     "output_type": "execute_result"
    }
   ],
   "source": [
    "df.loc[df.loc[:,'Geographical Region'].isna(),'Geographical Region'].unique() #All entries are accounted for"
   ]
  },
  {
   "cell_type": "markdown",
   "metadata": {},
   "source": [
    "__Feature Engineering: Relative Cost of Hospital__"
   ]
  },
  {
   "cell_type": "code",
   "execution_count": 45,
   "metadata": {},
   "outputs": [],
   "source": [
    "#At the state wide scale\n",
    "df['Relative Cost per NYS'] = df.loc[:,'Total Costs'] / df.loc[:,'Total Costs'].mean()\n",
    "\n",
    "#At the regional scale\n",
    "df['Relative Cost per Region'] = df.groupby('Geographical Region')['Total Costs'].apply(lambda x: x/np.mean(x))\n",
    "\n",
    "#AT the county-level scale\n",
    "df['Relative Cost per County'] = df.groupby('Hospital County')['Total Costs'].apply(lambda x: x/np.mean(x))"
   ]
  },
  {
   "cell_type": "markdown",
   "metadata": {},
   "source": [
    "__Feature Engineering: Market Share by Patient Discharge Volume__"
   ]
  },
  {
   "cell_type": "code",
   "execution_count": 46,
   "metadata": {},
   "outputs": [],
   "source": [
    "#At the state wide scale\n",
    "df['Market Share by Patient Discharge NYS'] = df.groupby('Facility Id')['Facility Name'].transform(lambda x: x.count() / len(df.index))\n",
    "\n",
    "#At the regional scale\n",
    "df['Market Share by Patient Discharge Region'] = df.groupby('Geographical Region')['Facility Id'].transform(lambda x: x.count() / x.sum())\n",
    "\n",
    "#At the county-level scale\n",
    "df['Market Share by Patient Discharge County'] = df.groupby('Hospital County')['Facility Id'].transform(lambda x: x.count() / x.sum())"
   ]
  },
  {
   "cell_type": "markdown",
   "metadata": {},
   "source": [
    "__Drop Facility Name and Facility Id__"
   ]
  },
  {
   "cell_type": "code",
   "execution_count": 47,
   "metadata": {},
   "outputs": [],
   "source": [
    "#Now that we are finished encoding, and feature engineering, we can drop the facility name and Id tags.\n",
    "df = df.drop(labels=['Facility Name','Facility Id'],axis=1).reset_index(drop=True)"
   ]
  },
  {
   "cell_type": "markdown",
   "metadata": {},
   "source": [
    "#### One-hot-encoding for remaining features."
   ]
  },
  {
   "cell_type": "code",
   "execution_count": 48,
   "metadata": {},
   "outputs": [],
   "source": [
    "#So far, we have performed only label encoding. Let's perform OneHot on the remaining feature columns.\n",
    "onehot_cat_columns = ['Hospital County',\n",
    "                      'Race',\n",
    "                      'Ethnicity',\n",
    "                      'Patient Disposition',\n",
    "                      'Type of Admission',\n",
    "                      'Geographical Region']\n",
    "df = pd.get_dummies(df,columns=onehot_cat_columns)"
   ]
  },
  {
   "cell_type": "markdown",
   "metadata": {},
   "source": [
    "### Check for any souces of data leakage."
   ]
  },
  {
   "cell_type": "markdown",
   "metadata": {},
   "source": [
    "__Drop Ratio of Costs/Charges to prevent data leakage.__"
   ]
  },
  {
   "cell_type": "code",
   "execution_count": 49,
   "metadata": {},
   "outputs": [],
   "source": [
    "#As the name implies the ratio of costs/charges is calculated with our target value. Hence, it contains information that we\n",
    "#don't want our model to have. Eliminate it to prevent data leakage.\n",
    "df = df.drop(columns='Ratio of Total Costs to Total Charges')"
   ]
  },
  {
   "cell_type": "markdown",
   "metadata": {},
   "source": [
    "### Feature Scaling."
   ]
  },
  {
   "cell_type": "markdown",
   "metadata": {},
   "source": [
    "__Feature scaling on Total Costs using the RobustScaler.__"
   ]
  },
  {
   "cell_type": "code",
   "execution_count": 50,
   "metadata": {},
   "outputs": [],
   "source": [
    "#Perform feature scaling on the total costs feature column. We'll use the robust scaler since it works well against outliers. \n",
    "#Before however, we need to apply the scaler only to the training set. Let's create our training-test split now.\n",
    "\n",
    "y = df.loc[:,'Total Charges'].values\n",
    "X = df.drop(columns='Total Charges').values\n",
    "\n",
    "target_feature_name = 'Total Charges'\n",
    "training_feature_names = df.columns.tolist()"
   ]
  },
  {
   "cell_type": "code",
   "execution_count": 51,
   "metadata": {},
   "outputs": [
    {
     "name": "stdout",
     "output_type": "stream",
     "text": [
      "(29868, 102)\n",
      "(9956, 102)\n"
     ]
    }
   ],
   "source": [
    "from sklearn.model_selection import train_test_split\n",
    "\n",
    "#We will split the dataset 75% training and 25% test.\n",
    "X_train, X_test, y_train, y_test = train_test_split(X,y,test_size=0.25,random_state=42)\n",
    "\n",
    "print(X_train.shape)\n",
    "print(X_test.shape)"
   ]
  },
  {
   "cell_type": "code",
   "execution_count": 52,
   "metadata": {},
   "outputs": [],
   "source": [
    "from sklearn.preprocessing import RobustScaler\n",
    "\n",
    "robustscaler = RobustScaler()\n",
    "\n",
    "#Fit the robust scaler on the training set only.\n",
    "robustscaler.fit(X_train)\n",
    "\n",
    "#Transform both the training set and the test set separately.\n",
    "X_train_scaled = robustscaler.transform(X_train)\n",
    "X_test_scaled = robustscaler.transform(X_test)"
   ]
  },
  {
   "cell_type": "markdown",
   "metadata": {},
   "source": [
    "## 5. Explore many different models, short-list the best ones, select one and train it."
   ]
  },
  {
   "cell_type": "markdown",
   "metadata": {},
   "source": [
    "__Test a Linear Regression Model.__"
   ]
  },
  {
   "cell_type": "code",
   "execution_count": 53,
   "metadata": {},
   "outputs": [
    {
     "data": {
      "text/plain": [
       "LinearRegression(copy_X=True, fit_intercept=True, n_jobs=None,\n",
       "         normalize=False)"
      ]
     },
     "execution_count": 53,
     "metadata": {},
     "output_type": "execute_result"
    }
   ],
   "source": [
    "from sklearn.linear_model import LinearRegression\n",
    "\n",
    "lr = LinearRegression()\n",
    "lr.fit(X_train_scaled,y_train)"
   ]
  },
  {
   "cell_type": "code",
   "execution_count": 54,
   "metadata": {},
   "outputs": [],
   "source": [
    "def display_scores(score_metric, scores):\n",
    "    print('Validation Set r2 Scores: ',scores['test_r2'])\n",
    "    print('Validation Set r2 Mean Scores: ',scores['test_r2'].mean())\n",
    "    \n",
    "    print('\\nValidation Set RMSE Scores: ',np.sqrt(-scores['test_neg_mean_squared_error']))\n",
    "    print('Validation Set RMSE Mean Scores: ',np.sqrt(-scores['test_neg_mean_squared_error'].mean()))   "
   ]
  },
  {
   "cell_type": "code",
   "execution_count": 55,
   "metadata": {},
   "outputs": [],
   "source": [
    "from sklearn.model_selection import KFold\n",
    "\n",
    "#Use 10-fold cross validation when assessing performance metrics of models.\n",
    "kfold = KFold(n_splits=10,shuffle=True,random_state=42)"
   ]
  },
  {
   "cell_type": "code",
   "execution_count": 56,
   "metadata": {},
   "outputs": [
    {
     "name": "stdout",
     "output_type": "stream",
     "text": [
      "Validation Set r2 Scores:  [0.82209436 0.7488869  0.81654968 0.79862677 0.81824767 0.8350529\n",
      " 0.84167104 0.8143964  0.84782567 0.80653208]\n",
      "Validation Set r2 Mean Scores:  0.8149883466393634\n",
      "\n",
      "Validation Set RMSE Scores:  [17119.54983006 20219.65759292 15317.85915572 16588.47952028\n",
      " 17072.1175235  17297.73236781 17275.1110331  16899.90989859\n",
      " 16223.9320397  15552.36828232]\n",
      "Validation Set RMSE Mean Scores:  17004.485552573875\n"
     ]
    }
   ],
   "source": [
    "from sklearn.model_selection import cross_validate\n",
    "\n",
    "#Evalulate two scoring metrics on the regression model. The r2 value and the RMSE. I choose RMSE over MAE because I wanted \n",
    "#outlier values to be more penalized.\n",
    "score_metric = ['r2','neg_mean_squared_error']\n",
    "\n",
    "#Use 10-fold cross validation to measure results. \n",
    "lr_scores = cross_validate(lr,X_train_scaled,y_train,scoring=score_metric,cv=kfold,return_train_score=True)\n",
    "\n",
    "display_scores(score_metric,lr_scores)"
   ]
  },
  {
   "cell_type": "markdown",
   "metadata": {},
   "source": [
    "__Build a Decision Tree Regressor.__"
   ]
  },
  {
   "cell_type": "code",
   "execution_count": 57,
   "metadata": {},
   "outputs": [
    {
     "data": {
      "text/plain": [
       "DecisionTreeRegressor(criterion='mse', max_depth=None, max_features=None,\n",
       "           max_leaf_nodes=None, min_impurity_decrease=0.0,\n",
       "           min_impurity_split=None, min_samples_leaf=1,\n",
       "           min_samples_split=2, min_weight_fraction_leaf=0.0,\n",
       "           presort=False, random_state=None, splitter='best')"
      ]
     },
     "execution_count": 57,
     "metadata": {},
     "output_type": "execute_result"
    }
   ],
   "source": [
    "from sklearn.tree import DecisionTreeRegressor\n",
    "\n",
    "tree_reg = DecisionTreeRegressor()\n",
    "tree_reg.fit(X_train_scaled,y_train)"
   ]
  },
  {
   "cell_type": "code",
   "execution_count": 58,
   "metadata": {},
   "outputs": [
    {
     "name": "stdout",
     "output_type": "stream",
     "text": [
      "Validation Set r2 Scores:  [0.87086301 0.9413538  0.92763395 0.95062472 0.93866867 0.94593484\n",
      " 0.94610779 0.92668975 0.94332937 0.96181334]\n",
      "Validation Set r2 Mean Scores:  0.9353019245014351\n",
      "\n",
      "Validation Set RMSE Scores:  [14585.55000924  9771.45081983  9620.69102256  8214.10953055\n",
      "  9917.18865444  9903.20027163 10078.67985501 10621.19914746\n",
      "  9900.66697102  6909.52047361]\n",
      "Validation Set RMSE Mean Scores:  10123.374715736792\n"
     ]
    }
   ],
   "source": [
    "scores_tree = cross_validate(tree_reg,X_train_scaled,y_train,scoring=score_metric,cv=kfold,return_train_score=True)\n",
    "display_scores(score_metric,scores_tree)"
   ]
  },
  {
   "cell_type": "markdown",
   "metadata": {},
   "source": [
    "__Build a kNN Regressor.__"
   ]
  },
  {
   "cell_type": "code",
   "execution_count": 59,
   "metadata": {},
   "outputs": [
    {
     "data": {
      "text/plain": [
       "KNeighborsRegressor(algorithm='auto', leaf_size=30, metric='minkowski',\n",
       "          metric_params=None, n_jobs=None, n_neighbors=5, p=2,\n",
       "          weights='uniform')"
      ]
     },
     "execution_count": 59,
     "metadata": {},
     "output_type": "execute_result"
    }
   ],
   "source": [
    "from sklearn.neighbors import KNeighborsRegressor\n",
    "\n",
    "knn_reg = KNeighborsRegressor()\n",
    "knn_reg.fit(X_train_scaled,y_train)"
   ]
  },
  {
   "cell_type": "code",
   "execution_count": 60,
   "metadata": {},
   "outputs": [
    {
     "name": "stdout",
     "output_type": "stream",
     "text": [
      "Validation Set r2 Scores:  [0.89329375 0.88087127 0.9050499  0.87656346 0.89522314 0.91735353\n",
      " 0.88160077 0.90446308 0.87403936 0.91029437]\n",
      "Validation Set r2 Mean Scores:  0.8938752631312047\n",
      "\n",
      "Validation Set RMSE Scores:  [13258.43979666 13926.67255863 11020.12532084 12987.56027965\n",
      " 12962.24094366 12244.15927746 14938.77929491 12124.86223445\n",
      " 14760.56095562 10590.14472834]\n",
      "Validation Set RMSE Mean Scores:  12953.77235137722\n"
     ]
    }
   ],
   "source": [
    "scores_knn = cross_validate(knn_reg,X_train_scaled,y_train,scoring=score_metric,cv=kfold,return_train_score=True)\n",
    "display_scores(score_metric,scores_knn)"
   ]
  },
  {
   "cell_type": "markdown",
   "metadata": {},
   "source": [
    "__Build a Linear Regression with Ridge.__"
   ]
  },
  {
   "cell_type": "code",
   "execution_count": 61,
   "metadata": {},
   "outputs": [
    {
     "data": {
      "text/plain": [
       "Ridge(alpha=10, copy_X=True, fit_intercept=True, max_iter=10000,\n",
       "   normalize=False, random_state=None, solver='auto', tol=0.001)"
      ]
     },
     "execution_count": 61,
     "metadata": {},
     "output_type": "execute_result"
    }
   ],
   "source": [
    "from sklearn.linear_model import Ridge\n",
    "\n",
    "ridge = Ridge(alpha=10,max_iter=10000)\n",
    "ridge.fit(X_train_scaled,y_train)"
   ]
  },
  {
   "cell_type": "code",
   "execution_count": 62,
   "metadata": {},
   "outputs": [
    {
     "name": "stdout",
     "output_type": "stream",
     "text": [
      "Validation Set r2 Scores:  [0.81664472 0.74568124 0.81044799 0.79196432 0.8136614  0.83138332\n",
      " 0.8449258  0.81237571 0.83987857 0.80073204]\n",
      "Validation Set r2 Mean Scores:  0.810769512177935\n",
      "\n",
      "Validation Set RMSE Scores:  [17379.77666684 20348.30807584 15570.51669145 16860.661996\n",
      " 17286.17112275 17489.08513979 17096.62708454 16991.65681894\n",
      " 16642.17767534 15783.77185918]\n",
      "Validation Set RMSE Mean Scores:  17188.98948057391\n"
     ]
    }
   ],
   "source": [
    "scores_ridge = cross_validate(ridge,X_train_scaled,y_train,scoring=score_metric,cv=kfold,return_train_score=True)\n",
    "display_scores(score_metric,scores_ridge)"
   ]
  },
  {
   "cell_type": "markdown",
   "metadata": {},
   "source": [
    "__Build a Linear Regression with Lasso.__"
   ]
  },
  {
   "cell_type": "code",
   "execution_count": 63,
   "metadata": {},
   "outputs": [
    {
     "data": {
      "text/plain": [
       "Lasso(alpha=10, copy_X=True, fit_intercept=True, max_iter=10000,\n",
       "   normalize=False, positive=False, precompute=False, random_state=None,\n",
       "   selection='cyclic', tol=0.0001, warm_start=False)"
      ]
     },
     "execution_count": 63,
     "metadata": {},
     "output_type": "execute_result"
    }
   ],
   "source": [
    "from sklearn.linear_model import Lasso\n",
    "\n",
    "lasso = Lasso(alpha=10,max_iter=10000)\n",
    "lasso.fit(X_train_scaled,y_train)"
   ]
  },
  {
   "cell_type": "code",
   "execution_count": 64,
   "metadata": {},
   "outputs": [
    {
     "name": "stdout",
     "output_type": "stream",
     "text": [
      "Validation Set r2 Scores:  [0.81707486 0.74512713 0.81145465 0.79233059 0.81416114 0.83176821\n",
      " 0.84452643 0.81262224 0.84120084 0.80140364]\n",
      "Validation Set r2 Mean Scores:  0.8111669738690539\n",
      "\n",
      "Validation Set RMSE Scores:  [17359.37895505 20370.46363255 15529.11645846 16845.81277293\n",
      " 17262.97582959 17469.11317905 17118.62769842 16980.49005863\n",
      " 16573.32021938 15757.15085547]\n",
      "Validation Set RMSE Mean Scores:  17171.971771206838\n"
     ]
    }
   ],
   "source": [
    "scores_lasso = cross_validate(lasso,X_train_scaled,y_train,scoring=score_metric,cv=kfold,return_train_score=True)\n",
    "display_scores(score_metric,scores_lasso)"
   ]
  },
  {
   "cell_type": "markdown",
   "metadata": {},
   "source": [
    "_From this analysis, the best model was the decision tree regressor. It had a score of 0.935 after 10-fold cross validation and had the lowest RMSE of 10,123. I'll choose it and tune its parameters accordingly._"
   ]
  },
  {
   "cell_type": "markdown",
   "metadata": {},
   "source": [
    "## 6. Fine-tune your model"
   ]
  },
  {
   "cell_type": "code",
   "execution_count": 65,
   "metadata": {},
   "outputs": [
    {
     "data": {
      "text/plain": [
       "GridSearchCV(cv=KFold(n_splits=10, random_state=42, shuffle=True),\n",
       "       error_score='raise-deprecating',\n",
       "       estimator=DecisionTreeRegressor(criterion='mse', max_depth=None, max_features=None,\n",
       "           max_leaf_nodes=None, min_impurity_decrease=0.0,\n",
       "           min_impurity_split=None, min_samples_leaf=1,\n",
       "           min_samples_split=2, min_weight_fraction_leaf=0.0,\n",
       "           presort=False, random_state=None, splitter='best'),\n",
       "       fit_params=None, iid='warn', n_jobs=None,\n",
       "       param_grid=[{'max_depth': [2, 5, 10, 15, 20, 25]}, {'min_samples_leaf': [0.1, 0.2, 0.3, 0.4, 0.5]}, {'max_features': [0.1, 0.2, 0.3, 0.4, 0.5]}],\n",
       "       pre_dispatch='2*n_jobs', refit='r2', return_train_score=True,\n",
       "       scoring=['r2', 'neg_mean_squared_error'], verbose=0)"
      ]
     },
     "execution_count": 65,
     "metadata": {},
     "output_type": "execute_result"
    }
   ],
   "source": [
    "from sklearn.model_selection import GridSearchCV\n",
    "\n",
    "#The decision tree I used was nonparametric, meaning I had not regularized it beforehand. To regularize the decision tree, \n",
    "#I choose to either limit the depth of the tree, the minimum number of samples in a leaf (expressed as a fraction), or the\n",
    "#maximum number of features to consider when looking for the best split (expressed as a fraction).\n",
    "\n",
    "#I set up the parameters as 3 differnt dictionaries. This means the model will go through each separately (i.e. no combinations).\n",
    "param_grid_tree = [{'max_depth':[2,5,10,15,20,25]},\n",
    "                   {'min_samples_leaf':[0.10,0.20,0.30,0.40,0.50]},\n",
    "                   {'max_features':[0.10,0.20,0.30,0.40,0.50]}\n",
    "                  ]\n",
    "\n",
    "grid_search = GridSearchCV(tree_reg,param_grid_tree,cv=kfold,scoring=score_metric,refit='r2',return_train_score=True)\n",
    "grid_search.fit(X_train_scaled,y_train)"
   ]
  },
  {
   "cell_type": "code",
   "execution_count": 66,
   "metadata": {},
   "outputs": [
    {
     "data": {
      "text/plain": [
       "Index(['mean_fit_time', 'std_fit_time', 'mean_score_time', 'std_score_time',\n",
       "       'param_max_depth', 'param_min_samples_leaf', 'param_max_features',\n",
       "       'params', 'split0_test_r2', 'split1_test_r2', 'split2_test_r2',\n",
       "       'split3_test_r2', 'split4_test_r2', 'split5_test_r2', 'split6_test_r2',\n",
       "       'split7_test_r2', 'split8_test_r2', 'split9_test_r2', 'mean_test_r2',\n",
       "       'std_test_r2', 'rank_test_r2', 'split0_train_r2', 'split1_train_r2',\n",
       "       'split2_train_r2', 'split3_train_r2', 'split4_train_r2',\n",
       "       'split5_train_r2', 'split6_train_r2', 'split7_train_r2',\n",
       "       'split8_train_r2', 'split9_train_r2', 'mean_train_r2', 'std_train_r2',\n",
       "       'split0_test_neg_mean_squared_error',\n",
       "       'split1_test_neg_mean_squared_error',\n",
       "       'split2_test_neg_mean_squared_error',\n",
       "       'split3_test_neg_mean_squared_error',\n",
       "       'split4_test_neg_mean_squared_error',\n",
       "       'split5_test_neg_mean_squared_error',\n",
       "       'split6_test_neg_mean_squared_error',\n",
       "       'split7_test_neg_mean_squared_error',\n",
       "       'split8_test_neg_mean_squared_error',\n",
       "       'split9_test_neg_mean_squared_error',\n",
       "       'mean_test_neg_mean_squared_error', 'std_test_neg_mean_squared_error',\n",
       "       'rank_test_neg_mean_squared_error',\n",
       "       'split0_train_neg_mean_squared_error',\n",
       "       'split1_train_neg_mean_squared_error',\n",
       "       'split2_train_neg_mean_squared_error',\n",
       "       'split3_train_neg_mean_squared_error',\n",
       "       'split4_train_neg_mean_squared_error',\n",
       "       'split5_train_neg_mean_squared_error',\n",
       "       'split6_train_neg_mean_squared_error',\n",
       "       'split7_train_neg_mean_squared_error',\n",
       "       'split8_train_neg_mean_squared_error',\n",
       "       'split9_train_neg_mean_squared_error',\n",
       "       'mean_train_neg_mean_squared_error',\n",
       "       'std_train_neg_mean_squared_error'],\n",
       "      dtype='object')"
      ]
     },
     "execution_count": 66,
     "metadata": {},
     "output_type": "execute_result"
    }
   ],
   "source": [
    "#Lets view the results in a dataframe.\n",
    "gridsearch_df_res_tree = pd.DataFrame(grid_search.cv_results_)\n",
    "gridsearch_df_res_tree.columns"
   ]
  },
  {
   "cell_type": "code",
   "execution_count": 67,
   "metadata": {},
   "outputs": [
    {
     "data": {
      "text/html": [
       "<div>\n",
       "<style scoped>\n",
       "    .dataframe tbody tr th:only-of-type {\n",
       "        vertical-align: middle;\n",
       "    }\n",
       "\n",
       "    .dataframe tbody tr th {\n",
       "        vertical-align: top;\n",
       "    }\n",
       "\n",
       "    .dataframe thead th {\n",
       "        text-align: right;\n",
       "    }\n",
       "</style>\n",
       "<table border=\"1\" class=\"dataframe\">\n",
       "  <thead>\n",
       "    <tr style=\"text-align: right;\">\n",
       "      <th></th>\n",
       "      <th>param_max_depth</th>\n",
       "      <th>param_max_features</th>\n",
       "      <th>param_min_samples_leaf</th>\n",
       "      <th>mean_train_r2</th>\n",
       "      <th>mean_test_r2</th>\n",
       "      <th>mean_train_root_mean_square_error</th>\n",
       "      <th>mean_test_root_mean_square_error</th>\n",
       "    </tr>\n",
       "  </thead>\n",
       "  <tbody>\n",
       "    <tr>\n",
       "      <th>0</th>\n",
       "      <td>2</td>\n",
       "      <td>NaN</td>\n",
       "      <td>NaN</td>\n",
       "      <td>0.541519</td>\n",
       "      <td>0.498447</td>\n",
       "      <td>26871.039778</td>\n",
       "      <td>28103.042312</td>\n",
       "    </tr>\n",
       "    <tr>\n",
       "      <th>1</th>\n",
       "      <td>5</td>\n",
       "      <td>NaN</td>\n",
       "      <td>NaN</td>\n",
       "      <td>0.774922</td>\n",
       "      <td>0.745970</td>\n",
       "      <td>18828.000184</td>\n",
       "      <td>19872.307077</td>\n",
       "    </tr>\n",
       "    <tr>\n",
       "      <th>2</th>\n",
       "      <td>10</td>\n",
       "      <td>NaN</td>\n",
       "      <td>NaN</td>\n",
       "      <td>0.957333</td>\n",
       "      <td>0.904328</td>\n",
       "      <td>8199.999900</td>\n",
       "      <td>12309.329296</td>\n",
       "    </tr>\n",
       "    <tr>\n",
       "      <th>3</th>\n",
       "      <td>15</td>\n",
       "      <td>NaN</td>\n",
       "      <td>NaN</td>\n",
       "      <td>0.993843</td>\n",
       "      <td>0.927464</td>\n",
       "      <td>3116.219257</td>\n",
       "      <td>10827.302174</td>\n",
       "    </tr>\n",
       "    <tr>\n",
       "      <th>4</th>\n",
       "      <td>20</td>\n",
       "      <td>NaN</td>\n",
       "      <td>NaN</td>\n",
       "      <td>0.999395</td>\n",
       "      <td>0.938577</td>\n",
       "      <td>978.122902</td>\n",
       "      <td>9864.526814</td>\n",
       "    </tr>\n",
       "    <tr>\n",
       "      <th>5</th>\n",
       "      <td>25</td>\n",
       "      <td>NaN</td>\n",
       "      <td>NaN</td>\n",
       "      <td>0.999938</td>\n",
       "      <td>0.930619</td>\n",
       "      <td>313.984941</td>\n",
       "      <td>10492.780615</td>\n",
       "    </tr>\n",
       "    <tr>\n",
       "      <th>6</th>\n",
       "      <td>NaN</td>\n",
       "      <td>NaN</td>\n",
       "      <td>0.1</td>\n",
       "      <td>0.544037</td>\n",
       "      <td>0.547810</td>\n",
       "      <td>26799.207846</td>\n",
       "      <td>26852.651585</td>\n",
       "    </tr>\n",
       "    <tr>\n",
       "      <th>7</th>\n",
       "      <td>NaN</td>\n",
       "      <td>NaN</td>\n",
       "      <td>0.2</td>\n",
       "      <td>0.445708</td>\n",
       "      <td>0.449062</td>\n",
       "      <td>29547.804097</td>\n",
       "      <td>29596.291428</td>\n",
       "    </tr>\n",
       "    <tr>\n",
       "      <th>8</th>\n",
       "      <td>NaN</td>\n",
       "      <td>NaN</td>\n",
       "      <td>0.3</td>\n",
       "      <td>0.441266</td>\n",
       "      <td>0.444759</td>\n",
       "      <td>29665.972906</td>\n",
       "      <td>29710.356913</td>\n",
       "    </tr>\n",
       "    <tr>\n",
       "      <th>9</th>\n",
       "      <td>NaN</td>\n",
       "      <td>NaN</td>\n",
       "      <td>0.4</td>\n",
       "      <td>0.361077</td>\n",
       "      <td>0.365090</td>\n",
       "      <td>31722.439105</td>\n",
       "      <td>31730.924479</td>\n",
       "    </tr>\n",
       "    <tr>\n",
       "      <th>10</th>\n",
       "      <td>NaN</td>\n",
       "      <td>NaN</td>\n",
       "      <td>0.5</td>\n",
       "      <td>0.065209</td>\n",
       "      <td>0.066247</td>\n",
       "      <td>38361.482002</td>\n",
       "      <td>38445.411672</td>\n",
       "    </tr>\n",
       "    <tr>\n",
       "      <th>11</th>\n",
       "      <td>NaN</td>\n",
       "      <td>0.1</td>\n",
       "      <td>NaN</td>\n",
       "      <td>1.000000</td>\n",
       "      <td>0.822749</td>\n",
       "      <td>-0.000000</td>\n",
       "      <td>17168.607752</td>\n",
       "    </tr>\n",
       "    <tr>\n",
       "      <th>12</th>\n",
       "      <td>NaN</td>\n",
       "      <td>0.2</td>\n",
       "      <td>NaN</td>\n",
       "      <td>1.000000</td>\n",
       "      <td>0.864754</td>\n",
       "      <td>0.386733</td>\n",
       "      <td>14681.695149</td>\n",
       "    </tr>\n",
       "    <tr>\n",
       "      <th>13</th>\n",
       "      <td>NaN</td>\n",
       "      <td>0.3</td>\n",
       "      <td>NaN</td>\n",
       "      <td>1.000000</td>\n",
       "      <td>0.897068</td>\n",
       "      <td>1.314738</td>\n",
       "      <td>12862.818032</td>\n",
       "    </tr>\n",
       "    <tr>\n",
       "      <th>14</th>\n",
       "      <td>NaN</td>\n",
       "      <td>0.4</td>\n",
       "      <td>NaN</td>\n",
       "      <td>1.000000</td>\n",
       "      <td>0.908466</td>\n",
       "      <td>-0.000000</td>\n",
       "      <td>12346.488887</td>\n",
       "    </tr>\n",
       "    <tr>\n",
       "      <th>15</th>\n",
       "      <td>NaN</td>\n",
       "      <td>0.5</td>\n",
       "      <td>NaN</td>\n",
       "      <td>1.000000</td>\n",
       "      <td>0.931764</td>\n",
       "      <td>-0.000000</td>\n",
       "      <td>10357.857005</td>\n",
       "    </tr>\n",
       "  </tbody>\n",
       "</table>\n",
       "</div>"
      ],
      "text/plain": [
       "   param_max_depth param_max_features param_min_samples_leaf  mean_train_r2  \\\n",
       "0                2                NaN                    NaN       0.541519   \n",
       "1                5                NaN                    NaN       0.774922   \n",
       "2               10                NaN                    NaN       0.957333   \n",
       "3               15                NaN                    NaN       0.993843   \n",
       "4               20                NaN                    NaN       0.999395   \n",
       "5               25                NaN                    NaN       0.999938   \n",
       "6              NaN                NaN                    0.1       0.544037   \n",
       "7              NaN                NaN                    0.2       0.445708   \n",
       "8              NaN                NaN                    0.3       0.441266   \n",
       "9              NaN                NaN                    0.4       0.361077   \n",
       "10             NaN                NaN                    0.5       0.065209   \n",
       "11             NaN                0.1                    NaN       1.000000   \n",
       "12             NaN                0.2                    NaN       1.000000   \n",
       "13             NaN                0.3                    NaN       1.000000   \n",
       "14             NaN                0.4                    NaN       1.000000   \n",
       "15             NaN                0.5                    NaN       1.000000   \n",
       "\n",
       "    mean_test_r2  mean_train_root_mean_square_error  \\\n",
       "0       0.498447                       26871.039778   \n",
       "1       0.745970                       18828.000184   \n",
       "2       0.904328                        8199.999900   \n",
       "3       0.927464                        3116.219257   \n",
       "4       0.938577                         978.122902   \n",
       "5       0.930619                         313.984941   \n",
       "6       0.547810                       26799.207846   \n",
       "7       0.449062                       29547.804097   \n",
       "8       0.444759                       29665.972906   \n",
       "9       0.365090                       31722.439105   \n",
       "10      0.066247                       38361.482002   \n",
       "11      0.822749                          -0.000000   \n",
       "12      0.864754                           0.386733   \n",
       "13      0.897068                           1.314738   \n",
       "14      0.908466                          -0.000000   \n",
       "15      0.931764                          -0.000000   \n",
       "\n",
       "    mean_test_root_mean_square_error  \n",
       "0                       28103.042312  \n",
       "1                       19872.307077  \n",
       "2                       12309.329296  \n",
       "3                       10827.302174  \n",
       "4                        9864.526814  \n",
       "5                       10492.780615  \n",
       "6                       26852.651585  \n",
       "7                       29596.291428  \n",
       "8                       29710.356913  \n",
       "9                       31730.924479  \n",
       "10                      38445.411672  \n",
       "11                      17168.607752  \n",
       "12                      14681.695149  \n",
       "13                      12862.818032  \n",
       "14                      12346.488887  \n",
       "15                      10357.857005  "
      ]
     },
     "execution_count": 67,
     "metadata": {},
     "output_type": "execute_result"
    }
   ],
   "source": [
    "#Lets convert the negative MSE into RMSE first.\n",
    "gridsearch_df_res_tree['mean_train_root_mean_square_error'] = np.sqrt(-gridsearch_df_res_tree\n",
    "                                                                      .loc[:,'mean_train_neg_mean_squared_error'])\n",
    "gridsearch_df_res_tree['mean_test_root_mean_square_error'] = np.sqrt(-gridsearch_df_res_tree\n",
    "                                                                     .loc[:,'mean_test_neg_mean_squared_error'])\n",
    "\n",
    "#view results.\n",
    "gridsearch_df_res_tree.loc[:,(['param_max_depth',\n",
    "                               'param_max_features',\n",
    "                               'param_min_samples_leaf',\n",
    "                               'mean_train_r2',\n",
    "                               'mean_test_r2',\n",
    "                               'mean_train_root_mean_square_error',\n",
    "                               'mean_test_root_mean_square_error'])]"
   ]
  },
  {
   "cell_type": "markdown",
   "metadata": {},
   "source": [
    "It is clear that the min_samples_leaf parameter hurts the model the most. I will not attempt to tune it. This leaves the\n",
    "max_depth and max_features parameters to play with. Having max depths < 10 hurt the modle the most, so I won't consider them\n",
    "any further. The better results come from having max features = 0.5 and max depth = 20. Now, lets go into more granularity to find the best values. "
   ]
  },
  {
   "cell_type": "code",
   "execution_count": 68,
   "metadata": {},
   "outputs": [
    {
     "data": {
      "text/plain": [
       "GridSearchCV(cv=KFold(n_splits=10, random_state=42, shuffle=True),\n",
       "       error_score='raise-deprecating',\n",
       "       estimator=DecisionTreeRegressor(criterion='mse', max_depth=None, max_features=None,\n",
       "           max_leaf_nodes=None, min_impurity_decrease=0.0,\n",
       "           min_impurity_split=None, min_samples_leaf=1,\n",
       "           min_samples_split=2, min_weight_fraction_leaf=0.0,\n",
       "           presort=False, random_state=None, splitter='best'),\n",
       "       fit_params=None, iid='warn', n_jobs=None,\n",
       "       param_grid=[{'max_depth': [15, 18, 19, 20, 21, 22, 23, 24, 25], 'max_features': [0.4, 0.45, 0.5, 0.55, 0.6, 0.65, 0.7]}],\n",
       "       pre_dispatch='2*n_jobs', refit='r2', return_train_score=True,\n",
       "       scoring=['r2', 'neg_mean_squared_error'], verbose=0)"
      ]
     },
     "execution_count": 68,
     "metadata": {},
     "output_type": "execute_result"
    }
   ],
   "source": [
    "param_grid_tree_v2 = [{'max_depth':[15,18,19,20,21,22,23,24,25],'max_features':[0.40,0.45,0.50,0.55,0.60,0.65,0.70]}]\n",
    "\n",
    "grid_search_tree_v2 = GridSearchCV(tree_reg,param_grid_tree_v2,cv=kfold,scoring=score_metric,refit='r2',return_train_score=True)\n",
    "grid_search_tree_v2.fit(X_train_scaled,y_train)"
   ]
  },
  {
   "cell_type": "code",
   "execution_count": 69,
   "metadata": {},
   "outputs": [
    {
     "data": {
      "text/html": [
       "<div>\n",
       "<style scoped>\n",
       "    .dataframe tbody tr th:only-of-type {\n",
       "        vertical-align: middle;\n",
       "    }\n",
       "\n",
       "    .dataframe tbody tr th {\n",
       "        vertical-align: top;\n",
       "    }\n",
       "\n",
       "    .dataframe thead th {\n",
       "        text-align: right;\n",
       "    }\n",
       "</style>\n",
       "<table border=\"1\" class=\"dataframe\">\n",
       "  <thead>\n",
       "    <tr style=\"text-align: right;\">\n",
       "      <th></th>\n",
       "      <th>param_max_depth</th>\n",
       "      <th>param_max_features</th>\n",
       "      <th>mean_train_r2</th>\n",
       "      <th>mean_test_r2</th>\n",
       "      <th>mean_train_root_mean_square_error</th>\n",
       "      <th>mean_test_root_mean_square_error</th>\n",
       "    </tr>\n",
       "  </thead>\n",
       "  <tbody>\n",
       "    <tr>\n",
       "      <th>0</th>\n",
       "      <td>15</td>\n",
       "      <td>0.4</td>\n",
       "      <td>0.991701</td>\n",
       "      <td>0.928407</td>\n",
       "      <td>3612.813418</td>\n",
       "      <td>10649.886781</td>\n",
       "    </tr>\n",
       "    <tr>\n",
       "      <th>1</th>\n",
       "      <td>15</td>\n",
       "      <td>0.45</td>\n",
       "      <td>0.992508</td>\n",
       "      <td>0.912186</td>\n",
       "      <td>3433.952060</td>\n",
       "      <td>11988.783722</td>\n",
       "    </tr>\n",
       "    <tr>\n",
       "      <th>2</th>\n",
       "      <td>15</td>\n",
       "      <td>0.5</td>\n",
       "      <td>0.993238</td>\n",
       "      <td>0.913499</td>\n",
       "      <td>3260.775483</td>\n",
       "      <td>11877.615952</td>\n",
       "    </tr>\n",
       "    <tr>\n",
       "      <th>3</th>\n",
       "      <td>15</td>\n",
       "      <td>0.55</td>\n",
       "      <td>0.993950</td>\n",
       "      <td>0.922256</td>\n",
       "      <td>3093.178543</td>\n",
       "      <td>11067.520481</td>\n",
       "    </tr>\n",
       "    <tr>\n",
       "      <th>4</th>\n",
       "      <td>15</td>\n",
       "      <td>0.6</td>\n",
       "      <td>0.994502</td>\n",
       "      <td>0.926172</td>\n",
       "      <td>2942.410119</td>\n",
       "      <td>10915.213158</td>\n",
       "    </tr>\n",
       "    <tr>\n",
       "      <th>5</th>\n",
       "      <td>15</td>\n",
       "      <td>0.65</td>\n",
       "      <td>0.994300</td>\n",
       "      <td>0.937052</td>\n",
       "      <td>2997.099620</td>\n",
       "      <td>9971.745032</td>\n",
       "    </tr>\n",
       "    <tr>\n",
       "      <th>6</th>\n",
       "      <td>15</td>\n",
       "      <td>0.7</td>\n",
       "      <td>0.993977</td>\n",
       "      <td>0.924968</td>\n",
       "      <td>3083.605511</td>\n",
       "      <td>10945.547612</td>\n",
       "    </tr>\n",
       "    <tr>\n",
       "      <th>7</th>\n",
       "      <td>18</td>\n",
       "      <td>0.4</td>\n",
       "      <td>0.998214</td>\n",
       "      <td>0.937729</td>\n",
       "      <td>1676.489675</td>\n",
       "      <td>10043.611256</td>\n",
       "    </tr>\n",
       "    <tr>\n",
       "      <th>8</th>\n",
       "      <td>18</td>\n",
       "      <td>0.45</td>\n",
       "      <td>0.998318</td>\n",
       "      <td>0.928233</td>\n",
       "      <td>1626.131633</td>\n",
       "      <td>10616.135275</td>\n",
       "    </tr>\n",
       "    <tr>\n",
       "      <th>9</th>\n",
       "      <td>18</td>\n",
       "      <td>0.5</td>\n",
       "      <td>0.997993</td>\n",
       "      <td>0.900347</td>\n",
       "      <td>1774.854141</td>\n",
       "      <td>12740.850411</td>\n",
       "    </tr>\n",
       "    <tr>\n",
       "      <th>10</th>\n",
       "      <td>18</td>\n",
       "      <td>0.55</td>\n",
       "      <td>0.998671</td>\n",
       "      <td>0.927937</td>\n",
       "      <td>1448.155836</td>\n",
       "      <td>10612.192595</td>\n",
       "    </tr>\n",
       "    <tr>\n",
       "      <th>11</th>\n",
       "      <td>18</td>\n",
       "      <td>0.6</td>\n",
       "      <td>0.998187</td>\n",
       "      <td>0.916620</td>\n",
       "      <td>1691.781966</td>\n",
       "      <td>11427.861815</td>\n",
       "    </tr>\n",
       "    <tr>\n",
       "      <th>12</th>\n",
       "      <td>18</td>\n",
       "      <td>0.65</td>\n",
       "      <td>0.998757</td>\n",
       "      <td>0.927204</td>\n",
       "      <td>1399.286973</td>\n",
       "      <td>10818.674693</td>\n",
       "    </tr>\n",
       "    <tr>\n",
       "      <th>13</th>\n",
       "      <td>18</td>\n",
       "      <td>0.7</td>\n",
       "      <td>0.998233</td>\n",
       "      <td>0.923767</td>\n",
       "      <td>1670.805986</td>\n",
       "      <td>10992.252774</td>\n",
       "    </tr>\n",
       "    <tr>\n",
       "      <th>14</th>\n",
       "      <td>19</td>\n",
       "      <td>0.4</td>\n",
       "      <td>0.998903</td>\n",
       "      <td>0.917540</td>\n",
       "      <td>1316.107576</td>\n",
       "      <td>11544.653966</td>\n",
       "    </tr>\n",
       "    <tr>\n",
       "      <th>15</th>\n",
       "      <td>19</td>\n",
       "      <td>0.45</td>\n",
       "      <td>0.999083</td>\n",
       "      <td>0.926104</td>\n",
       "      <td>1203.537643</td>\n",
       "      <td>10906.473349</td>\n",
       "    </tr>\n",
       "    <tr>\n",
       "      <th>16</th>\n",
       "      <td>19</td>\n",
       "      <td>0.5</td>\n",
       "      <td>0.999174</td>\n",
       "      <td>0.931407</td>\n",
       "      <td>1139.961882</td>\n",
       "      <td>10380.903617</td>\n",
       "    </tr>\n",
       "    <tr>\n",
       "      <th>17</th>\n",
       "      <td>19</td>\n",
       "      <td>0.55</td>\n",
       "      <td>0.999047</td>\n",
       "      <td>0.922274</td>\n",
       "      <td>1227.881209</td>\n",
       "      <td>11130.445087</td>\n",
       "    </tr>\n",
       "    <tr>\n",
       "      <th>18</th>\n",
       "      <td>19</td>\n",
       "      <td>0.6</td>\n",
       "      <td>0.999059</td>\n",
       "      <td>0.936835</td>\n",
       "      <td>1217.067711</td>\n",
       "      <td>10053.642327</td>\n",
       "    </tr>\n",
       "    <tr>\n",
       "      <th>19</th>\n",
       "      <td>19</td>\n",
       "      <td>0.65</td>\n",
       "      <td>0.999023</td>\n",
       "      <td>0.903422</td>\n",
       "      <td>1239.701334</td>\n",
       "      <td>12604.183492</td>\n",
       "    </tr>\n",
       "    <tr>\n",
       "      <th>20</th>\n",
       "      <td>19</td>\n",
       "      <td>0.7</td>\n",
       "      <td>0.999086</td>\n",
       "      <td>0.917501</td>\n",
       "      <td>1201.118759</td>\n",
       "      <td>11539.074187</td>\n",
       "    </tr>\n",
       "    <tr>\n",
       "      <th>21</th>\n",
       "      <td>20</td>\n",
       "      <td>0.4</td>\n",
       "      <td>0.999350</td>\n",
       "      <td>0.922953</td>\n",
       "      <td>1011.934423</td>\n",
       "      <td>11265.734139</td>\n",
       "    </tr>\n",
       "    <tr>\n",
       "      <th>22</th>\n",
       "      <td>20</td>\n",
       "      <td>0.45</td>\n",
       "      <td>0.999181</td>\n",
       "      <td>0.930712</td>\n",
       "      <td>1136.002034</td>\n",
       "      <td>10475.139948</td>\n",
       "    </tr>\n",
       "    <tr>\n",
       "      <th>23</th>\n",
       "      <td>20</td>\n",
       "      <td>0.5</td>\n",
       "      <td>0.999490</td>\n",
       "      <td>0.912863</td>\n",
       "      <td>894.608492</td>\n",
       "      <td>11855.589105</td>\n",
       "    </tr>\n",
       "    <tr>\n",
       "      <th>24</th>\n",
       "      <td>20</td>\n",
       "      <td>0.55</td>\n",
       "      <td>0.999531</td>\n",
       "      <td>0.916936</td>\n",
       "      <td>858.633037</td>\n",
       "      <td>11502.567434</td>\n",
       "    </tr>\n",
       "    <tr>\n",
       "      <th>25</th>\n",
       "      <td>20</td>\n",
       "      <td>0.6</td>\n",
       "      <td>0.999325</td>\n",
       "      <td>0.924554</td>\n",
       "      <td>1031.892587</td>\n",
       "      <td>10934.319872</td>\n",
       "    </tr>\n",
       "    <tr>\n",
       "      <th>26</th>\n",
       "      <td>20</td>\n",
       "      <td>0.65</td>\n",
       "      <td>0.999505</td>\n",
       "      <td>0.932768</td>\n",
       "      <td>883.294775</td>\n",
       "      <td>10416.451883</td>\n",
       "    </tr>\n",
       "    <tr>\n",
       "      <th>27</th>\n",
       "      <td>20</td>\n",
       "      <td>0.7</td>\n",
       "      <td>0.999489</td>\n",
       "      <td>0.924584</td>\n",
       "      <td>900.215574</td>\n",
       "      <td>10911.650278</td>\n",
       "    </tr>\n",
       "    <tr>\n",
       "      <th>28</th>\n",
       "      <td>21</td>\n",
       "      <td>0.4</td>\n",
       "      <td>0.999692</td>\n",
       "      <td>0.931677</td>\n",
       "      <td>696.195808</td>\n",
       "      <td>10431.399316</td>\n",
       "    </tr>\n",
       "    <tr>\n",
       "      <th>29</th>\n",
       "      <td>21</td>\n",
       "      <td>0.45</td>\n",
       "      <td>0.999705</td>\n",
       "      <td>0.913317</td>\n",
       "      <td>681.264285</td>\n",
       "      <td>11789.377213</td>\n",
       "    </tr>\n",
       "    <tr>\n",
       "      <th>...</th>\n",
       "      <td>...</td>\n",
       "      <td>...</td>\n",
       "      <td>...</td>\n",
       "      <td>...</td>\n",
       "      <td>...</td>\n",
       "      <td>...</td>\n",
       "    </tr>\n",
       "    <tr>\n",
       "      <th>33</th>\n",
       "      <td>21</td>\n",
       "      <td>0.65</td>\n",
       "      <td>0.999734</td>\n",
       "      <td>0.926714</td>\n",
       "      <td>647.538974</td>\n",
       "      <td>10798.782914</td>\n",
       "    </tr>\n",
       "    <tr>\n",
       "      <th>34</th>\n",
       "      <td>21</td>\n",
       "      <td>0.7</td>\n",
       "      <td>0.999714</td>\n",
       "      <td>0.916871</td>\n",
       "      <td>671.410588</td>\n",
       "      <td>11452.513576</td>\n",
       "    </tr>\n",
       "    <tr>\n",
       "      <th>35</th>\n",
       "      <td>22</td>\n",
       "      <td>0.4</td>\n",
       "      <td>0.999739</td>\n",
       "      <td>0.911256</td>\n",
       "      <td>641.372897</td>\n",
       "      <td>11840.907838</td>\n",
       "    </tr>\n",
       "    <tr>\n",
       "      <th>36</th>\n",
       "      <td>22</td>\n",
       "      <td>0.45</td>\n",
       "      <td>0.999804</td>\n",
       "      <td>0.931165</td>\n",
       "      <td>556.991362</td>\n",
       "      <td>10487.651331</td>\n",
       "    </tr>\n",
       "    <tr>\n",
       "      <th>37</th>\n",
       "      <td>22</td>\n",
       "      <td>0.5</td>\n",
       "      <td>0.999804</td>\n",
       "      <td>0.922098</td>\n",
       "      <td>554.695928</td>\n",
       "      <td>11070.138865</td>\n",
       "    </tr>\n",
       "    <tr>\n",
       "      <th>38</th>\n",
       "      <td>22</td>\n",
       "      <td>0.55</td>\n",
       "      <td>0.999831</td>\n",
       "      <td>0.929604</td>\n",
       "      <td>517.003831</td>\n",
       "      <td>10606.452779</td>\n",
       "    </tr>\n",
       "    <tr>\n",
       "      <th>39</th>\n",
       "      <td>22</td>\n",
       "      <td>0.6</td>\n",
       "      <td>0.999836</td>\n",
       "      <td>0.901375</td>\n",
       "      <td>508.654037</td>\n",
       "      <td>12449.991287</td>\n",
       "    </tr>\n",
       "    <tr>\n",
       "      <th>40</th>\n",
       "      <td>22</td>\n",
       "      <td>0.65</td>\n",
       "      <td>0.999833</td>\n",
       "      <td>0.924348</td>\n",
       "      <td>513.152435</td>\n",
       "      <td>11204.997991</td>\n",
       "    </tr>\n",
       "    <tr>\n",
       "      <th>41</th>\n",
       "      <td>22</td>\n",
       "      <td>0.7</td>\n",
       "      <td>0.999645</td>\n",
       "      <td>0.923109</td>\n",
       "      <td>744.460262</td>\n",
       "      <td>11063.207429</td>\n",
       "    </tr>\n",
       "    <tr>\n",
       "      <th>42</th>\n",
       "      <td>23</td>\n",
       "      <td>0.4</td>\n",
       "      <td>0.999841</td>\n",
       "      <td>0.890632</td>\n",
       "      <td>500.259890</td>\n",
       "      <td>13256.471215</td>\n",
       "    </tr>\n",
       "    <tr>\n",
       "      <th>43</th>\n",
       "      <td>23</td>\n",
       "      <td>0.45</td>\n",
       "      <td>0.999884</td>\n",
       "      <td>0.931002</td>\n",
       "      <td>427.802774</td>\n",
       "      <td>10480.968432</td>\n",
       "    </tr>\n",
       "    <tr>\n",
       "      <th>44</th>\n",
       "      <td>23</td>\n",
       "      <td>0.5</td>\n",
       "      <td>0.999855</td>\n",
       "      <td>0.905554</td>\n",
       "      <td>478.912434</td>\n",
       "      <td>11961.135676</td>\n",
       "    </tr>\n",
       "    <tr>\n",
       "      <th>45</th>\n",
       "      <td>23</td>\n",
       "      <td>0.55</td>\n",
       "      <td>0.999866</td>\n",
       "      <td>0.918018</td>\n",
       "      <td>461.271031</td>\n",
       "      <td>11449.040912</td>\n",
       "    </tr>\n",
       "    <tr>\n",
       "      <th>46</th>\n",
       "      <td>23</td>\n",
       "      <td>0.6</td>\n",
       "      <td>0.999908</td>\n",
       "      <td>0.923874</td>\n",
       "      <td>381.877799</td>\n",
       "      <td>11036.049545</td>\n",
       "    </tr>\n",
       "    <tr>\n",
       "      <th>47</th>\n",
       "      <td>23</td>\n",
       "      <td>0.65</td>\n",
       "      <td>0.999921</td>\n",
       "      <td>0.932416</td>\n",
       "      <td>352.780051</td>\n",
       "      <td>10320.073103</td>\n",
       "    </tr>\n",
       "    <tr>\n",
       "      <th>48</th>\n",
       "      <td>23</td>\n",
       "      <td>0.7</td>\n",
       "      <td>0.999909</td>\n",
       "      <td>0.924881</td>\n",
       "      <td>377.747666</td>\n",
       "      <td>11019.287479</td>\n",
       "    </tr>\n",
       "    <tr>\n",
       "      <th>49</th>\n",
       "      <td>24</td>\n",
       "      <td>0.4</td>\n",
       "      <td>0.999905</td>\n",
       "      <td>0.912037</td>\n",
       "      <td>386.551875</td>\n",
       "      <td>11810.041576</td>\n",
       "    </tr>\n",
       "    <tr>\n",
       "      <th>50</th>\n",
       "      <td>24</td>\n",
       "      <td>0.45</td>\n",
       "      <td>0.999884</td>\n",
       "      <td>0.918241</td>\n",
       "      <td>427.654531</td>\n",
       "      <td>11386.628807</td>\n",
       "    </tr>\n",
       "    <tr>\n",
       "      <th>51</th>\n",
       "      <td>24</td>\n",
       "      <td>0.5</td>\n",
       "      <td>0.999908</td>\n",
       "      <td>0.929151</td>\n",
       "      <td>380.198079</td>\n",
       "      <td>10588.005090</td>\n",
       "    </tr>\n",
       "    <tr>\n",
       "      <th>52</th>\n",
       "      <td>24</td>\n",
       "      <td>0.55</td>\n",
       "      <td>0.999947</td>\n",
       "      <td>0.932137</td>\n",
       "      <td>290.512152</td>\n",
       "      <td>10443.039515</td>\n",
       "    </tr>\n",
       "    <tr>\n",
       "      <th>53</th>\n",
       "      <td>24</td>\n",
       "      <td>0.6</td>\n",
       "      <td>0.999941</td>\n",
       "      <td>0.933967</td>\n",
       "      <td>304.767198</td>\n",
       "      <td>10252.339775</td>\n",
       "    </tr>\n",
       "    <tr>\n",
       "      <th>54</th>\n",
       "      <td>24</td>\n",
       "      <td>0.65</td>\n",
       "      <td>0.999842</td>\n",
       "      <td>0.923292</td>\n",
       "      <td>496.131058</td>\n",
       "      <td>11086.802927</td>\n",
       "    </tr>\n",
       "    <tr>\n",
       "      <th>55</th>\n",
       "      <td>24</td>\n",
       "      <td>0.7</td>\n",
       "      <td>0.999952</td>\n",
       "      <td>0.919964</td>\n",
       "      <td>276.036071</td>\n",
       "      <td>11305.090650</td>\n",
       "    </tr>\n",
       "    <tr>\n",
       "      <th>56</th>\n",
       "      <td>25</td>\n",
       "      <td>0.4</td>\n",
       "      <td>0.999956</td>\n",
       "      <td>0.919560</td>\n",
       "      <td>262.621434</td>\n",
       "      <td>11326.962808</td>\n",
       "    </tr>\n",
       "    <tr>\n",
       "      <th>57</th>\n",
       "      <td>25</td>\n",
       "      <td>0.45</td>\n",
       "      <td>0.999952</td>\n",
       "      <td>0.891256</td>\n",
       "      <td>276.316130</td>\n",
       "      <td>13087.816567</td>\n",
       "    </tr>\n",
       "    <tr>\n",
       "      <th>58</th>\n",
       "      <td>25</td>\n",
       "      <td>0.5</td>\n",
       "      <td>0.999954</td>\n",
       "      <td>0.930701</td>\n",
       "      <td>270.032731</td>\n",
       "      <td>10505.780532</td>\n",
       "    </tr>\n",
       "    <tr>\n",
       "      <th>59</th>\n",
       "      <td>25</td>\n",
       "      <td>0.55</td>\n",
       "      <td>0.999948</td>\n",
       "      <td>0.921779</td>\n",
       "      <td>284.973669</td>\n",
       "      <td>11363.354988</td>\n",
       "    </tr>\n",
       "    <tr>\n",
       "      <th>60</th>\n",
       "      <td>25</td>\n",
       "      <td>0.6</td>\n",
       "      <td>0.999963</td>\n",
       "      <td>0.920021</td>\n",
       "      <td>240.434928</td>\n",
       "      <td>11466.103791</td>\n",
       "    </tr>\n",
       "    <tr>\n",
       "      <th>61</th>\n",
       "      <td>25</td>\n",
       "      <td>0.65</td>\n",
       "      <td>0.999972</td>\n",
       "      <td>0.913975</td>\n",
       "      <td>210.203943</td>\n",
       "      <td>11653.734909</td>\n",
       "    </tr>\n",
       "    <tr>\n",
       "      <th>62</th>\n",
       "      <td>25</td>\n",
       "      <td>0.7</td>\n",
       "      <td>0.999957</td>\n",
       "      <td>0.928266</td>\n",
       "      <td>260.351717</td>\n",
       "      <td>10720.398621</td>\n",
       "    </tr>\n",
       "  </tbody>\n",
       "</table>\n",
       "<p>63 rows × 6 columns</p>\n",
       "</div>"
      ],
      "text/plain": [
       "   param_max_depth param_max_features  mean_train_r2  mean_test_r2  \\\n",
       "0               15                0.4       0.991701      0.928407   \n",
       "1               15               0.45       0.992508      0.912186   \n",
       "2               15                0.5       0.993238      0.913499   \n",
       "3               15               0.55       0.993950      0.922256   \n",
       "4               15                0.6       0.994502      0.926172   \n",
       "5               15               0.65       0.994300      0.937052   \n",
       "6               15                0.7       0.993977      0.924968   \n",
       "7               18                0.4       0.998214      0.937729   \n",
       "8               18               0.45       0.998318      0.928233   \n",
       "9               18                0.5       0.997993      0.900347   \n",
       "10              18               0.55       0.998671      0.927937   \n",
       "11              18                0.6       0.998187      0.916620   \n",
       "12              18               0.65       0.998757      0.927204   \n",
       "13              18                0.7       0.998233      0.923767   \n",
       "14              19                0.4       0.998903      0.917540   \n",
       "15              19               0.45       0.999083      0.926104   \n",
       "16              19                0.5       0.999174      0.931407   \n",
       "17              19               0.55       0.999047      0.922274   \n",
       "18              19                0.6       0.999059      0.936835   \n",
       "19              19               0.65       0.999023      0.903422   \n",
       "20              19                0.7       0.999086      0.917501   \n",
       "21              20                0.4       0.999350      0.922953   \n",
       "22              20               0.45       0.999181      0.930712   \n",
       "23              20                0.5       0.999490      0.912863   \n",
       "24              20               0.55       0.999531      0.916936   \n",
       "25              20                0.6       0.999325      0.924554   \n",
       "26              20               0.65       0.999505      0.932768   \n",
       "27              20                0.7       0.999489      0.924584   \n",
       "28              21                0.4       0.999692      0.931677   \n",
       "29              21               0.45       0.999705      0.913317   \n",
       "..             ...                ...            ...           ...   \n",
       "33              21               0.65       0.999734      0.926714   \n",
       "34              21                0.7       0.999714      0.916871   \n",
       "35              22                0.4       0.999739      0.911256   \n",
       "36              22               0.45       0.999804      0.931165   \n",
       "37              22                0.5       0.999804      0.922098   \n",
       "38              22               0.55       0.999831      0.929604   \n",
       "39              22                0.6       0.999836      0.901375   \n",
       "40              22               0.65       0.999833      0.924348   \n",
       "41              22                0.7       0.999645      0.923109   \n",
       "42              23                0.4       0.999841      0.890632   \n",
       "43              23               0.45       0.999884      0.931002   \n",
       "44              23                0.5       0.999855      0.905554   \n",
       "45              23               0.55       0.999866      0.918018   \n",
       "46              23                0.6       0.999908      0.923874   \n",
       "47              23               0.65       0.999921      0.932416   \n",
       "48              23                0.7       0.999909      0.924881   \n",
       "49              24                0.4       0.999905      0.912037   \n",
       "50              24               0.45       0.999884      0.918241   \n",
       "51              24                0.5       0.999908      0.929151   \n",
       "52              24               0.55       0.999947      0.932137   \n",
       "53              24                0.6       0.999941      0.933967   \n",
       "54              24               0.65       0.999842      0.923292   \n",
       "55              24                0.7       0.999952      0.919964   \n",
       "56              25                0.4       0.999956      0.919560   \n",
       "57              25               0.45       0.999952      0.891256   \n",
       "58              25                0.5       0.999954      0.930701   \n",
       "59              25               0.55       0.999948      0.921779   \n",
       "60              25                0.6       0.999963      0.920021   \n",
       "61              25               0.65       0.999972      0.913975   \n",
       "62              25                0.7       0.999957      0.928266   \n",
       "\n",
       "    mean_train_root_mean_square_error  mean_test_root_mean_square_error  \n",
       "0                         3612.813418                      10649.886781  \n",
       "1                         3433.952060                      11988.783722  \n",
       "2                         3260.775483                      11877.615952  \n",
       "3                         3093.178543                      11067.520481  \n",
       "4                         2942.410119                      10915.213158  \n",
       "5                         2997.099620                       9971.745032  \n",
       "6                         3083.605511                      10945.547612  \n",
       "7                         1676.489675                      10043.611256  \n",
       "8                         1626.131633                      10616.135275  \n",
       "9                         1774.854141                      12740.850411  \n",
       "10                        1448.155836                      10612.192595  \n",
       "11                        1691.781966                      11427.861815  \n",
       "12                        1399.286973                      10818.674693  \n",
       "13                        1670.805986                      10992.252774  \n",
       "14                        1316.107576                      11544.653966  \n",
       "15                        1203.537643                      10906.473349  \n",
       "16                        1139.961882                      10380.903617  \n",
       "17                        1227.881209                      11130.445087  \n",
       "18                        1217.067711                      10053.642327  \n",
       "19                        1239.701334                      12604.183492  \n",
       "20                        1201.118759                      11539.074187  \n",
       "21                        1011.934423                      11265.734139  \n",
       "22                        1136.002034                      10475.139948  \n",
       "23                         894.608492                      11855.589105  \n",
       "24                         858.633037                      11502.567434  \n",
       "25                        1031.892587                      10934.319872  \n",
       "26                         883.294775                      10416.451883  \n",
       "27                         900.215574                      10911.650278  \n",
       "28                         696.195808                      10431.399316  \n",
       "29                         681.264285                      11789.377213  \n",
       "..                                ...                               ...  \n",
       "33                         647.538974                      10798.782914  \n",
       "34                         671.410588                      11452.513576  \n",
       "35                         641.372897                      11840.907838  \n",
       "36                         556.991362                      10487.651331  \n",
       "37                         554.695928                      11070.138865  \n",
       "38                         517.003831                      10606.452779  \n",
       "39                         508.654037                      12449.991287  \n",
       "40                         513.152435                      11204.997991  \n",
       "41                         744.460262                      11063.207429  \n",
       "42                         500.259890                      13256.471215  \n",
       "43                         427.802774                      10480.968432  \n",
       "44                         478.912434                      11961.135676  \n",
       "45                         461.271031                      11449.040912  \n",
       "46                         381.877799                      11036.049545  \n",
       "47                         352.780051                      10320.073103  \n",
       "48                         377.747666                      11019.287479  \n",
       "49                         386.551875                      11810.041576  \n",
       "50                         427.654531                      11386.628807  \n",
       "51                         380.198079                      10588.005090  \n",
       "52                         290.512152                      10443.039515  \n",
       "53                         304.767198                      10252.339775  \n",
       "54                         496.131058                      11086.802927  \n",
       "55                         276.036071                      11305.090650  \n",
       "56                         262.621434                      11326.962808  \n",
       "57                         276.316130                      13087.816567  \n",
       "58                         270.032731                      10505.780532  \n",
       "59                         284.973669                      11363.354988  \n",
       "60                         240.434928                      11466.103791  \n",
       "61                         210.203943                      11653.734909  \n",
       "62                         260.351717                      10720.398621  \n",
       "\n",
       "[63 rows x 6 columns]"
      ]
     },
     "execution_count": 69,
     "metadata": {},
     "output_type": "execute_result"
    }
   ],
   "source": [
    "gridsearch_df_res_tree_v2 = pd.DataFrame(grid_search_tree_v2.cv_results_)\n",
    "\n",
    "#Lets convert the negative MSE into RMSE first.\n",
    "gridsearch_df_res_tree_v2['mean_train_root_mean_square_error'] = np.sqrt(-gridsearch_df_res_tree_v2\n",
    "                                                                      .loc[:,'mean_train_neg_mean_squared_error'])\n",
    "gridsearch_df_res_tree_v2['mean_test_root_mean_square_error'] = np.sqrt(-gridsearch_df_res_tree_v2\n",
    "                                                                     .loc[:,'mean_test_neg_mean_squared_error'])\n",
    "\n",
    "#view results.\n",
    "gridsearch_df_res_tree_v2.loc[:,(['param_max_depth',\n",
    "                                  'param_max_features',\n",
    "                                  'mean_train_r2',\n",
    "                                  'mean_test_r2',\n",
    "                                  'mean_train_root_mean_square_error',\n",
    "                                  'mean_test_root_mean_square_error'])]"
   ]
  },
  {
   "cell_type": "code",
   "execution_count": 70,
   "metadata": {},
   "outputs": [
    {
     "data": {
      "text/html": [
       "<div>\n",
       "<style scoped>\n",
       "    .dataframe tbody tr th:only-of-type {\n",
       "        vertical-align: middle;\n",
       "    }\n",
       "\n",
       "    .dataframe tbody tr th {\n",
       "        vertical-align: top;\n",
       "    }\n",
       "\n",
       "    .dataframe thead th {\n",
       "        text-align: right;\n",
       "    }\n",
       "</style>\n",
       "<table border=\"1\" class=\"dataframe\">\n",
       "  <thead>\n",
       "    <tr style=\"text-align: right;\">\n",
       "      <th></th>\n",
       "      <th>param_max_depth</th>\n",
       "      <th>param_max_features</th>\n",
       "      <th>mean_train_r2</th>\n",
       "      <th>mean_test_r2</th>\n",
       "      <th>mean_train_root_mean_square_error</th>\n",
       "      <th>mean_test_root_mean_square_error</th>\n",
       "    </tr>\n",
       "  </thead>\n",
       "  <tbody>\n",
       "    <tr>\n",
       "      <th>5</th>\n",
       "      <td>15</td>\n",
       "      <td>0.65</td>\n",
       "      <td>0.994300</td>\n",
       "      <td>0.937052</td>\n",
       "      <td>2997.099620</td>\n",
       "      <td>9971.745032</td>\n",
       "    </tr>\n",
       "    <tr>\n",
       "      <th>7</th>\n",
       "      <td>18</td>\n",
       "      <td>0.4</td>\n",
       "      <td>0.998214</td>\n",
       "      <td>0.937729</td>\n",
       "      <td>1676.489675</td>\n",
       "      <td>10043.611256</td>\n",
       "    </tr>\n",
       "    <tr>\n",
       "      <th>16</th>\n",
       "      <td>19</td>\n",
       "      <td>0.5</td>\n",
       "      <td>0.999174</td>\n",
       "      <td>0.931407</td>\n",
       "      <td>1139.961882</td>\n",
       "      <td>10380.903617</td>\n",
       "    </tr>\n",
       "    <tr>\n",
       "      <th>18</th>\n",
       "      <td>19</td>\n",
       "      <td>0.6</td>\n",
       "      <td>0.999059</td>\n",
       "      <td>0.936835</td>\n",
       "      <td>1217.067711</td>\n",
       "      <td>10053.642327</td>\n",
       "    </tr>\n",
       "    <tr>\n",
       "      <th>22</th>\n",
       "      <td>20</td>\n",
       "      <td>0.45</td>\n",
       "      <td>0.999181</td>\n",
       "      <td>0.930712</td>\n",
       "      <td>1136.002034</td>\n",
       "      <td>10475.139948</td>\n",
       "    </tr>\n",
       "    <tr>\n",
       "      <th>26</th>\n",
       "      <td>20</td>\n",
       "      <td>0.65</td>\n",
       "      <td>0.999505</td>\n",
       "      <td>0.932768</td>\n",
       "      <td>883.294775</td>\n",
       "      <td>10416.451883</td>\n",
       "    </tr>\n",
       "    <tr>\n",
       "      <th>28</th>\n",
       "      <td>21</td>\n",
       "      <td>0.4</td>\n",
       "      <td>0.999692</td>\n",
       "      <td>0.931677</td>\n",
       "      <td>696.195808</td>\n",
       "      <td>10431.399316</td>\n",
       "    </tr>\n",
       "    <tr>\n",
       "      <th>31</th>\n",
       "      <td>21</td>\n",
       "      <td>0.55</td>\n",
       "      <td>0.999696</td>\n",
       "      <td>0.930071</td>\n",
       "      <td>693.154802</td>\n",
       "      <td>10558.528009</td>\n",
       "    </tr>\n",
       "    <tr>\n",
       "      <th>36</th>\n",
       "      <td>22</td>\n",
       "      <td>0.45</td>\n",
       "      <td>0.999804</td>\n",
       "      <td>0.931165</td>\n",
       "      <td>556.991362</td>\n",
       "      <td>10487.651331</td>\n",
       "    </tr>\n",
       "    <tr>\n",
       "      <th>43</th>\n",
       "      <td>23</td>\n",
       "      <td>0.45</td>\n",
       "      <td>0.999884</td>\n",
       "      <td>0.931002</td>\n",
       "      <td>427.802774</td>\n",
       "      <td>10480.968432</td>\n",
       "    </tr>\n",
       "    <tr>\n",
       "      <th>47</th>\n",
       "      <td>23</td>\n",
       "      <td>0.65</td>\n",
       "      <td>0.999921</td>\n",
       "      <td>0.932416</td>\n",
       "      <td>352.780051</td>\n",
       "      <td>10320.073103</td>\n",
       "    </tr>\n",
       "    <tr>\n",
       "      <th>52</th>\n",
       "      <td>24</td>\n",
       "      <td>0.55</td>\n",
       "      <td>0.999947</td>\n",
       "      <td>0.932137</td>\n",
       "      <td>290.512152</td>\n",
       "      <td>10443.039515</td>\n",
       "    </tr>\n",
       "    <tr>\n",
       "      <th>53</th>\n",
       "      <td>24</td>\n",
       "      <td>0.6</td>\n",
       "      <td>0.999941</td>\n",
       "      <td>0.933967</td>\n",
       "      <td>304.767198</td>\n",
       "      <td>10252.339775</td>\n",
       "    </tr>\n",
       "    <tr>\n",
       "      <th>58</th>\n",
       "      <td>25</td>\n",
       "      <td>0.5</td>\n",
       "      <td>0.999954</td>\n",
       "      <td>0.930701</td>\n",
       "      <td>270.032731</td>\n",
       "      <td>10505.780532</td>\n",
       "    </tr>\n",
       "  </tbody>\n",
       "</table>\n",
       "</div>"
      ],
      "text/plain": [
       "   param_max_depth param_max_features  mean_train_r2  mean_test_r2  \\\n",
       "5               15               0.65       0.994300      0.937052   \n",
       "7               18                0.4       0.998214      0.937729   \n",
       "16              19                0.5       0.999174      0.931407   \n",
       "18              19                0.6       0.999059      0.936835   \n",
       "22              20               0.45       0.999181      0.930712   \n",
       "26              20               0.65       0.999505      0.932768   \n",
       "28              21                0.4       0.999692      0.931677   \n",
       "31              21               0.55       0.999696      0.930071   \n",
       "36              22               0.45       0.999804      0.931165   \n",
       "43              23               0.45       0.999884      0.931002   \n",
       "47              23               0.65       0.999921      0.932416   \n",
       "52              24               0.55       0.999947      0.932137   \n",
       "53              24                0.6       0.999941      0.933967   \n",
       "58              25                0.5       0.999954      0.930701   \n",
       "\n",
       "    mean_train_root_mean_square_error  mean_test_root_mean_square_error  \n",
       "5                         2997.099620                       9971.745032  \n",
       "7                         1676.489675                      10043.611256  \n",
       "16                        1139.961882                      10380.903617  \n",
       "18                        1217.067711                      10053.642327  \n",
       "22                        1136.002034                      10475.139948  \n",
       "26                         883.294775                      10416.451883  \n",
       "28                         696.195808                      10431.399316  \n",
       "31                         693.154802                      10558.528009  \n",
       "36                         556.991362                      10487.651331  \n",
       "43                         427.802774                      10480.968432  \n",
       "47                         352.780051                      10320.073103  \n",
       "52                         290.512152                      10443.039515  \n",
       "53                         304.767198                      10252.339775  \n",
       "58                         270.032731                      10505.780532  "
      ]
     },
     "execution_count": 70,
     "metadata": {},
     "output_type": "execute_result"
    }
   ],
   "source": [
    "#Isolate best results from the 63 models that were trained. \n",
    "b_r2 = gridsearch_df_res_tree_v2.loc[:,'mean_test_r2'] > 0.93\n",
    "b_RMSE = gridsearch_df_res_tree_v2.loc[:,'mean_test_root_mean_square_error'] < 11000\n",
    "\n",
    "#Visualize best results\n",
    "gridsearch_df_res_tree_v2.loc[b_r2&b_RMSE,(['param_max_depth',\n",
    "                                            'param_max_features',\n",
    "                                            'mean_train_r2',\n",
    "                                            'mean_test_r2',\n",
    "                                            'mean_train_root_mean_square_error',\n",
    "                                            'mean_test_root_mean_square_error'])]"
   ]
  },
  {
   "cell_type": "code",
   "execution_count": 71,
   "metadata": {},
   "outputs": [
    {
     "data": {
      "text/plain": [
       "0.9377293056265608"
      ]
     },
     "execution_count": 71,
     "metadata": {},
     "output_type": "execute_result"
    }
   ],
   "source": [
    "gridsearch_df_res_tree_v2.loc[:,'mean_test_r2'].max()"
   ]
  },
  {
   "cell_type": "code",
   "execution_count": 72,
   "metadata": {},
   "outputs": [
    {
     "data": {
      "text/plain": [
       "9971.745032327908"
      ]
     },
     "execution_count": 72,
     "metadata": {},
     "output_type": "execute_result"
    }
   ],
   "source": [
    "gridsearch_df_res_tree_v2.loc[:,'mean_test_root_mean_square_error'].min()"
   ]
  },
  {
   "cell_type": "markdown",
   "metadata": {},
   "source": [
    "_Hyper tuning parameters led to the decision tree with optimum parameters of max depth of 19 and max features of 0.60. This had the validation test score of 0.934 and RMSE of 9,971._"
   ]
  },
  {
   "cell_type": "markdown",
   "metadata": {},
   "source": [
    "### Test tuned parameter against the test set."
   ]
  },
  {
   "cell_type": "code",
   "execution_count": 73,
   "metadata": {},
   "outputs": [
    {
     "name": "stdout",
     "output_type": "stream",
     "text": [
      "Test score: 0.86\n",
      "Test RMSE score: 15479.02\n"
     ]
    }
   ],
   "source": [
    "final_model = grid_search_tree_v2.best_estimator_\n",
    "\n",
    "final_predictions = final_model.predict(X_test_scaled)\n",
    "\n",
    "from sklearn.metrics import mean_squared_error\n",
    "\n",
    "final_mse = mean_squared_error(y_test,final_predictions)\n",
    "final_rmse = np.sqrt(final_mse)\n",
    "\n",
    "final_score = final_model.score(X_test_scaled,y_test)\n",
    "\n",
    "print('Test score: {:.2f}'.format(final_score))\n",
    "print('Test RMSE score: {:.2f}'.format(final_rmse))"
   ]
  },
  {
   "cell_type": "markdown",
   "metadata": {},
   "source": [
    "It's done! Our decision tree regressor had a score of 0.86 on the test set after parameter tuning. The RMSE score is higher than I would have liked however. "
   ]
  },
  {
   "cell_type": "code",
   "execution_count": null,
   "metadata": {},
   "outputs": [],
   "source": []
  }
 ],
 "metadata": {
  "kernelspec": {
   "display_name": "Python 3",
   "language": "python",
   "name": "python3"
  },
  "language_info": {
   "codemirror_mode": {
    "name": "ipython",
    "version": 3
   },
   "file_extension": ".py",
   "mimetype": "text/x-python",
   "name": "python",
   "nbconvert_exporter": "python",
   "pygments_lexer": "ipython3",
   "version": "3.7.1"
  }
 },
 "nbformat": 4,
 "nbformat_minor": 2
}
